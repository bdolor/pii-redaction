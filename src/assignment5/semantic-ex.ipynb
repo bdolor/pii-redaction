{
 "cells": [
  {
   "cell_type": "code",
   "execution_count": 12,
   "metadata": {
    "collapsed": true,
    "ExecuteTime": {
     "end_time": "2023-07-11T00:20:44.547288Z",
     "start_time": "2023-07-11T00:20:44.546523Z"
    }
   },
   "outputs": [],
   "source": [
    "import nltk\n",
    "from nltk.sem import Valuation, Model\n",
    "\n",
    "# Explore the nltk.sem package, the semantics package of NLTK.\n",
    "\n",
    "v = [('adam', 'b1'), ('betty', 'g1'), ('fido', 'd1'),\n",
    "     ('girl', set(['g1', 'g2'])), ('boy', set(['b1', 'b2'])), ('dog', set(['d1'])),\n",
    "     ('love', set([('b1', 'g1'), ('b2', 'g2'), ('g1', 'b1'), ('g2', 'b1')]))]\n",
    "\n",
    "\"\"\"\n",
    "Valuation: A dictionary which represents a model-theoretic Valuation of non-logical constants. Keys are strings representing the constants to be interpreted, and values correspond to individuals (represented as strings) and n-ary relations (represented as sets of tuples of strings)\n",
    "\"\"\"\n",
    "val = Valuation(v)\n",
    "\n",
    "\"\"\"\n",
    "Domain: Set-theoretic domain of the value-space of a Valuation. A set of entities representing the domain of discourse of the model\n",
    "\"\"\"\n",
    "dom = val.domain\n",
    "\n",
    "\"\"\"\n",
    "Model: A first order model is a domain *D* of discourse and a valuation *V*\n",
    "\"\"\"\n",
    "m = Model(dom, val)"
   ]
  },
  {
   "cell_type": "code",
   "execution_count": 13,
   "outputs": [
    {
     "name": "stdout",
     "output_type": "stream",
     "text": [
      "\n",
      "******************************\n",
      "Propositional Formulas Demo\n",
      "******************************\n",
      "(Propositional constants treated as nullary predicates)\n",
      "\n",
      "Model m1:\n",
      " Domain = set(),\n",
      "Valuation = \n",
      "{'P': True, 'Q': True, 'R': False}\n",
      "******************************\n",
      "The value of '(P & Q)' is: True\n",
      "The value of '(P & R)' is: False\n",
      "The value of '- P' is: False\n",
      "The value of '- R' is: True\n",
      "The value of '- - P' is: True\n",
      "The value of '- (P & R)' is: True\n",
      "The value of '(P | R)' is: True\n",
      "The value of '(R | P)' is: True\n",
      "The value of '(R | R)' is: False\n",
      "The value of '(- P | R)' is: False\n",
      "The value of '(P | - P)' is: True\n",
      "The value of '(P -> Q)' is: True\n",
      "The value of '(P -> R)' is: False\n",
      "The value of '(R -> P)' is: True\n",
      "The value of '(P <-> P)' is: True\n",
      "The value of '(R <-> R)' is: True\n",
      "The value of '(P <-> R)' is: False\n"
     ]
    }
   ],
   "source": [
    "# Propositional logic demo\n",
    "# Example of a propositional model\n",
    "nltk.sem.evaluate.demo(1)"
   ],
   "metadata": {
    "collapsed": false,
    "ExecuteTime": {
     "end_time": "2023-07-11T00:20:47.195666Z",
     "start_time": "2023-07-11T00:20:47.186376Z"
    }
   }
  },
  {
   "cell_type": "code",
   "execution_count": 14,
   "outputs": [
    {
     "name": "stdout",
     "output_type": "stream",
     "text": [
      "\n",
      "******************************\n",
      "Models Demo\n",
      "******************************\n",
      "Model m2:\n",
      " -------------- \n",
      " Domain = {'b1', 'd1', 'b2', 'g2', 'g1'},\n",
      "Valuation = \n",
      "{'adam': 'b1',\n",
      " 'betty': 'g1',\n",
      " 'boy': {('b2',), ('b1',)},\n",
      " 'dog': {('d1',)},\n",
      " 'fido': 'd1',\n",
      " 'girl': {('g1',), ('g2',)},\n",
      " 'love': {('b1', 'g1'), ('g2', 'b1'), ('b2', 'g2'), ('g1', 'b1')}}\n",
      "Variable assignment =  g[b1/x][g2/y]\n",
      "\n",
      "The interpretation of 'adam' in m2 is b1\n",
      "The interpretation of 'boy' in m2 is {('b2',), ('b1',)}\n",
      "The interpretation of 'love' in m2 is {('b1', 'g1'), ('g2', 'b1'), ('b2', 'g2'), ('g1', 'b1')}\n",
      "The interpretation of 'walks' in m2 is Undefined\n",
      "The interpretation of 'x' in m2 is b1\n",
      "The interpretation of 'y' in m2 is g2\n",
      "The interpretation of 'z' in m2 is Undefined\n",
      "boy(adam) evaluates to Undefined\n",
      "walks(('adam',)) evaluates to Undefined\n",
      "love(('adam', 'y')) evaluates to False\n",
      "love(('y', 'adam')) evaluates to True\n"
     ]
    }
   ],
   "source": [
    "# First order model demo\n",
    "# Example of a first-order model\n",
    "nltk.sem.evaluate.demo(2, trace=2)"
   ],
   "metadata": {
    "collapsed": false,
    "ExecuteTime": {
     "end_time": "2023-07-11T00:20:47.868474Z",
     "start_time": "2023-07-11T00:20:47.860972Z"
    }
   }
  },
  {
   "cell_type": "code",
   "execution_count": 15,
   "outputs": [
    {
     "name": "stdout",
     "output_type": "stream",
     "text": [
      "\n",
      "******************************\n",
      "FOL Formulas Demo\n",
      "******************************\n",
      "The value of 'love (adam, betty)' is: True\n",
      "The value of '(adam = mia)' is: Undefined\n",
      "The value of '\\x. (boy(x) | girl(x))' is: {'b1': True, 'd1': False, 'b2': True, 'g2': True, 'g1': True}\n",
      "The value of '\\x. boy(x)(adam)' is: True\n",
      "The value of '\\x y. love(x, y)' is: {'b1': {'b1': False, 'd1': False, 'b2': False, 'g2': False, 'g1': True}, 'd1': {'b1': False, 'd1': False, 'b2': False, 'g2': False, 'g1': False}, 'b2': {'b1': False, 'd1': False, 'b2': False, 'g2': True, 'g1': False}, 'g2': {'b1': True, 'd1': False, 'b2': False, 'g2': False, 'g1': False}, 'g1': {'b1': True, 'd1': False, 'b2': False, 'g2': False, 'g1': False}}\n",
      "The value of '\\x y. love(x, y)(adam)(betty)' is: True\n",
      "The value of '\\x y. love(x, y)(adam, betty)' is: True\n",
      "The value of '\\x y. (boy(x) & love(x, y))' is: {'b1': {'b1': False, 'd1': False, 'b2': False, 'g2': False, 'g1': True}, 'd1': {'b1': False, 'd1': False, 'b2': False, 'g2': False, 'g1': False}, 'b2': {'b1': False, 'd1': False, 'b2': False, 'g2': True, 'g1': False}, 'g2': {'b1': False, 'd1': False, 'b2': False, 'g2': False, 'g1': False}, 'g1': {'b1': False, 'd1': False, 'b2': False, 'g2': False, 'g1': False}}\n",
      "The value of '\\x. exists y. (boy(x) & love(x, y))' is: {'b1': True, 'd1': False, 'b2': True, 'g2': False, 'g1': False}\n",
      "The value of 'exists z1. boy(z1)' is: True\n",
      "The value of 'exists x. (boy(x) &  -(x = adam))' is: True\n",
      "The value of 'exists x. (boy(x) & all y. love(y, x))' is: False\n",
      "The value of 'all x. (boy(x) | girl(x))' is: False\n",
      "The value of 'all x. (girl(x) -> exists y. boy(y) & love(x, y))' is: Undefined\n",
      "The value of 'exists x. (boy(x) & all y. (girl(y) -> love(y, x)))' is: True\n",
      "The value of 'exists x. (boy(x) & all y. (girl(y) -> love(x, y)))' is: False\n",
      "The value of 'all x. (dog(x) -> - girl(x))' is: True\n",
      "The value of 'exists x. exists y. (love(x, y) & love(x, y))' is: True\n"
     ]
    }
   ],
   "source": [
    "# First order sentences demo\n",
    "# Interpretation of closed expressions in a first-order model\n",
    "nltk.sem.evaluate.demo(3)"
   ],
   "metadata": {
    "collapsed": false,
    "ExecuteTime": {
     "end_time": "2023-07-11T00:20:48.821263Z",
     "start_time": "2023-07-11T00:20:48.753402Z"
    }
   }
  },
  {
   "cell_type": "code",
   "execution_count": 16,
   "outputs": [
    {
     "name": "stdout",
     "output_type": "stream",
     "text": [
      "\n",
      "******************************\n",
      "Satisfiers Demo\n",
      "******************************\n",
      "boy(x)\n",
      "(x = x)\n",
      "(boy(x) | girl(x))\n",
      "(boy(x) & girl(x))\n",
      "love(adam, x)\n",
      "love(x, adam)\n",
      "-(x = adam)\n",
      "exists z22. love(x, z22)\n",
      "exists y. love(y, x)\n",
      "all y. (girl(y) -> love(x, y))\n",
      "all y. (girl(y) -> love(y, x))\n",
      "all y. (girl(y) -> (boy(x) & love(y, x)))\n",
      "(boy(x) & all y. (girl(y) -> love(x, y)))\n",
      "(boy(x) & all y. (girl(y) -> love(y, x)))\n",
      "(boy(x) & exists y. (girl(y) & love(y, x)))\n",
      "(girl(x) -> dog(x))\n",
      "all y. (dog(y) -> (x = y))\n",
      "exists y. love(y, x)\n",
      "exists y. (love(adam, y) & love(y, x))\n",
      "The satisfiers of 'boy(x)' are: {'b2', 'b1'}\n",
      "The satisfiers of '(x = x)' are: {'b1', 'd1', 'b2', 'g2', 'g1'}\n",
      "The satisfiers of '(boy(x) | girl(x))' are: {'b2', 'b1', 'g2', 'g1'}\n",
      "The satisfiers of '(boy(x) & girl(x))' are: set()\n",
      "The satisfiers of 'love(adam,x)' are: {'g1'}\n",
      "The satisfiers of 'love(x,adam)' are: {'g2', 'g1'}\n",
      "The satisfiers of '-(x = adam)' are: {'b2', 'd1', 'g2', 'g1'}\n",
      "The satisfiers of 'exists z22.love(x,z22)' are: {'b2', 'b1', 'g2', 'g1'}\n",
      "The satisfiers of 'exists y.love(y,x)' are: {'b1', 'g2', 'g1'}\n",
      "The satisfiers of 'all y.(girl(y) -> love(x,y))' are: set()\n",
      "The satisfiers of 'all y.(girl(y) -> love(y,x))' are: {'b1'}\n",
      "The satisfiers of 'all y.(girl(y) -> (boy(x) & love(y,x)))' are: {'b1'}\n",
      "The satisfiers of '(boy(x) & all y.(girl(y) -> love(x,y)))' are: set()\n",
      "The satisfiers of '(boy(x) & all y.(girl(y) -> love(y,x)))' are: {'b1'}\n",
      "The satisfiers of '(boy(x) & exists y.(girl(y) & love(y,x)))' are: {'b1'}\n",
      "The satisfiers of '(girl(x) -> dog(x))' are: {'b2', 'b1', 'd1'}\n",
      "The satisfiers of 'all y.(dog(y) -> (x = y))' are: {'d1'}\n",
      "The satisfiers of 'exists y.love(y,x)' are: {'b1', 'g2', 'g1'}\n",
      "The satisfiers of 'exists y.(love(adam,y) & love(y,x))' are: {'b1'}\n"
     ]
    }
   ],
   "source": [
    "# satisfaction of open formulas\n",
    "# Satisfiers of an open formula in a first order model\n",
    "nltk.sem.evaluate.demo(4)"
   ],
   "metadata": {
    "collapsed": false,
    "ExecuteTime": {
     "end_time": "2023-07-11T00:20:49.465889Z",
     "start_time": "2023-07-11T00:20:49.463043Z"
    }
   }
  }
 ],
 "metadata": {
  "kernelspec": {
   "display_name": "Python 3",
   "language": "python",
   "name": "python3"
  },
  "language_info": {
   "codemirror_mode": {
    "name": "ipython",
    "version": 2
   },
   "file_extension": ".py",
   "mimetype": "text/x-python",
   "name": "python",
   "nbconvert_exporter": "python",
   "pygments_lexer": "ipython2",
   "version": "2.7.6"
  }
 },
 "nbformat": 4,
 "nbformat_minor": 0
}
