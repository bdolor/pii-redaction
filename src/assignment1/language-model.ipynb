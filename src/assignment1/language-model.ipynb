{
 "cells": [
  {
   "cell_type": "markdown",
   "source": [
    "# Output the first few rows of the CONLL2003 language model"
   ],
   "metadata": {
    "collapsed": false
   }
  },
  {
   "cell_type": "code",
   "execution_count": 1,
   "outputs": [
    {
     "name": "stderr",
     "output_type": "stream",
     "text": [
      "Found cached dataset conll2003 (/Users/bpayne/.cache/huggingface/datasets/conll2003/conll2003/1.0.0/9a4d16a94f8674ba3466315300359b0acd891b68b6c8743ddf60b9c702adce98)\n"
     ]
    },
    {
     "data": {
      "text/plain": "  0%|          | 0/3 [00:00<?, ?it/s]",
      "application/vnd.jupyter.widget-view+json": {
       "version_major": 2,
       "version_minor": 0,
       "model_id": "acb6702f50ea4e4cba66697911792bc0"
      }
     },
     "metadata": {},
     "output_type": "display_data"
    },
    {
     "data": {
      "text/plain": "    id                                             tokens  \\\n0    0  [EU, rejects, German, call, to, boycott, Briti...   \n1    1                                 [Peter, Blackburn]   \n2    2                             [BRUSSELS, 1996-08-22]   \n3    3  [The, European, Commission, said, on, Thursday...   \n4    4  [Germany, 's, representative, to, the, Europea...   \n5    5  [\", We, do, n't, support, any, such, recommend...   \n6    6  [He, said, further, scientific, study, was, re...   \n7    7  [He, said, a, proposal, last, month, by, EU, F...   \n8    8  [Fischler, proposed, EU-wide, measures, after,...   \n9    9  [But, Fischler, agreed, to, review, his, propo...   \n10  10  [Spanish, Farm, Minister, Loyola, de, Palacio,...   \n11  11                                                [.]   \n12  12  [Only, France, and, Britain, backed, Fischler,...   \n13  13  [The, EU, 's, scientific, veterinary, and, mul...   \n14  14  [Sheep, have, long, been, known, to, contract,...   \n15  15  [British, farmers, denied, on, Thursday, there...   \n16  16  [\", What, we, have, to, be, extremely, careful...   \n17  17  [Bonn, has, led, efforts, to, protect, public,...   \n18  18  [Germany, imported, 47,600, sheep, from, Brita...   \n19  19  [It, brought, in, 4,275, tonnes, of, British, ...   \n\n                                             pos_tags  \\\n0                 [22, 42, 16, 21, 35, 37, 16, 21, 7]   \n1                                            [22, 22]   \n2                                            [22, 11]   \n3   [12, 22, 22, 38, 15, 22, 28, 38, 15, 16, 21, 3...   \n4   [22, 27, 21, 35, 12, 22, 22, 27, 16, 21, 22, 2...   \n5   [0, 28, 41, 30, 37, 12, 16, 21, 15, 28, 41, 30...   \n6   [28, 38, 16, 16, 21, 38, 40, 10, 15, 28, 38, 4...   \n7   [28, 38, 12, 21, 16, 21, 15, 22, 22, 22, 22, 2...   \n8   [17, 40, 22, 42, 15, 24, 15, 22, 10, 22, 43, 1...   \n9   [10, 22, 38, 35, 37, 29, 21, 15, 12, 22, 27, 2...   \n10  [22, 22, 22, 22, 22, 22, 38, 31, 40, 22, 15, 1...   \n11                                                [7]   \n12                [30, 22, 10, 22, 38, 22, 27, 21, 7]   \n13  [12, 22, 27, 16, 16, 10, 16, 24, 41, 16, 35, 3...   \n14  [22, 41, 30, 40, 40, 35, 21, 21, 6, 12, 16, 21...   \n15  [16, 24, 40, 15, 22, 13, 38, 12, 21, 35, 16, 2...   \n16  [0, 44, 28, 41, 35, 37, 30, 16, 15, 42, 46, 16...   \n17  [22, 42, 40, 24, 35, 37, 16, 21, 15, 21, 21, 3...   \n18  [22, 38, 11, 21, 15, 22, 16, 21, 6, 30, 21, 15...   \n19  [28, 38, 15, 11, 24, 15, 16, 21, 6, 12, 11, 21...   \n\n                                           chunk_tags  \\\n0                 [11, 21, 11, 12, 21, 22, 11, 12, 0]   \n1                                            [11, 12]   \n2                                            [11, 12]   \n3   [11, 12, 12, 21, 13, 11, 11, 21, 13, 11, 12, 1...   \n4   [11, 11, 12, 13, 11, 12, 12, 11, 12, 12, 12, 1...   \n5   [0, 11, 21, 22, 22, 11, 12, 12, 17, 11, 21, 22...   \n6   [11, 21, 11, 12, 12, 21, 22, 0, 17, 11, 21, 22...   \n7   [11, 21, 11, 12, 11, 12, 13, 11, 12, 12, 12, 1...   \n8   [11, 12, 12, 21, 13, 11, 13, 11, 12, 12, 11, 1...   \n9   [0, 11, 21, 22, 22, 11, 12, 13, 11, 12, 11, 12...   \n10  [11, 12, 12, 12, 12, 12, 21, 22, 22, 11, 13, 1...   \n11                                                [0]   \n12                [11, 12, 12, 12, 21, 11, 11, 12, 0]   \n13  [11, 12, 11, 12, 12, 12, 12, 12, 21, 1, 21, 22...   \n14  [11, 21, 22, 22, 22, 13, 11, 12, 0, 11, 12, 12...   \n15  [11, 12, 21, 13, 11, 11, 21, 11, 12, 13, 11, 1...   \n16  [0, 11, 11, 21, 22, 22, 1, 2, 13, 21, 3, 11, 1...   \n17  [11, 21, 22, 11, 21, 22, 11, 12, 13, 11, 12, 2...   \n18  [11, 21, 11, 12, 13, 11, 11, 12, 0, 11, 12, 13...   \n19  [11, 21, 13, 11, 12, 13, 11, 12, 0, 11, 12, 12...   \n\n                                             ner_tags  \n0                         [3, 0, 7, 0, 0, 0, 7, 0, 0]  \n1                                              [1, 2]  \n2                                              [5, 0]  \n3   [0, 3, 4, 0, 0, 0, 0, 0, 0, 7, 0, 0, 0, 0, 0, ...  \n4   [5, 0, 0, 0, 0, 3, 4, 0, 0, 0, 1, 2, 0, 0, 0, ...  \n5   [0, 0, 0, 0, 0, 0, 0, 0, 0, 0, 0, 0, 0, 0, 0, ...  \n6   [0, 0, 0, 0, 0, 0, 0, 0, 0, 0, 0, 0, 0, 0, 0, ...  \n7   [0, 0, 0, 0, 0, 0, 0, 3, 0, 0, 1, 2, 0, 0, 0, ...  \n8   [1, 0, 7, 0, 0, 0, 0, 5, 0, 5, 0, 0, 0, 0, 0, ...  \n9   [0, 1, 0, 0, 0, 0, 0, 0, 0, 3, 0, 0, 0, 0, 0, ...  \n10  [7, 0, 0, 1, 2, 2, 0, 0, 0, 1, 0, 0, 3, 0, 0, ...  \n11                                                [0]  \n12                        [0, 5, 0, 5, 0, 1, 0, 0, 0]  \n13  [0, 3, 0, 0, 0, 0, 0, 0, 0, 0, 0, 0, 0, 0, 0, ...  \n14  [0, 0, 0, 0, 0, 0, 0, 0, 0, 0, 0, 0, 0, 0, 7, ...  \n15  [7, 0, 0, 0, 0, 0, 0, 0, 0, 0, 0, 0, 0, 0, 0, ...  \n16  [0, 0, 0, 0, 0, 0, 0, 0, 0, 0, 0, 0, 0, 0, 0, ...  \n17  [5, 0, 0, 0, 0, 0, 0, 0, 0, 0, 0, 0, 0, 0, 0, ...  \n18      [5, 0, 0, 0, 0, 5, 0, 0, 0, 0, 0, 0, 0, 0, 0]  \n19   [0, 0, 0, 0, 0, 0, 7, 0, 0, 0, 0, 0, 0, 0, 0, 0]  ",
      "text/html": "<div>\n<style scoped>\n    .dataframe tbody tr th:only-of-type {\n        vertical-align: middle;\n    }\n\n    .dataframe tbody tr th {\n        vertical-align: top;\n    }\n\n    .dataframe thead th {\n        text-align: right;\n    }\n</style>\n<table border=\"1\" class=\"dataframe\">\n  <thead>\n    <tr style=\"text-align: right;\">\n      <th></th>\n      <th>id</th>\n      <th>tokens</th>\n      <th>pos_tags</th>\n      <th>chunk_tags</th>\n      <th>ner_tags</th>\n    </tr>\n  </thead>\n  <tbody>\n    <tr>\n      <th>0</th>\n      <td>0</td>\n      <td>[EU, rejects, German, call, to, boycott, Briti...</td>\n      <td>[22, 42, 16, 21, 35, 37, 16, 21, 7]</td>\n      <td>[11, 21, 11, 12, 21, 22, 11, 12, 0]</td>\n      <td>[3, 0, 7, 0, 0, 0, 7, 0, 0]</td>\n    </tr>\n    <tr>\n      <th>1</th>\n      <td>1</td>\n      <td>[Peter, Blackburn]</td>\n      <td>[22, 22]</td>\n      <td>[11, 12]</td>\n      <td>[1, 2]</td>\n    </tr>\n    <tr>\n      <th>2</th>\n      <td>2</td>\n      <td>[BRUSSELS, 1996-08-22]</td>\n      <td>[22, 11]</td>\n      <td>[11, 12]</td>\n      <td>[5, 0]</td>\n    </tr>\n    <tr>\n      <th>3</th>\n      <td>3</td>\n      <td>[The, European, Commission, said, on, Thursday...</td>\n      <td>[12, 22, 22, 38, 15, 22, 28, 38, 15, 16, 21, 3...</td>\n      <td>[11, 12, 12, 21, 13, 11, 11, 21, 13, 11, 12, 1...</td>\n      <td>[0, 3, 4, 0, 0, 0, 0, 0, 0, 7, 0, 0, 0, 0, 0, ...</td>\n    </tr>\n    <tr>\n      <th>4</th>\n      <td>4</td>\n      <td>[Germany, 's, representative, to, the, Europea...</td>\n      <td>[22, 27, 21, 35, 12, 22, 22, 27, 16, 21, 22, 2...</td>\n      <td>[11, 11, 12, 13, 11, 12, 12, 11, 12, 12, 12, 1...</td>\n      <td>[5, 0, 0, 0, 0, 3, 4, 0, 0, 0, 1, 2, 0, 0, 0, ...</td>\n    </tr>\n    <tr>\n      <th>5</th>\n      <td>5</td>\n      <td>[\", We, do, n't, support, any, such, recommend...</td>\n      <td>[0, 28, 41, 30, 37, 12, 16, 21, 15, 28, 41, 30...</td>\n      <td>[0, 11, 21, 22, 22, 11, 12, 12, 17, 11, 21, 22...</td>\n      <td>[0, 0, 0, 0, 0, 0, 0, 0, 0, 0, 0, 0, 0, 0, 0, ...</td>\n    </tr>\n    <tr>\n      <th>6</th>\n      <td>6</td>\n      <td>[He, said, further, scientific, study, was, re...</td>\n      <td>[28, 38, 16, 16, 21, 38, 40, 10, 15, 28, 38, 4...</td>\n      <td>[11, 21, 11, 12, 12, 21, 22, 0, 17, 11, 21, 22...</td>\n      <td>[0, 0, 0, 0, 0, 0, 0, 0, 0, 0, 0, 0, 0, 0, 0, ...</td>\n    </tr>\n    <tr>\n      <th>7</th>\n      <td>7</td>\n      <td>[He, said, a, proposal, last, month, by, EU, F...</td>\n      <td>[28, 38, 12, 21, 16, 21, 15, 22, 22, 22, 22, 2...</td>\n      <td>[11, 21, 11, 12, 11, 12, 13, 11, 12, 12, 12, 1...</td>\n      <td>[0, 0, 0, 0, 0, 0, 0, 3, 0, 0, 1, 2, 0, 0, 0, ...</td>\n    </tr>\n    <tr>\n      <th>8</th>\n      <td>8</td>\n      <td>[Fischler, proposed, EU-wide, measures, after,...</td>\n      <td>[17, 40, 22, 42, 15, 24, 15, 22, 10, 22, 43, 1...</td>\n      <td>[11, 12, 12, 21, 13, 11, 13, 11, 12, 12, 11, 1...</td>\n      <td>[1, 0, 7, 0, 0, 0, 0, 5, 0, 5, 0, 0, 0, 0, 0, ...</td>\n    </tr>\n    <tr>\n      <th>9</th>\n      <td>9</td>\n      <td>[But, Fischler, agreed, to, review, his, propo...</td>\n      <td>[10, 22, 38, 35, 37, 29, 21, 15, 12, 22, 27, 2...</td>\n      <td>[0, 11, 21, 22, 22, 11, 12, 13, 11, 12, 11, 12...</td>\n      <td>[0, 1, 0, 0, 0, 0, 0, 0, 0, 3, 0, 0, 0, 0, 0, ...</td>\n    </tr>\n    <tr>\n      <th>10</th>\n      <td>10</td>\n      <td>[Spanish, Farm, Minister, Loyola, de, Palacio,...</td>\n      <td>[22, 22, 22, 22, 22, 22, 38, 31, 40, 22, 15, 1...</td>\n      <td>[11, 12, 12, 12, 12, 12, 21, 22, 22, 11, 13, 1...</td>\n      <td>[7, 0, 0, 1, 2, 2, 0, 0, 0, 1, 0, 0, 3, 0, 0, ...</td>\n    </tr>\n    <tr>\n      <th>11</th>\n      <td>11</td>\n      <td>[.]</td>\n      <td>[7]</td>\n      <td>[0]</td>\n      <td>[0]</td>\n    </tr>\n    <tr>\n      <th>12</th>\n      <td>12</td>\n      <td>[Only, France, and, Britain, backed, Fischler,...</td>\n      <td>[30, 22, 10, 22, 38, 22, 27, 21, 7]</td>\n      <td>[11, 12, 12, 12, 21, 11, 11, 12, 0]</td>\n      <td>[0, 5, 0, 5, 0, 1, 0, 0, 0]</td>\n    </tr>\n    <tr>\n      <th>13</th>\n      <td>13</td>\n      <td>[The, EU, 's, scientific, veterinary, and, mul...</td>\n      <td>[12, 22, 27, 16, 16, 10, 16, 24, 41, 16, 35, 3...</td>\n      <td>[11, 12, 11, 12, 12, 12, 12, 12, 21, 1, 21, 22...</td>\n      <td>[0, 3, 0, 0, 0, 0, 0, 0, 0, 0, 0, 0, 0, 0, 0, ...</td>\n    </tr>\n    <tr>\n      <th>14</th>\n      <td>14</td>\n      <td>[Sheep, have, long, been, known, to, contract,...</td>\n      <td>[22, 41, 30, 40, 40, 35, 21, 21, 6, 12, 16, 21...</td>\n      <td>[11, 21, 22, 22, 22, 13, 11, 12, 0, 11, 12, 12...</td>\n      <td>[0, 0, 0, 0, 0, 0, 0, 0, 0, 0, 0, 0, 0, 0, 7, ...</td>\n    </tr>\n    <tr>\n      <th>15</th>\n      <td>15</td>\n      <td>[British, farmers, denied, on, Thursday, there...</td>\n      <td>[16, 24, 40, 15, 22, 13, 38, 12, 21, 35, 16, 2...</td>\n      <td>[11, 12, 21, 13, 11, 11, 21, 11, 12, 13, 11, 1...</td>\n      <td>[7, 0, 0, 0, 0, 0, 0, 0, 0, 0, 0, 0, 0, 0, 0, ...</td>\n    </tr>\n    <tr>\n      <th>16</th>\n      <td>16</td>\n      <td>[\", What, we, have, to, be, extremely, careful...</td>\n      <td>[0, 44, 28, 41, 35, 37, 30, 16, 15, 42, 46, 16...</td>\n      <td>[0, 11, 11, 21, 22, 22, 1, 2, 13, 21, 3, 11, 1...</td>\n      <td>[0, 0, 0, 0, 0, 0, 0, 0, 0, 0, 0, 0, 0, 0, 0, ...</td>\n    </tr>\n    <tr>\n      <th>17</th>\n      <td>17</td>\n      <td>[Bonn, has, led, efforts, to, protect, public,...</td>\n      <td>[22, 42, 40, 24, 35, 37, 16, 21, 15, 21, 21, 3...</td>\n      <td>[11, 21, 22, 11, 21, 22, 11, 12, 13, 11, 12, 2...</td>\n      <td>[5, 0, 0, 0, 0, 0, 0, 0, 0, 0, 0, 0, 0, 0, 0, ...</td>\n    </tr>\n    <tr>\n      <th>18</th>\n      <td>18</td>\n      <td>[Germany, imported, 47,600, sheep, from, Brita...</td>\n      <td>[22, 38, 11, 21, 15, 22, 16, 21, 6, 30, 21, 15...</td>\n      <td>[11, 21, 11, 12, 13, 11, 11, 12, 0, 11, 12, 13...</td>\n      <td>[5, 0, 0, 0, 0, 5, 0, 0, 0, 0, 0, 0, 0, 0, 0]</td>\n    </tr>\n    <tr>\n      <th>19</th>\n      <td>19</td>\n      <td>[It, brought, in, 4,275, tonnes, of, British, ...</td>\n      <td>[28, 38, 15, 11, 24, 15, 16, 21, 6, 12, 11, 21...</td>\n      <td>[11, 21, 13, 11, 12, 13, 11, 12, 0, 11, 12, 12...</td>\n      <td>[0, 0, 0, 0, 0, 0, 7, 0, 0, 0, 0, 0, 0, 0, 0, 0]</td>\n    </tr>\n  </tbody>\n</table>\n</div>"
     },
     "execution_count": 1,
     "metadata": {},
     "output_type": "execute_result"
    }
   ],
   "source": [
    "import pandas as pd\n",
    "from datasets import load_dataset\n",
    "\n",
    "conll2003 = load_dataset(\"conll2003\")\n",
    "\n",
    "# Load the CoNLL-2003 dataset\n",
    "data = conll2003['train']\n",
    "\n",
    "# Display the first few rows in the language model\n",
    "df = pd.DataFrame(data)\n",
    "df.head(20)\n"
   ],
   "metadata": {
    "collapsed": false,
    "ExecuteTime": {
     "end_time": "2023-06-20T22:46:11.071397Z",
     "start_time": "2023-06-20T22:46:07.072310Z"
    }
   }
  },
  {
   "cell_type": "markdown",
   "source": [
    "# Output the Named Entities and Labels present in the text"
   ],
   "metadata": {
    "collapsed": false
   }
  },
  {
   "cell_type": "code",
   "execution_count": 1,
   "outputs": [
    {
     "name": "stdout",
     "output_type": "stream",
     "text": [
      "Entity: Billy, Label: I-PER\n",
      "Entity: Bob, Label: I-PER\n",
      "Entity: At, Label: I-ORG\n",
      "Entity: ##hab, Label: I-ORG\n",
      "Entity: ##as, Label: I-ORG\n",
      "Entity: ##ca, Label: I-ORG\n",
      "Entity: University, Label: I-ORG\n",
      "Entity: At, Label: I-LOC\n",
      "Entity: ##hab, Label: I-LOC\n",
      "Entity: ##as, Label: I-LOC\n",
      "Entity: ##ca, Label: I-LOC\n",
      "Entity: AB, Label: I-LOC\n",
      "Entity: Canada, Label: I-LOC\n",
      "Entity: Intel, Label: I-MISC\n",
      "Entity: Systems, Label: I-MISC\n"
     ]
    }
   ],
   "source": [
    "import torch\n",
    "from transformers import pipeline\n",
    "\n",
    "ner_pipeline = pipeline(\"ner\", model=\"dbmdz/bert-large-cased-finetuned-conll03-english\", tokenizer=\"dbmdz/bert-large-cased-finetuned-conll03-english\")\n",
    "\n",
    "text = \"Billy Bob is a masters student at Athabasca University, located in Athabasca, AB Canada. He is pursuing a Master of Science in Information Systems with a focus on Intelligent Systems\"\n",
    "\n",
    "ner_results = ner_pipeline(text)\n",
    "\n",
    "for result in ner_results:\n",
    "    print(f\"Entity: {result['word']}, Label: {result['entity']}\")\n"
   ],
   "metadata": {
    "collapsed": false,
    "ExecuteTime": {
     "end_time": "2023-06-20T22:48:13.749040Z",
     "start_time": "2023-06-20T22:47:41.183393Z"
    }
   }
  },
  {
   "cell_type": "code",
   "execution_count": null,
   "outputs": [],
   "source": [],
   "metadata": {
    "collapsed": false
   }
  }
 ],
 "metadata": {
  "kernelspec": {
   "display_name": "Python 3",
   "language": "python",
   "name": "python3"
  },
  "language_info": {
   "codemirror_mode": {
    "name": "ipython",
    "version": 2
   },
   "file_extension": ".py",
   "mimetype": "text/x-python",
   "name": "python",
   "nbconvert_exporter": "python",
   "pygments_lexer": "ipython2",
   "version": "2.7.6"
  }
 },
 "nbformat": 4,
 "nbformat_minor": 0
}
