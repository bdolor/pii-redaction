{
 "cells": [
  {
   "cell_type": "markdown",
   "source": [
    "# Output the first few rows of the CONLL2003 language model"
   ],
   "metadata": {
    "collapsed": false
   }
  },
  {
   "cell_type": "code",
   "execution_count": 23,
   "outputs": [
    {
     "name": "stderr",
     "output_type": "stream",
     "text": [
      "Found cached dataset conll2003 (/Users/bpayne/.cache/huggingface/datasets/conll2003/conll2003/1.0.0/9a4d16a94f8674ba3466315300359b0acd891b68b6c8743ddf60b9c702adce98)\n"
     ]
    },
    {
     "data": {
      "text/plain": "  0%|          | 0/3 [00:00<?, ?it/s]",
      "application/vnd.jupyter.widget-view+json": {
       "version_major": 2,
       "version_minor": 0,
       "model_id": "e2b0af8aec8b4cd5aae63de53cdb0d40"
      }
     },
     "metadata": {},
     "output_type": "display_data"
    },
    {
     "data": {
      "text/plain": "  id                                             tokens  \\\n0  0  [EU, rejects, German, call, to, boycott, Briti...   \n1  1                                 [Peter, Blackburn]   \n2  2                             [BRUSSELS, 1996-08-22]   \n3  3  [The, European, Commission, said, on, Thursday...   \n4  4  [Germany, 's, representative, to, the, Europea...   \n\n                                            pos_tags  \\\n0                [22, 42, 16, 21, 35, 37, 16, 21, 7]   \n1                                           [22, 22]   \n2                                           [22, 11]   \n3  [12, 22, 22, 38, 15, 22, 28, 38, 15, 16, 21, 3...   \n4  [22, 27, 21, 35, 12, 22, 22, 27, 16, 21, 22, 2...   \n\n                                          chunk_tags  \\\n0                [11, 21, 11, 12, 21, 22, 11, 12, 0]   \n1                                           [11, 12]   \n2                                           [11, 12]   \n3  [11, 12, 12, 21, 13, 11, 11, 21, 13, 11, 12, 1...   \n4  [11, 11, 12, 13, 11, 12, 12, 11, 12, 12, 12, 1...   \n\n                                            ner_tags  \n0                        [3, 0, 7, 0, 0, 0, 7, 0, 0]  \n1                                             [1, 2]  \n2                                             [5, 0]  \n3  [0, 3, 4, 0, 0, 0, 0, 0, 0, 7, 0, 0, 0, 0, 0, ...  \n4  [5, 0, 0, 0, 0, 3, 4, 0, 0, 0, 1, 2, 0, 0, 0, ...  ",
      "text/html": "<div>\n<style scoped>\n    .dataframe tbody tr th:only-of-type {\n        vertical-align: middle;\n    }\n\n    .dataframe tbody tr th {\n        vertical-align: top;\n    }\n\n    .dataframe thead th {\n        text-align: right;\n    }\n</style>\n<table border=\"1\" class=\"dataframe\">\n  <thead>\n    <tr style=\"text-align: right;\">\n      <th></th>\n      <th>id</th>\n      <th>tokens</th>\n      <th>pos_tags</th>\n      <th>chunk_tags</th>\n      <th>ner_tags</th>\n    </tr>\n  </thead>\n  <tbody>\n    <tr>\n      <th>0</th>\n      <td>0</td>\n      <td>[EU, rejects, German, call, to, boycott, Briti...</td>\n      <td>[22, 42, 16, 21, 35, 37, 16, 21, 7]</td>\n      <td>[11, 21, 11, 12, 21, 22, 11, 12, 0]</td>\n      <td>[3, 0, 7, 0, 0, 0, 7, 0, 0]</td>\n    </tr>\n    <tr>\n      <th>1</th>\n      <td>1</td>\n      <td>[Peter, Blackburn]</td>\n      <td>[22, 22]</td>\n      <td>[11, 12]</td>\n      <td>[1, 2]</td>\n    </tr>\n    <tr>\n      <th>2</th>\n      <td>2</td>\n      <td>[BRUSSELS, 1996-08-22]</td>\n      <td>[22, 11]</td>\n      <td>[11, 12]</td>\n      <td>[5, 0]</td>\n    </tr>\n    <tr>\n      <th>3</th>\n      <td>3</td>\n      <td>[The, European, Commission, said, on, Thursday...</td>\n      <td>[12, 22, 22, 38, 15, 22, 28, 38, 15, 16, 21, 3...</td>\n      <td>[11, 12, 12, 21, 13, 11, 11, 21, 13, 11, 12, 1...</td>\n      <td>[0, 3, 4, 0, 0, 0, 0, 0, 0, 7, 0, 0, 0, 0, 0, ...</td>\n    </tr>\n    <tr>\n      <th>4</th>\n      <td>4</td>\n      <td>[Germany, 's, representative, to, the, Europea...</td>\n      <td>[22, 27, 21, 35, 12, 22, 22, 27, 16, 21, 22, 2...</td>\n      <td>[11, 11, 12, 13, 11, 12, 12, 11, 12, 12, 12, 1...</td>\n      <td>[5, 0, 0, 0, 0, 3, 4, 0, 0, 0, 1, 2, 0, 0, 0, ...</td>\n    </tr>\n  </tbody>\n</table>\n</div>"
     },
     "execution_count": 23,
     "metadata": {},
     "output_type": "execute_result"
    }
   ],
   "source": [
    "import pandas as pd\n",
    "from datasets import load_dataset\n",
    "conll2003 = load_dataset(\"conll2003\")\n",
    "\n",
    "# Load the CoNLL-2003 dataset\n",
    "data = conll2003['train']\n",
    "\n",
    "# Display the first few rows in the language model\n",
    "df = pd.DataFrame(data)\n",
    "df.head()\n"
   ],
   "metadata": {
    "collapsed": false,
    "ExecuteTime": {
     "end_time": "2023-06-03T21:41:13.513677Z",
     "start_time": "2023-06-03T21:41:09.123602Z"
    }
   }
  },
  {
   "cell_type": "markdown",
   "source": [
    "# Output the Named Entities and Labels present in the text"
   ],
   "metadata": {
    "collapsed": false
   }
  },
  {
   "cell_type": "code",
   "execution_count": 26,
   "outputs": [
    {
     "name": "stdout",
     "output_type": "stream",
     "text": [
      "Entity: Billy, Label: I-PER\n",
      "Entity: Bob, Label: I-PER\n",
      "Entity: At, Label: I-ORG\n",
      "Entity: ##hab, Label: I-ORG\n",
      "Entity: ##as, Label: I-ORG\n",
      "Entity: ##ca, Label: I-ORG\n",
      "Entity: University, Label: I-ORG\n",
      "Entity: At, Label: I-LOC\n",
      "Entity: ##hab, Label: I-LOC\n",
      "Entity: ##as, Label: I-LOC\n",
      "Entity: ##ca, Label: I-LOC\n",
      "Entity: AB, Label: I-LOC\n",
      "Entity: Canada, Label: I-LOC\n",
      "Entity: Intel, Label: I-MISC\n",
      "Entity: Systems, Label: I-MISC\n"
     ]
    }
   ],
   "source": [
    "from transformers import pipeline\n",
    "\n",
    "ner_pipeline = pipeline(\"ner\", model=\"dbmdz/bert-large-cased-finetuned-conll03-english\", tokenizer=\"dbmdz/bert-large-cased-finetuned-conll03-english\")\n",
    "\n",
    "text = \"Billy Bob is a masters student at Athabasca University, located in Athabasca, AB Canada. He is pursuing a Master of Science in Information Systems with a focus on Intelligent Systems\"\n",
    "\n",
    "ner_results = ner_pipeline(text)\n",
    "\n",
    "for result in ner_results:\n",
    "    print(f\"Entity: {result['word']}, Label: {result['entity']}\")\n"
   ],
   "metadata": {
    "collapsed": false,
    "ExecuteTime": {
     "end_time": "2023-06-03T22:02:26.785057Z",
     "start_time": "2023-06-03T22:02:17.026600Z"
    }
   }
  },
  {
   "cell_type": "code",
   "execution_count": null,
   "outputs": [],
   "source": [],
   "metadata": {
    "collapsed": false
   }
  }
 ],
 "metadata": {
  "kernelspec": {
   "display_name": "Python 3",
   "language": "python",
   "name": "python3"
  },
  "language_info": {
   "codemirror_mode": {
    "name": "ipython",
    "version": 2
   },
   "file_extension": ".py",
   "mimetype": "text/x-python",
   "name": "python",
   "nbconvert_exporter": "python",
   "pygments_lexer": "ipython2",
   "version": "2.7.6"
  }
 },
 "nbformat": 4,
 "nbformat_minor": 0
}
