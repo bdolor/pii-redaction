{
 "cells": [
  {
   "cell_type": "markdown",
   "source": [
    "# Data Exploration\n",
    "## Evidence of having removed the entities 'QUANTITY', 'MISC', 'CODE' and replacing DATETIME with DATE, LOC with GPE"
   ],
   "metadata": {
    "collapsed": false
   }
  },
  {
   "cell_type": "code",
   "execution_count": 6,
   "outputs": [
    {
     "name": "stdout",
     "output_type": "stream",
     "text": [
      "[('DATE', 33274), ('ORG', 26794), ('PERSON', 14996), ('GPE', 5892), ('DEM', 5094)]\n"
     ]
    }
   ],
   "source": [
    "import json\n",
    "from collections import Counter\n",
    "\n",
    "# Training examples in the required format\n",
    "with open('../../data/annotated/train_data.json', \"r\", encoding=\"utf-8\") as train_data:\n",
    "    train = json.load(train_data)\n",
    "\n",
    "    training_raw = []\n",
    "\n",
    "    # labels\n",
    "    count_per_entity_new = Counter()\n",
    "    ents=[]\n",
    "    for documents in train:\n",
    "        for entities in documents['spans']:\n",
    "            ent = entities['entity_type']\n",
    "            if ent is not None:\n",
    "                count_per_entity_new[ent] +=1\n",
    "\n",
    "    print(count_per_entity_new.most_common())"
   ],
   "metadata": {
    "collapsed": false,
    "ExecuteTime": {
     "end_time": "2023-07-26T20:56:14.214659Z",
     "start_time": "2023-07-26T20:56:13.547045Z"
    }
   }
  },
  {
   "cell_type": "code",
   "execution_count": null,
   "outputs": [],
   "source": [],
   "metadata": {
    "collapsed": false
   }
  }
 ],
 "metadata": {
  "kernelspec": {
   "display_name": "Python 3",
   "language": "python",
   "name": "python3"
  },
  "language_info": {
   "codemirror_mode": {
    "name": "ipython",
    "version": 2
   },
   "file_extension": ".py",
   "mimetype": "text/x-python",
   "name": "python",
   "nbconvert_exporter": "python",
   "pygments_lexer": "ipython2",
   "version": "2.7.6"
  }
 },
 "nbformat": 4,
 "nbformat_minor": 0
}
