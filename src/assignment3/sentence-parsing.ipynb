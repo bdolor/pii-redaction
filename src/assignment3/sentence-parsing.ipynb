{
 "cells": [
  {
   "cell_type": "code",
   "execution_count": 21,
   "outputs": [],
   "source": [
    "import re\n",
    "\n",
    "# try a different parser\n",
    "import srsly\n",
    "import json\n",
    "import spacy\n",
    "nlp = spacy.load(\"en_core_web_md\")\n",
    "# nlp.get_pipe(\"parser\")\n",
    "\n",
    "with open(\"../../data/resume.jsonl\", \"r\", encoding=\"utf-8\") as f1:\n",
    "    resume = json.load(f1)\n",
    "\n",
    "    sent_parse = []\n",
    "    for k in resume:\n",
    "        doc = nlp(k[\"text\"])\n",
    "        for s in doc.sents:\n",
    "            if len(s) > 2:\n",
    "                try:\n",
    "                    # f = re.sub(r\"\\s\\-\\s+\", \"\", s)\n",
    "                    sent_parse.append({'text': f\"{s}\"})\n",
    "                except Exception as e:\n",
    "                    continue\n",
    "\n",
    "srsly.write_json(\"../../data/resume_sentences_parser.jsonl\", sent_parse)"
   ],
   "metadata": {
    "collapsed": false,
    "ExecuteTime": {
     "end_time": "2023-07-23T22:57:02.259424Z",
     "start_time": "2023-07-23T22:56:44.482890Z"
    }
   }
  },
  {
   "cell_type": "code",
   "execution_count": 17,
   "outputs": [],
   "source": [
    "import spacy\n",
    "import random\n",
    "# create a silver annotated dataset with sentences (train/test)\n",
    "\n",
    "'''\n",
    "Rehearsal updates run an initial copy of the model over some data\n",
    "'''\n",
    "nlp = spacy.load(\"en_core_web_md\")\n",
    "\n",
    "with open(\"../../data/resume_sentences_parser.jsonl\", \"r\", encoding=\"utf-8\") as f1:\n",
    "    resume = json.load(f1)\n",
    "\n",
    "    limit = 0.2\n",
    "    train = list()\n",
    "    test = list()\n",
    "    for k in resume:\n",
    "        doc = nlp(k[\"text\"])\n",
    "        for sent in doc.sents:\n",
    "            labels = list()\n",
    "            for e in sent.ents:\n",
    "                labels.append([e.start_char, e.end_char, e.label_])\n",
    "            if labels:\n",
    "                spacy_entry = (sent.text, {\"entities\": labels})\n",
    "                if random.uniform(0, 1) > limit:\n",
    "                    train.append(spacy_entry)\n",
    "                else:\n",
    "                    test.append(spacy_entry)\n",
    "\n",
    "    srsly.write_json(\"../../data/annotated/rehearse_silver_sent_train.jsonl\", train)\n",
    "    srsly.write_json(\"../../data/annotated/rehearse_silver_sent_test.jsonl\", test)"
   ],
   "metadata": {
    "collapsed": false,
    "ExecuteTime": {
     "end_time": "2023-07-23T22:38:50.932240Z",
     "start_time": "2023-07-23T22:38:19.830209Z"
    }
   }
  }
 ],
 "metadata": {
  "kernelspec": {
   "display_name": "Python 3",
   "language": "python",
   "name": "python3"
  },
  "language_info": {
   "codemirror_mode": {
    "name": "ipython",
    "version": 2
   },
   "file_extension": ".py",
   "mimetype": "text/x-python",
   "name": "python",
   "nbconvert_exporter": "python",
   "pygments_lexer": "ipython2",
   "version": "2.7.6"
  }
 },
 "nbformat": 4,
 "nbformat_minor": 0
}
