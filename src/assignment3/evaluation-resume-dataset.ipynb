{
 "cells": [
  {
   "cell_type": "code",
   "execution_count": 26,
   "outputs": [],
   "source": [
    "import spacy\n",
    "from spacy.tokens import DocBin\n",
    "import json\n",
    "\n",
    "with open('../../data/annotated/rehearse_silver_sent_train.jsonl', \"r\", encoding=\"utf-8\") as f1, open('../../data/annotated/rehearse_silver_sent_test.jsonl', \"r\", encoding=\"utf-8\") as f2:\n",
    "\n",
    "    train = json.load(f1)\n",
    "    test = json.load(f2)\n",
    "\n",
    "    # TRAIN\n",
    "    nlp = spacy.blank(\"en\")\n",
    "    db = DocBin()\n",
    "    for text, annotations in train:\n",
    "        doc = nlp(text)\n",
    "        ents = []\n",
    "        for start, end, label in annotations.get(\"entities\"):\n",
    "            span = doc.char_span(start, end, label=label)\n",
    "            if span:\n",
    "                ents.append(span)\n",
    "        if ents:\n",
    "            doc.ents = ents\n",
    "            db.add(doc)\n",
    "    db.to_disk(\"../../data/annotated/train_silver_resume.spacy\")\n",
    "    del db, nlp\n",
    "\n",
    "    # TEST\n",
    "    nlp = spacy.blank(\"en\")\n",
    "    db = DocBin()\n",
    "    for text, annotations in test:\n",
    "        doc = nlp(text)\n",
    "        ents = []\n",
    "        for start, end, label in annotations.get(\"entities\"):\n",
    "            span = doc.char_span(start, end, label=label)\n",
    "            if span:\n",
    "                ents.append(span)\n",
    "        if ents:\n",
    "            doc.ents = ents\n",
    "            db.add(doc)\n",
    "\n",
    "    db.to_disk(\"../../data/annotated/test_silver_resume.spacy\")"
   ],
   "metadata": {
    "collapsed": false,
    "ExecuteTime": {
     "end_time": "2023-07-23T23:55:05.400037Z",
     "start_time": "2023-07-23T23:55:04.174150Z"
    }
   }
  },
  {
   "cell_type": "code",
   "execution_count": 28,
   "outputs": [
    {
     "name": "stdout",
     "output_type": "stream",
     "text": [
      "\u001B[38;5;4mℹ Using CPU\u001B[0m\r\n",
      "\u001B[38;5;4mℹ To switch to GPU 0, use the option: --gpu-id 0\u001B[0m\r\n",
      "\u001B[1m\r\n",
      "================================== Results ==================================\u001B[0m\r\n",
      "\r\n",
      "TOK      100.00\r\n",
      "TAG      -     \r\n",
      "POS      -     \r\n",
      "MORPH    -     \r\n",
      "LEMMA    -     \r\n",
      "UAS      -     \r\n",
      "LAS      -     \r\n",
      "NER P    99.74 \r\n",
      "NER R    99.96 \r\n",
      "NER F    99.85 \r\n",
      "SENT P   -     \r\n",
      "SENT R   -     \r\n",
      "SENT F   -     \r\n",
      "SPEED    8804  \r\n",
      "\r\n",
      "\u001B[1m\r\n",
      "=============================== NER (per type) ===============================\u001B[0m\r\n",
      "\r\n",
      "                   P        R        F\r\n",
      "GPE            99.58   100.00    99.79\r\n",
      "PERSON        100.00   100.00   100.00\r\n",
      "DATE           99.55   100.00    99.78\r\n",
      "ORG            99.75    99.94    99.84\r\n",
      "PRODUCT       100.00   100.00   100.00\r\n",
      "CARDINAL      100.00    99.81    99.90\r\n",
      "LAW           100.00   100.00   100.00\r\n",
      "FAC           100.00   100.00   100.00\r\n",
      "ORDINAL       100.00   100.00   100.00\r\n",
      "WORK_OF_ART   100.00   100.00   100.00\r\n",
      "NORP          100.00   100.00   100.00\r\n",
      "LOC            98.21   100.00    99.10\r\n",
      "LANGUAGE      100.00   100.00   100.00\r\n",
      "EVENT         100.00   100.00   100.00\r\n",
      "MONEY         100.00   100.00   100.00\r\n",
      "PERCENT       100.00   100.00   100.00\r\n",
      "QUANTITY      100.00   100.00   100.00\r\n",
      "TIME          100.00   100.00   100.00\r\n",
      "\r\n"
     ]
    }
   ],
   "source": [
    "# the same model was used to build the silver annotated dataset so no surprise it performs well\n",
    "!python -m spacy benchmark accuracy \"en_core_web_md\" \"../../data/annotated/test_silver_resume.spacy\""
   ],
   "metadata": {
    "collapsed": false,
    "ExecuteTime": {
     "end_time": "2023-07-23T23:57:54.022403Z",
     "start_time": "2023-07-23T23:57:37.404664Z"
    }
   }
  },
  {
   "cell_type": "code",
   "execution_count": 29,
   "outputs": [
    {
     "name": "stdout",
     "output_type": "stream",
     "text": [
      "\u001B[38;5;4mℹ Using CPU\u001B[0m\r\n",
      "\u001B[38;5;4mℹ To switch to GPU 0, use the option: --gpu-id 0\u001B[0m\r\n",
      "\u001B[1m\r\n",
      "================================== Results ==================================\u001B[0m\r\n",
      "\r\n",
      "TOK     100.00\r\n",
      "NER P   59.93 \r\n",
      "NER R   24.95 \r\n",
      "NER F   35.23 \r\n",
      "SPEED   22330 \r\n",
      "\r\n",
      "\u001B[1m\r\n",
      "=============================== NER (per type) ===============================\u001B[0m\r\n",
      "\r\n",
      "                  P       R       F\r\n",
      "ORG           62.30   19.57   29.79\r\n",
      "GPE           47.30   28.46   35.53\r\n",
      "PERSON        42.15   28.98   34.34\r\n",
      "DATE          69.95   58.18   63.52\r\n",
      "PRODUCT        0.00    0.00    0.00\r\n",
      "ORDINAL        0.00    0.00    0.00\r\n",
      "DEM            0.00    0.00    0.00\r\n",
      "CARDINAL       0.00    0.00    0.00\r\n",
      "NORP           0.00    0.00    0.00\r\n",
      "LOC            0.00    0.00    0.00\r\n",
      "WORK_OF_ART    0.00    0.00    0.00\r\n",
      "FAC            0.00    0.00    0.00\r\n",
      "LANGUAGE       0.00    0.00    0.00\r\n",
      "EVENT          0.00    0.00    0.00\r\n",
      "QUANTITY       0.00    0.00    0.00\r\n",
      "MONEY          0.00    0.00    0.00\r\n",
      "LAW            0.00    0.00    0.00\r\n",
      "TIME           0.00    0.00    0.00\r\n",
      "PERCENT        0.00    0.00    0.00\r\n",
      "\r\n"
     ]
    }
   ],
   "source": [
    "# this model was trained on ECHR data and is being tested against resume data.\n",
    "!python -m spacy benchmark accuracy \"../../data/models/spacy/md/model-best\" \"../../data/annotated/test_silver_resume.spacy\""
   ],
   "metadata": {
    "collapsed": false,
    "ExecuteTime": {
     "end_time": "2023-07-23T23:59:35.807813Z",
     "start_time": "2023-07-23T23:59:30.544977Z"
    }
   }
  },
  {
   "cell_type": "code",
   "execution_count": 30,
   "outputs": [
    {
     "name": "stdout",
     "output_type": "stream",
     "text": [
      "\u001B[38;5;4mℹ Using CPU\u001B[0m\r\n",
      "\u001B[38;5;4mℹ To switch to GPU 0, use the option: --gpu-id 0\u001B[0m\r\n",
      "\u001B[1m\r\n",
      "================================== Results ==================================\u001B[0m\r\n",
      "\r\n",
      "TOK     100.00\r\n",
      "NER P   32.95 \r\n",
      "NER R   38.26 \r\n",
      "NER F   35.41 \r\n",
      "SPEED   2233  \r\n",
      "\r\n",
      "\u001B[1m\r\n",
      "=============================== NER (per type) ===============================\u001B[0m\r\n",
      "\r\n",
      "                      P        R        F\r\n",
      "PERSON            13.97    42.61    21.04\r\n",
      "ORG               42.16    44.89    43.48\r\n",
      "GPE               12.27    13.82    13.00\r\n",
      "DATE              63.87    27.73    38.67\r\n",
      "PRODUCT           94.74    46.55    62.43\r\n",
      "ORDINAL           90.00    81.82    85.71\r\n",
      "PHONE_NUMBER       0.00     0.00     0.00\r\n",
      "CARDINAL          96.43    45.76    62.07\r\n",
      "NRP                0.00     0.00     0.00\r\n",
      "NORP             100.00    10.53    19.05\r\n",
      "TITLE              0.00     0.00     0.00\r\n",
      "STREET_ADDRESS     0.00     0.00     0.00\r\n",
      "LOC              100.00    25.00    40.00\r\n",
      "ZIP_CODE           0.00     0.00     0.00\r\n",
      "AGE                0.00     0.00     0.00\r\n",
      "WORK_OF_ART       83.33    29.41    43.48\r\n",
      "IP_ADDRESS         0.00     0.00     0.00\r\n",
      "FAC              100.00    28.57    44.44\r\n",
      "EMAIL_ADDRESS      0.00     0.00     0.00\r\n",
      "LANGUAGE           0.00     0.00     0.00\r\n",
      "DOMAIN_NAME        0.00     0.00     0.00\r\n",
      "IBAN_CODE          0.00     0.00     0.00\r\n",
      "EVENT            100.00    25.00    40.00\r\n",
      "QUANTITY         100.00    71.43    83.33\r\n",
      "US_SSN             0.00     0.00     0.00\r\n",
      "MONEY            100.00   100.00   100.00\r\n",
      "LAW              100.00   100.00   100.00\r\n",
      "CREDIT_CARD        0.00     0.00     0.00\r\n",
      "TIME             100.00    50.00    66.67\r\n",
      "PERCENT            0.00     0.00     0.00\r\n",
      "\r\n"
     ]
    }
   ],
   "source": [
    "# this model was re-trained (2nd stage) on a synthetic dataset generated by presidio and is tested against resume data\n",
    "!python -m spacy benchmark accuracy \"../../data/models/spacy/md/2/model-best\" \"../../data/annotated/test_silver_resume.spacy\""
   ],
   "metadata": {
    "collapsed": false,
    "ExecuteTime": {
     "end_time": "2023-07-24T00:01:20.744269Z",
     "start_time": "2023-07-24T00:01:07.037356Z"
    }
   }
  },
  {
   "cell_type": "code",
   "execution_count": null,
   "outputs": [],
   "source": [],
   "metadata": {
    "collapsed": false
   }
  }
 ],
 "metadata": {
  "kernelspec": {
   "display_name": "Python 3",
   "language": "python",
   "name": "python3"
  },
  "language_info": {
   "codemirror_mode": {
    "name": "ipython",
    "version": 2
   },
   "file_extension": ".py",
   "mimetype": "text/x-python",
   "name": "python",
   "nbconvert_exporter": "python",
   "pygments_lexer": "ipython2",
   "version": "2.7.6"
  }
 },
 "nbformat": 4,
 "nbformat_minor": 0
}
