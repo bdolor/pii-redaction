{
 "cells": [
  {
   "cell_type": "code",
   "execution_count": null,
   "metadata": {
    "collapsed": true
   },
   "outputs": [],
   "source": [
    "!python -m spacy download en_core_web_md"
   ]
  },
  {
   "cell_type": "markdown",
   "source": [
    "# baseline with pretrained model"
   ],
   "metadata": {
    "collapsed": false
   }
  },
  {
   "cell_type": "code",
   "execution_count": 75,
   "outputs": [
    {
     "name": "stdout",
     "output_type": "stream",
     "text": [
      "\u001B[38;5;4mℹ Using CPU\u001B[0m\r\n",
      "\u001B[38;5;4mℹ To switch to GPU 0, use the option: --gpu-id 0\u001B[0m\r\n",
      "\u001B[1m\r\n",
      "================================== Results ==================================\u001B[0m\r\n",
      "\r\n",
      "TOK      100.00\r\n",
      "TAG      -     \r\n",
      "POS      -     \r\n",
      "MORPH    -     \r\n",
      "LEMMA    -     \r\n",
      "UAS      -     \r\n",
      "LAS      -     \r\n",
      "NER P    31.29 \r\n",
      "NER R    49.38 \r\n",
      "NER F    38.31 \r\n",
      "SENT P   -     \r\n",
      "SENT R   -     \r\n",
      "SENT F   -     \r\n",
      "SPEED    8520  \r\n",
      "\r\n",
      "\u001B[1m\r\n",
      "=============================== NER (per type) ===============================\u001B[0m\r\n",
      "\r\n",
      "                  P       R       F\r\n",
      "CARDINAL       0.00    0.00    0.00\r\n",
      "GPE           44.95   67.34   53.91\r\n",
      "ORG            9.57   13.56   11.22\r\n",
      "LAW            0.00    0.00    0.00\r\n",
      "NORP           0.00    0.00    0.00\r\n",
      "PERSON        18.41   20.68   19.48\r\n",
      "DATE          78.61   91.17   84.42\r\n",
      "ORDINAL        0.00    0.00    0.00\r\n",
      "DEM            0.00    0.00    0.00\r\n",
      "FAC            0.00    0.00    0.00\r\n",
      "TIME           0.00    0.00    0.00\r\n",
      "QUANTITY       0.00    0.00    0.00\r\n",
      "MONEY          0.00    0.00    0.00\r\n",
      "PERCENT        0.00    0.00    0.00\r\n",
      "LANGUAGE       0.00    0.00    0.00\r\n",
      "PRODUCT        0.00    0.00    0.00\r\n",
      "LOC            0.00    0.00    0.00\r\n",
      "WORK_OF_ART    0.00    0.00    0.00\r\n",
      "EVENT          0.00    0.00    0.00\r\n",
      "\r\n"
     ]
    }
   ],
   "source": [
    "!python -m spacy benchmark accuracy \"en_core_web_md\" \"../../data/annotated/dev.spacy\""
   ],
   "metadata": {
    "collapsed": false,
    "ExecuteTime": {
     "end_time": "2023-07-23T23:12:05.033866Z",
     "start_time": "2023-07-23T23:11:40.694416Z"
    }
   }
  },
  {
   "cell_type": "code",
   "execution_count": 73,
   "outputs": [
    {
     "name": "stdout",
     "output_type": "stream",
     "text": [
      "[('SIDDHARTH RAGHUVANSHI Roll', 'PERSON'), ('Computer Science & Engineering', 'ORG'), ('City Indian Institute of Technology', 'ORG'), ('Kharagpur Central Hindu School', 'ORG'), ('Varanasi', 'GPE'), ('Varanasi', 'GPE'), ('86.0%', 'PERCENT'), ('90.8%', 'PERCENT'), ('2011 2005', 'DATE'), ('2003', 'DATE'), ('116', 'CARDINAL'), ('AIEEE', 'GPE'), ('2006', 'DATE'), ('470,000', 'CARDINAL'), ('State', 'ORG'), ('8', 'CARDINAL'), ('Uttar Pradesh', 'GPE'), ('119', 'CARDINAL'), ('7th', 'ORDINAL'), ('National Science Olympiad, 2005', 'EVENT'), ('22', 'CARDINAL'), ('Central Institute for Proficiency', 'ORG'), ('English', 'LANGUAGE'), ('CIPEL', 'PERSON'), ('1%', 'PERCENT'), ('26968', 'CARDINAL'), ('National Standard Examination', 'ORG'), ('the past 4 years', 'DATE'), ('ACADEMIC PROJECTS M. Tech Project', 'ORG'), ('IIT', 'ORG'), ('Kharagpur', 'GPE'), ('Hadoop', 'ORG'), ('B. Tech Project', 'ORG'), ('IIT', 'ORG'), ('IIT Kharagpur May’08 \\uf0a7', 'ORG'), ('Byte Code Engineering Library', 'ORG'), ('INTERNSHIP Extreme Blue Internship Program', 'ORG'), ('IBM', 'ORG'), ('Pune', 'GPE'), ('India', 'GPE'), ('Business Perspective Technical Perspective', 'ORG'), ('Pune', 'GPE'), ('kirana', 'ORG'), ('Home Delivery', 'ORG'), ('Java EE', 'ORG'), ('XML', 'ORG'), ('IBM WebSphere Commerce', 'ORG'), ('10/10', 'CARDINAL'), ('summer', 'DATE'), ('IIT Kharagpur', 'ORG'), ('2009', 'DATE'), ('IIT Kharagpur Student Counselling Service', 'ORG'), ('Counselling Centre', 'ORG'), ('IIT Kharagpur', 'GPE'), ('5', 'CARDINAL'), ('a span of 6 months', 'DATE'), ('Feb’09', 'PERSON'), ('More than 100', 'CARDINAL'), ('every month', 'DATE'), ('Sep’10', 'PERSON'), ('Bitwise-2010', 'ORG'), ('3000', 'CARDINAL'), ('75', 'CARDINAL'), ('Spring Fest', 'EVENT'), ('2008', 'DATE'), ('inter hall OPENSOFT Competition', 'ORG'), ('2007-08', 'DATE'), ('National Sports Organization', 'ORG'), ('30', 'CARDINAL'), ('Lawn Tennis Team', 'ORG'), ('IIT Kharagpur’06', 'ORG')]\n"
     ]
    }
   ],
   "source": [
    "import spacy\n",
    "import re\n",
    "\n",
    "nlp = spacy.load('en_core_web_md')\n",
    "\n",
    "text = ['''SIDDHARTH RAGHUVANSHI                                Roll No. 06CS3025                                            DOB: 08/08/1988\n",
    "Email: siddharth.iitkharagpur@gmail.com                                                                                          Mobile No.:   +91 9932584135\n",
    "Degree/Certificate\n",
    "Dual Degree[B. Tech (H) + M. Tech]\n",
    "(Computer Science & Engineering)\n",
    "Class XII:  C.B.S.E.\n",
    "Class X:   C.B.S.E.\n",
    "ACADEMIC ACHIEVEMENTS\n",
    "Institute/ School, City\n",
    "Indian Institute of Technology, Kharagpur\n",
    "Central Hindu School, Varanasi\n",
    "St. Atulanand Convent School, Varanasi\n",
    "CGPA/ %  Completion\n",
    "8.26/10\n",
    "86.0%\n",
    "90.8%\n",
    "2011\n",
    "2005\n",
    "2003\n",
    "Competitive\n",
    "Examinations\n",
    "  All India Rank 116 in AIEEE, 2006 among 470,000 students, State Rank 8 in Uttar Pradesh.\n",
    "  All India Rank 119 in 7th National Science Olympiad, 2005.\n",
    "  All India Rank 22 in All India Level Mathematics & Science Test organized by Central Institute  for\n",
    "Proficiency in English Language (CIPEL).\n",
    "Scholastic\n",
    "Achievements\n",
    "  National top 1% out of 26968 candidates appeared in National Standard Examination in Physics’05\n",
    "  Receiving CBSE Merit Scholarship for the past 4 years.\n",
    "ACADEMIC PROJECTS\n",
    "M. Tech Project                                                                                      IIT Kharagpur                                           May’10-Nov’10\n",
    "•\n",
    "•\n",
    "Studied the performance of text indexing algorithms on Hadoop MapReduce architecture.\n",
    "Future work includes implementing more efficient indexing and retrieval techniques in MapReduce for distributed parallel\n",
    "computing.\n",
    "B. Tech Project                                                                                        IIT Kharagpur                                           Aug’09-May’10\n",
    "  Developed a software with can handle all sorts of query related to geographical information extracted from maps.\n",
    "  Developed a client interface which can fetch data from different incompatible geospatial web services and make that data\n",
    "compatible for resolving queries.\n",
    "Integrated my framework engine with different underlying heterogeneous spatial databases.\n",
    "\n",
    "Static Instrumentation Of Java Programs                                          IIT Kharagpur                                                   May’08\n",
    "  Developed a program using Byte Code Engineering Library to do automated testing of java program at byte code level.\n",
    "WORK EXPERIENCE / INTERNSHIP\n",
    "Extreme Blue Internship Program                                                                   ISL, IBM, Pune, India                                       May’09 – July’09\n",
    "Business\n",
    "Perspective\n",
    "Technical\n",
    "Perspective\n",
    " Achievements\n",
    "  Conducted survey in Pune region on the current home delivery status of organized retails\n",
    "\n",
    "Proposed and implemented a solution on how to increase home delivery sales in order to compete with the\n",
    "localized general (kirana) stores\n",
    "\n",
    "Built an independent Home Delivery module on Java EE platform using open standards such as XML and\n",
    "Web Services\n",
    "Integrated the Home Delivery module with IBM WebSphere Commerce.\n",
    "\n",
    "  Received highest grade 10/10 in summer internship evaluation at IIT Kharagpur, 2009.\n",
    "RELEVANT COURSES TAKEN\n",
    "  Machine learning\n",
    "  Algorithms-I\n",
    "  Algorithms-II\n",
    "Information Retrieval\n",
    "\n",
    "  Distributed Systems\n",
    "\n",
    "Probability and Statistics\n",
    "POSITION OF RESPONSIBILITY\n",
    "\n",
    "Student coordinator of IIT Kharagpur Student Counselling Service.\n",
    "  Student member of team that conceptualized and publicized Counselling Centre in IIT Kharagpur after 5 successive suicides\n",
    "in the campus within a span of 6 months in between Feb’09 and Jul’09.\n",
    "  More than 100 students are counselled every month.\n",
    "  No mishaps in the campus as of Sep’10 after the establishment of the centre.\n",
    "  Went through Gate Keepers Training to identify behavioral change in a person.\n",
    "  Managed  the  systems  team  of  Bitwise-2010,  an  international  algorithmic  intensive  programming  contest  leading  to  the\n",
    "participation of 3000 teams across 75 countries.\n",
    "\n",
    "Family Sub-head of accommodation team in Spring Fest, 2008.\n",
    "  Head boy of my Senior Secondary School (Central Hindu School).\n",
    "e\n",
    "EXTRA CURRICULAR ACHIEVEMENTS\n",
    "  Member of Silver winning team in inter hall OPENSOFT Competition in the session 2007-08.\n",
    "  National Sports Organization: Among Top 30 students in Lawn Tennis Team at IIT Kharagpur’06. ''']\n",
    "\n",
    "# normalize whitespace as per https://github.com/explosion/spaCy/discussions/10243\n",
    "r = []\n",
    "for t in text:\n",
    "    r.append(re.sub(r\"\\s+\", \" \", t))\n",
    "\n",
    "for doc in nlp.pipe(r, disable=[\"tagger\", \"parser\"]):\n",
    "    print([(ent.text, ent.label_) for ent in doc.ents])"
   ],
   "metadata": {
    "collapsed": false,
    "ExecuteTime": {
     "end_time": "2023-07-22T16:40:50.575434Z",
     "start_time": "2023-07-22T16:40:49.157368Z"
    }
   }
  },
  {
   "cell_type": "code",
   "execution_count": null,
   "outputs": [],
   "source": [
    "!python -m spacy init fill-config config/base_config_md.cfg config/config_md.cfg"
   ],
   "metadata": {
    "collapsed": false
   }
  },
  {
   "cell_type": "code",
   "execution_count": 41,
   "outputs": [
    {
     "name": "stdout",
     "output_type": "stream",
     "text": [
      "\u001B[1m\r\n",
      "============================ Data file validation ============================\u001B[0m\r\n",
      "\u001B[38;5;2m✔ Pipeline can be initialized with data\u001B[0m\r\n",
      "\u001B[38;5;2m✔ Corpus is loadable\u001B[0m\r\n",
      "\u001B[1m\r\n",
      "=============================== Training stats ===============================\u001B[0m\r\n",
      "Language: en\r\n",
      "Training pipeline: ner\r\n",
      "Components from other pipelines: ner\r\n",
      "1141 training docs\r\n",
      "127 evaluation docs\r\n",
      "\u001B[38;5;2m✔ No overlap between training and evaluation data\u001B[0m\r\n",
      "\u001B[1m\r\n",
      "============================== Vocab & Vectors ==============================\u001B[0m\r\n",
      "\u001B[38;5;4mℹ 1704123 total word(s) in the data (32105 unique)\u001B[0m\r\n",
      "\u001B[38;5;4mℹ 20000 vectors (514157 unique keys, 300 dimensions)\u001B[0m\r\n",
      "\u001B[38;5;3m⚠ 44850 words in training data without vectors (3%)\u001B[0m\r\n",
      "\u001B[1m\r\n",
      "========================== Named Entity Recognition ==========================\u001B[0m\r\n",
      "\u001B[38;5;4mℹ 19 label(s)\u001B[0m\r\n",
      "0 missing value(s) (tokens with '-' label)\r\n",
      "\u001B[38;5;3m⚠ Some model labels are not present in the train data. The model\r\n",
      "performance may be degraded for these labels after training: 'LOC', 'LANGUAGE',\r\n",
      "'PRODUCT', 'LAW', 'PERCENT', 'TIME', 'MONEY', 'CARDINAL', 'ORDINAL', 'QUANTITY',\r\n",
      "'WORK_OF_ART', 'NORP', 'FAC', 'EVENT'.\u001B[0m\r\n",
      "\u001B[38;5;2m✔ Good amount of examples for all labels\u001B[0m\r\n",
      "\u001B[38;5;2m✔ Examples without occurrences available for all labels\u001B[0m\r\n",
      "\u001B[38;5;2m✔ No entities consisting of or starting/ending with whitespace\u001B[0m\r\n",
      "\u001B[38;5;2m✔ No entities crossing sentence boundaries\u001B[0m\r\n",
      "\u001B[1m\r\n",
      "================================== Summary ==================================\u001B[0m\r\n",
      "\u001B[38;5;2m✔ 7 checks passed\u001B[0m\r\n",
      "\u001B[38;5;3m⚠ 2 warnings\u001B[0m\r\n"
     ]
    }
   ],
   "source": [
    "!python -m spacy debug data config/config_md.cfg"
   ],
   "metadata": {
    "collapsed": false,
    "ExecuteTime": {
     "end_time": "2023-07-22T15:02:26.593113Z",
     "start_time": "2023-07-22T15:01:33.590967Z"
    }
   }
  },
  {
   "cell_type": "code",
   "execution_count": 42,
   "outputs": [
    {
     "name": "stdout",
     "output_type": "stream",
     "text": [
      "\u001B[38;5;4mℹ Saving to output directory: ../../data/models/spacy/md\u001B[0m\r\n",
      "\u001B[38;5;4mℹ Using CPU\u001B[0m\r\n",
      "\u001B[38;5;4mℹ To switch to GPU 0, use the option: --gpu-id 0\u001B[0m\r\n",
      "\u001B[1m\r\n",
      "=========================== Initializing pipeline ===========================\u001B[0m\r\n",
      "[2023-07-22 08:02:47,485] [INFO] Set up nlp object from config\r\n",
      "[2023-07-22 08:02:47,495] [INFO] Pipeline: ['ner']\r\n",
      "[2023-07-22 08:02:47,495] [INFO] Resuming training for: ['ner']\r\n",
      "[2023-07-22 08:02:47,505] [INFO] Created vocabulary\r\n",
      "[2023-07-22 08:02:48,998] [INFO] Added vectors: en_core_web_md\r\n",
      "[2023-07-22 08:02:49,073] [INFO] Finished initializing nlp object\r\n",
      "[2023-07-22 08:02:49,073] [INFO] Initialized pipeline components: []\r\n",
      "\u001B[38;5;2m✔ Initialized pipeline\u001B[0m\r\n",
      "\u001B[1m\r\n",
      "============================= Training pipeline =============================\u001B[0m\r\n",
      "\u001B[38;5;4mℹ Pipeline: ['ner']\u001B[0m\r\n",
      "\u001B[38;5;4mℹ Initial learn rate: 0.001\u001B[0m\r\n",
      "E    #       LOSS NER  ENTS_F  ENTS_P  ENTS_R  SCORE \r\n",
      "---  ------  --------  ------  ------  ------  ------\r\n",
      "  0       0    458.44   39.08   32.10   49.93    0.39\r\n",
      "  0     200   7745.77   83.01   82.82   83.20    0.83\r\n",
      "  0     400   6110.12   82.85   85.27   80.57    0.83\r\n",
      "  0     600   6736.00   83.08   85.96   80.39    0.83\r\n",
      "  0     800   6210.52   85.13   86.19   84.11    0.85\r\n",
      "  0    1000   6090.00   83.77   88.59   79.46    0.84\r\n",
      "  1    1200   6301.64   83.71   83.96   83.46    0.84\r\n",
      "  1    1400   5257.50   85.27   87.88   82.82    0.85\r\n",
      "  1    1600   6058.76   85.14   87.86   82.59    0.85\r\n",
      "  1    1800   5628.71   86.41   88.98   83.98    0.86\r\n",
      "  1    2000   5410.38   85.43   85.63   85.22    0.85\r\n",
      "  1    2200   5519.51   85.81   89.51   82.39    0.86\r\n",
      "  2    2400   5023.52   85.10   84.96   85.24    0.85\r\n",
      "  2    2600   4212.28   85.73   88.49   83.14    0.86\r\n",
      "  2    2800   5850.07   85.91   88.93   83.08    0.86\r\n",
      "  2    3000   5237.36   85.73   87.84   83.72    0.86\r\n",
      "  2    3200   5860.02   86.09   88.05   84.21    0.86\r\n",
      "  2    3400   4925.71   84.74   84.90   84.58    0.85\r\n",
      "\u001B[38;5;2m✔ Saved pipeline to output directory\u001B[0m\r\n",
      "../../data/models/spacy/md/model-last\r\n"
     ]
    }
   ],
   "source": [
    "!python -m spacy train config/config_md.cfg -o ../../data/models/spacy/md"
   ],
   "metadata": {
    "collapsed": false,
    "ExecuteTime": {
     "end_time": "2023-07-22T15:16:59.037872Z",
     "start_time": "2023-07-22T15:02:43.725983Z"
    }
   }
  },
  {
   "cell_type": "code",
   "execution_count": 54,
   "outputs": [
    {
     "name": "stdout",
     "output_type": "stream",
     "text": [
      "\u001B[38;5;4mℹ Using CPU\u001B[0m\r\n",
      "\u001B[38;5;4mℹ To switch to GPU 0, use the option: --gpu-id 0\u001B[0m\r\n",
      "\u001B[1m\r\n",
      "================================== Results ==================================\u001B[0m\r\n",
      "\r\n",
      "TOK     100.00\r\n",
      "NER P   88.98 \r\n",
      "NER R   83.98 \r\n",
      "NER F   86.41 \r\n",
      "SPEED   21486 \r\n",
      "\r\n",
      "\u001B[1m\r\n",
      "=============================== NER (per type) ===============================\u001B[0m\r\n",
      "\r\n",
      "             P       R       F\r\n",
      "ORG      84.71   73.97   78.98\r\n",
      "DEM      80.44   43.30   56.30\r\n",
      "PERSON   91.21   94.76   92.95\r\n",
      "DATE     91.37   93.54   92.44\r\n",
      "GPE      89.53   84.31   86.84\r\n",
      "\r\n"
     ]
    }
   ],
   "source": [
    "!python -m spacy benchmark accuracy \"../../data/models/spacy/md/model-best\" \"../../data/annotated/dev.spacy\"\n",
    "# !python -m spacy evaluate benchmark accuracy --help"
   ],
   "metadata": {
    "collapsed": false,
    "ExecuteTime": {
     "end_time": "2023-07-22T16:19:39.549116Z",
     "start_time": "2023-07-22T16:19:28.312719Z"
    }
   }
  },
  {
   "cell_type": "code",
   "execution_count": 72,
   "outputs": [
    {
     "name": "stdout",
     "output_type": "stream",
     "text": [
      "[('Kharagpur Central Hindu School', 'ORG'), ('Varanasi St. Atulanand Convent School', 'ORG'), ('Varanasi', 'GPE'), ('2006', 'DATE'), ('Uttar Pradesh', 'GPE'), ('2005', 'DATE'), ('India Level Mathematics & Science Test', 'ORG'), ('Central Institute for Proficiency in English Language (CIPEL)', 'ORG'), ('4 years', 'DATE'), ('Hadoop', 'GPE'), ('Byte Code Engineering Library', 'ORG'), ('IBM', 'ORG'), ('Pune', 'GPE'), ('Pune', 'GPE'), ('Java EE', 'ORG'), ('XML and Web Services Integrated the Home Delivery', 'ORG'), ('IBM WebSphere Commerce', 'ORG'), ('IIT Kharagpur', 'ORG'), ('2009', 'DATE'), ('IIT Kharagpur Student Counselling Service', 'ORG'), ('Counselling Centre', 'ORG'), ('6 months', 'DATE'), ('Feb’09', 'PERSON'), ('every month', 'DATE'), ('Bitwise-2010', 'ORG'), ('Spring Fest', 'ORG'), ('2008', 'DATE'), ('2007-08', 'DATE'), ('National Sports Organization: Among Top 30 students in', 'ORG'), ('Lawn Tennis Team', 'ORG'), ('IIT Kharagpur’06', 'ORG')]\n"
     ]
    }
   ],
   "source": [
    "del nlp\n",
    "nlp = spacy.load('../../data/models/spacy/md/model-best')\n",
    "\n",
    "text = ['''SIDDHARTH RAGHUVANSHI                                Roll No. 06CS3025                                            DOB: 08/08/1988\n",
    "Email: siddharth.iitkharagpur@gmail.com                                                                                          Mobile No.:   +91 9932584135\n",
    "Degree/Certificate\n",
    "Dual Degree[B. Tech (H) + M. Tech]\n",
    "(Computer Science & Engineering)\n",
    "Class XII:  C.B.S.E.\n",
    "Class X:   C.B.S.E.\n",
    "ACADEMIC ACHIEVEMENTS\n",
    "Institute/ School, City\n",
    "Indian Institute of Technology, Kharagpur\n",
    "Central Hindu School, Varanasi\n",
    "St. Atulanand Convent School, Varanasi\n",
    "CGPA/ %  Completion\n",
    "8.26/10\n",
    "86.0%\n",
    "90.8%\n",
    "2011\n",
    "2005\n",
    "2003\n",
    "Competitive\n",
    "Examinations\n",
    "  All India Rank 116 in AIEEE, 2006 among 470,000 students, State Rank 8 in Uttar Pradesh.\n",
    "  All India Rank 119 in 7th National Science Olympiad, 2005.\n",
    "  All India Rank 22 in All India Level Mathematics & Science Test organized by Central Institute  for\n",
    "Proficiency in English Language (CIPEL).\n",
    "Scholastic\n",
    "Achievements\n",
    "  National top 1% out of 26968 candidates appeared in National Standard Examination in Physics’05\n",
    "  Receiving CBSE Merit Scholarship for the past 4 years.\n",
    "ACADEMIC PROJECTS\n",
    "M. Tech Project                                                                                      IIT Kharagpur                                           May’10-Nov’10\n",
    "•\n",
    "•\n",
    "Studied the performance of text indexing algorithms on Hadoop MapReduce architecture.\n",
    "Future work includes implementing more efficient indexing and retrieval techniques in MapReduce for distributed parallel\n",
    "computing.\n",
    "B. Tech Project                                                                                        IIT Kharagpur                                           Aug’09-May’10\n",
    "  Developed a software with can handle all sorts of query related to geographical information extracted from maps.\n",
    "  Developed a client interface which can fetch data from different incompatible geospatial web services and make that data\n",
    "compatible for resolving queries.\n",
    "Integrated my framework engine with different underlying heterogeneous spatial databases.\n",
    "\n",
    "Static Instrumentation Of Java Programs                                          IIT Kharagpur                                                   May’08\n",
    "  Developed a program using Byte Code Engineering Library to do automated testing of java program at byte code level.\n",
    "WORK EXPERIENCE / INTERNSHIP\n",
    "Extreme Blue Internship Program                                                                   ISL, IBM, Pune, India                                       May’09 – July’09\n",
    "Business\n",
    "Perspective\n",
    "Technical\n",
    "Perspective\n",
    " Achievements\n",
    "  Conducted survey in Pune region on the current home delivery status of organized retails\n",
    "\n",
    "Proposed and implemented a solution on how to increase home delivery sales in order to compete with the\n",
    "localized general (kirana) stores\n",
    "\n",
    "Built an independent Home Delivery module on Java EE platform using open standards such as XML and\n",
    "Web Services\n",
    "Integrated the Home Delivery module with IBM WebSphere Commerce.\n",
    "\n",
    "  Received highest grade 10/10 in summer internship evaluation at IIT Kharagpur, 2009.\n",
    "RELEVANT COURSES TAKEN\n",
    "  Machine learning\n",
    "  Algorithms-I\n",
    "  Algorithms-II\n",
    "Information Retrieval\n",
    "\n",
    "  Distributed Systems\n",
    "\n",
    "Probability and Statistics\n",
    "POSITION OF RESPONSIBILITY\n",
    "\n",
    "Student coordinator of IIT Kharagpur Student Counselling Service.\n",
    "  Student member of team that conceptualized and publicized Counselling Centre in IIT Kharagpur after 5 successive suicides\n",
    "in the campus within a span of 6 months in between Feb’09 and Jul’09.\n",
    "  More than 100 students are counselled every month.\n",
    "  No mishaps in the campus as of Sep’10 after the establishment of the centre.\n",
    "  Went through Gate Keepers Training to identify behavioral change in a person.\n",
    "  Managed  the  systems  team  of  Bitwise-2010,  an  international  algorithmic  intensive  programming  contest  leading  to  the\n",
    "participation of 3000 teams across 75 countries.\n",
    "\n",
    "Family Sub-head of accommodation team in Spring Fest, 2008.\n",
    "  Head boy of my Senior Secondary School (Central Hindu School).\n",
    "e\n",
    "EXTRA CURRICULAR ACHIEVEMENTS\n",
    "  Member of Silver winning team in inter hall OPENSOFT Competition in the session 2007-08.\n",
    "  National Sports Organization: Among Top 30 students in Lawn Tennis Team at IIT Kharagpur’06. ''']\n",
    "\n",
    "# normalize whitespace as per https://github.com/explosion/spaCy/discussions/10243\n",
    "r = []\n",
    "for t in text:\n",
    "    r.append(re.sub(r\"\\s+\", \" \", t))\n",
    "\n",
    "for doc in nlp.pipe(r, disable=[\"tagger\", \"parser\"]):\n",
    "    print([(ent.text, ent.label_) for ent in doc.ents])"
   ],
   "metadata": {
    "collapsed": false,
    "ExecuteTime": {
     "end_time": "2023-07-22T16:39:35.072600Z",
     "start_time": "2023-07-22T16:39:33.860180Z"
    }
   }
  },
  {
   "cell_type": "code",
   "execution_count": 36,
   "outputs": [
    {
     "name": "stdout",
     "output_type": "stream",
     "text": [
      "\u001B[38;5;2m✔ Auto-filled config with all values\u001B[0m\r\n",
      "\u001B[38;5;2m✔ Saved config\u001B[0m\r\n",
      "config/config_md_2nd_step.cfg\r\n",
      "You can now add your data and train your pipeline:\r\n",
      "python -m spacy train config_md_2nd_step.cfg --paths.train ./train.spacy --paths.dev ./dev.spacy\r\n"
     ]
    }
   ],
   "source": [
    "!python -m spacy init fill-config config/base_config_md_2nd_step.cfg config/config_md_2nd_step.cfg"
   ],
   "metadata": {
    "collapsed": false,
    "ExecuteTime": {
     "end_time": "2023-07-21T23:37:22.942239Z",
     "start_time": "2023-07-21T23:37:16.710302Z"
    }
   }
  },
  {
   "cell_type": "code",
   "execution_count": 37,
   "outputs": [
    {
     "name": "stdout",
     "output_type": "stream",
     "text": [
      "\u001B[1m\r\n",
      "============================ Data file validation ============================\u001B[0m\r\n",
      "\u001B[38;5;2m✔ Pipeline can be initialized with data\u001B[0m\r\n",
      "\u001B[38;5;2m✔ Corpus is loadable\u001B[0m\r\n",
      "\u001B[1m\r\n",
      "=============================== Training stats ===============================\u001B[0m\r\n",
      "Language: en\r\n",
      "Training pipeline: echr, ner\r\n",
      "Components from other pipelines: echr, ner\r\n",
      "1141 training docs\r\n",
      "127 evaluation docs\r\n",
      "\u001B[38;5;2m✔ No overlap between training and evaluation data\u001B[0m\r\n",
      "\u001B[1m\r\n",
      "============================== Vocab & Vectors ==============================\u001B[0m\r\n",
      "\u001B[38;5;4mℹ 1704123 total word(s) in the data (32105 unique)\u001B[0m\r\n",
      "\u001B[38;5;4mℹ 20000 vectors (514157 unique keys, 300 dimensions)\u001B[0m\r\n",
      "\u001B[38;5;3m⚠ 44850 words in training data without vectors (3%)\u001B[0m\r\n",
      "\u001B[1m\r\n",
      "========================== Named Entity Recognition ==========================\u001B[0m\r\n",
      "\u001B[38;5;4mℹ 31 label(s)\u001B[0m\r\n",
      "0 missing value(s) (tokens with '-' label)\r\n",
      "\u001B[38;5;3m⚠ Some model labels are not present in the train data. The model\r\n",
      "performance may be degraded for these labels after training: 'CARDINAL',\r\n",
      "'MONEY', 'WORK_OF_ART', 'US_SSN', 'DOMAIN_NAME', 'AGE', 'TIME', 'IBAN_CODE',\r\n",
      "'CREDIT_CARD', 'PERCENT', 'LOC', 'EMAIL_ADDRESS', 'EVENT', 'LAW', 'ORDINAL',\r\n",
      "'TITLE', 'PRODUCT', 'PHONE_NUMBER', 'STREET_ADDRESS', 'FAC', 'IP_ADDRESS',\r\n",
      "'LANGUAGE', 'QUANTITY', 'NORP', 'ZIP_CODE', 'NRP'.\u001B[0m\r\n",
      "\u001B[38;5;2m✔ Good amount of examples for all labels\u001B[0m\r\n",
      "\u001B[38;5;2m✔ Examples without occurrences available for all labels\u001B[0m\r\n",
      "\u001B[38;5;2m✔ No entities consisting of or starting/ending with whitespace\u001B[0m\r\n",
      "\u001B[38;5;2m✔ No entities crossing sentence boundaries\u001B[0m\r\n",
      "\u001B[1m\r\n",
      "================================== Summary ==================================\u001B[0m\r\n",
      "\u001B[38;5;2m✔ 7 checks passed\u001B[0m\r\n",
      "\u001B[38;5;3m⚠ 2 warnings\u001B[0m\r\n"
     ]
    }
   ],
   "source": [
    "!python -m spacy debug data config/config_md_2nd_step.cfg"
   ],
   "metadata": {
    "collapsed": false,
    "ExecuteTime": {
     "end_time": "2023-07-21T23:38:42.391615Z",
     "start_time": "2023-07-21T23:37:25.561143Z"
    }
   }
  },
  {
   "cell_type": "code",
   "execution_count": 38,
   "outputs": [
    {
     "name": "stdout",
     "output_type": "stream",
     "text": [
      "\u001B[38;5;4mℹ Saving to output directory: ../../data/models/spacy/md/2\u001B[0m\r\n",
      "\u001B[38;5;4mℹ Using CPU\u001B[0m\r\n",
      "\u001B[38;5;4mℹ To switch to GPU 0, use the option: --gpu-id 0\u001B[0m\r\n",
      "\u001B[1m\r\n",
      "=========================== Initializing pipeline ===========================\u001B[0m\r\n",
      "[2023-07-21 16:39:12,125] [INFO] Set up nlp object from config\r\n",
      "[2023-07-21 16:39:12,139] [INFO] Pipeline: ['echr', 'ner']\r\n",
      "[2023-07-21 16:39:12,140] [INFO] Resuming training for: ['echr', 'ner']\r\n",
      "[2023-07-21 16:39:12,157] [INFO] Created vocabulary\r\n",
      "[2023-07-21 16:39:13,628] [INFO] Added vectors: en_core_web_md\r\n",
      "[2023-07-21 16:39:13,699] [INFO] Finished initializing nlp object\r\n",
      "[2023-07-21 16:39:13,699] [INFO] Initialized pipeline components: []\r\n",
      "\u001B[38;5;2m✔ Initialized pipeline\u001B[0m\r\n",
      "\u001B[1m\r\n",
      "============================= Training pipeline =============================\u001B[0m\r\n",
      "\u001B[38;5;4mℹ Pipeline: ['echr', 'ner']\u001B[0m\r\n",
      "\u001B[38;5;4mℹ Initial learn rate: 0.001\u001B[0m\r\n",
      "E    #       LOSS ECHR  LOSS NER  ENTS_F  ENTS_P  ENTS_R  SCORE \r\n",
      "---  ------  ---------  --------  ------  ------  ------  ------\r\n",
      "\u001B[38;5;3m⚠ Aborting and saving the final best model. Encountered exception:\r\n",
      "KeyError('echr')\u001B[0m\r\n",
      "Traceback (most recent call last):\r\n",
      "  File \"/usr/local/Cellar/python@3.10/3.10.6_1/Frameworks/Python.framework/Versions/3.10/lib/python3.10/runpy.py\", line 196, in _run_module_as_main\r\n",
      "    return _run_code(code, main_globals, None,\r\n",
      "  File \"/usr/local/Cellar/python@3.10/3.10.6_1/Frameworks/Python.framework/Versions/3.10/lib/python3.10/runpy.py\", line 86, in _run_code\r\n",
      "    exec(code, run_globals)\r\n",
      "  File \"/Users/bpayne/code/data-science/pii-redaction/venv/lib/python3.10/site-packages/spacy/__main__.py\", line 4, in <module>\r\n",
      "    setup_cli()\r\n",
      "  File \"/Users/bpayne/code/data-science/pii-redaction/venv/lib/python3.10/site-packages/spacy/cli/_util.py\", line 74, in setup_cli\r\n",
      "    command(prog_name=COMMAND)\r\n",
      "  File \"/Users/bpayne/code/data-science/pii-redaction/venv/lib/python3.10/site-packages/click/core.py\", line 1130, in __call__\r\n",
      "    return self.main(*args, **kwargs)\r\n",
      "  File \"/Users/bpayne/code/data-science/pii-redaction/venv/lib/python3.10/site-packages/typer/core.py\", line 778, in main\r\n",
      "    return _main(\r\n",
      "  File \"/Users/bpayne/code/data-science/pii-redaction/venv/lib/python3.10/site-packages/typer/core.py\", line 216, in _main\r\n",
      "    rv = self.invoke(ctx)\r\n",
      "  File \"/Users/bpayne/code/data-science/pii-redaction/venv/lib/python3.10/site-packages/click/core.py\", line 1657, in invoke\r\n",
      "    return _process_result(sub_ctx.command.invoke(sub_ctx))\r\n",
      "  File \"/Users/bpayne/code/data-science/pii-redaction/venv/lib/python3.10/site-packages/click/core.py\", line 1404, in invoke\r\n",
      "    return ctx.invoke(self.callback, **ctx.params)\r\n",
      "  File \"/Users/bpayne/code/data-science/pii-redaction/venv/lib/python3.10/site-packages/click/core.py\", line 760, in invoke\r\n",
      "    return __callback(*args, **kwargs)\r\n",
      "  File \"/Users/bpayne/code/data-science/pii-redaction/venv/lib/python3.10/site-packages/typer/main.py\", line 683, in wrapper\r\n",
      "    return callback(**use_params)  # type: ignore\r\n",
      "  File \"/Users/bpayne/code/data-science/pii-redaction/venv/lib/python3.10/site-packages/spacy/cli/train.py\", line 45, in train_cli\r\n",
      "    train(config_path, output_path, use_gpu=use_gpu, overrides=overrides)\r\n",
      "  File \"/Users/bpayne/code/data-science/pii-redaction/venv/lib/python3.10/site-packages/spacy/cli/train.py\", line 75, in train\r\n",
      "    train_nlp(nlp, output_path, use_gpu=use_gpu, stdout=sys.stdout, stderr=sys.stderr)\r\n",
      "  File \"/Users/bpayne/code/data-science/pii-redaction/venv/lib/python3.10/site-packages/spacy/training/loop.py\", line 124, in train\r\n",
      "    raise e\r\n",
      "  File \"/Users/bpayne/code/data-science/pii-redaction/venv/lib/python3.10/site-packages/spacy/training/loop.py\", line 114, in train\r\n",
      "    log_step(info if is_best_checkpoint is not None else None)\r\n",
      "  File \"/Users/bpayne/code/data-science/pii-redaction/venv/lib/python3.10/site-packages/spacy_legacy/loggers.py\", line 127, in log_step\r\n",
      "    losses = [\r\n",
      "  File \"/Users/bpayne/code/data-science/pii-redaction/venv/lib/python3.10/site-packages/spacy_legacy/loggers.py\", line 128, in <listcomp>\r\n",
      "    \"{0:.2f}\".format(float(info[\"losses\"][pipe_name]))\r\n",
      "KeyError: 'echr'\r\n"
     ]
    }
   ],
   "source": [
    "!python -m spacy train config/config_md_2nd_step.cfg -o ../../data/models/spacy/md/2"
   ],
   "metadata": {
    "collapsed": false,
    "ExecuteTime": {
     "end_time": "2023-07-21T23:40:17.741877Z",
     "start_time": "2023-07-21T23:39:06.727533Z"
    }
   }
  },
  {
   "cell_type": "code",
   "execution_count": null,
   "outputs": [],
   "source": [
    "import spacy\n",
    "\n",
    "nlp = spacy.load('../../data/models/spacy/md/model-best')\n",
    "\n",
    "text = ['''SIDDHARTH RAGHUVANSHI                                Roll No. 06CS3025                                            DOB: 08/08/1988\n",
    "Email: siddharth.iitkharagpur@gmail.com                                                                                          Mobile No.:   +91 9932584135\n",
    "Degree/Certificate\n",
    "Dual Degree[B. Tech (H) + M. Tech]\n",
    "(Computer Science & Engineering)\n",
    "Class XII:  C.B.S.E.\n",
    "Class X:   C.B.S.E.\n",
    "ACADEMIC ACHIEVEMENTS\n",
    "Institute/ School, City\n",
    "Indian Institute of Technology, Kharagpur\n",
    "Central Hindu School, Varanasi\n",
    "St. Atulanand Convent School, Varanasi\n",
    "CGPA/ %  Completion\n",
    "8.26/10\n",
    "86.0%\n",
    "90.8%\n",
    "2011\n",
    "2005\n",
    "2003\n",
    "Competitive\n",
    "Examinations\n",
    "  All India Rank 116 in AIEEE, 2006 among 470,000 students, State Rank 8 in Uttar Pradesh.\n",
    "  All India Rank 119 in 7th National Science Olympiad, 2005.\n",
    "  All India Rank 22 in All India Level Mathematics & Science Test organized by Central Institute  for\n",
    "Proficiency in English Language (CIPEL).\n",
    "Scholastic\n",
    "Achievements\n",
    "  National top 1% out of 26968 candidates appeared in National Standard Examination in Physics’05\n",
    "  Receiving CBSE Merit Scholarship for the past 4 years.\n",
    "ACADEMIC PROJECTS\n",
    "M. Tech Project                                                                                      IIT Kharagpur                                           May’10-Nov’10\n",
    "•\n",
    "•\n",
    "Studied the performance of text indexing algorithms on Hadoop MapReduce architecture.\n",
    "Future work includes implementing more efficient indexing and retrieval techniques in MapReduce for distributed parallel\n",
    "computing.\n",
    "B. Tech Project                                                                                        IIT Kharagpur                                           Aug’09-May’10\n",
    "  Developed a software with can handle all sorts of query related to geographical information extracted from maps.\n",
    "  Developed a client interface which can fetch data from different incompatible geospatial web services and make that data\n",
    "compatible for resolving queries.\n",
    "Integrated my framework engine with different underlying heterogeneous spatial databases.\n",
    "\n",
    "Static Instrumentation Of Java Programs                                          IIT Kharagpur                                                   May’08\n",
    "  Developed a program using Byte Code Engineering Library to do automated testing of java program at byte code level.\n",
    "WORK EXPERIENCE / INTERNSHIP\n",
    "Extreme Blue Internship Program                                                                   ISL, IBM, Pune, India                                       May’09 – July’09\n",
    "Business\n",
    "Perspective\n",
    "Technical\n",
    "Perspective\n",
    " Achievements\n",
    "  Conducted survey in Pune region on the current home delivery status of organized retails\n",
    "\n",
    "Proposed and implemented a solution on how to increase home delivery sales in order to compete with the\n",
    "localized general (kirana) stores\n",
    "\n",
    "Built an independent Home Delivery module on Java EE platform using open standards such as XML and\n",
    "Web Services\n",
    "Integrated the Home Delivery module with IBM WebSphere Commerce.\n",
    "\n",
    "  Received highest grade 10/10 in summer internship evaluation at IIT Kharagpur, 2009.\n",
    "RELEVANT COURSES TAKEN\n",
    "  Machine learning\n",
    "  Algorithms-I\n",
    "  Algorithms-II\n",
    "Information Retrieval\n",
    "\n",
    "  Distributed Systems\n",
    "\n",
    "Probability and Statistics\n",
    "POSITION OF RESPONSIBILITY\n",
    "\n",
    "Student coordinator of IIT Kharagpur Student Counselling Service.\n",
    "  Student member of team that conceptualized and publicized Counselling Centre in IIT Kharagpur after 5 successive suicides\n",
    "in the campus within a span of 6 months in between Feb’09 and Jul’09.\n",
    "  More than 100 students are counselled every month.\n",
    "  No mishaps in the campus as of Sep’10 after the establishment of the centre.\n",
    "  Went through Gate Keepers Training to identify behavioral change in a person.\n",
    "  Managed  the  systems  team  of  Bitwise-2010,  an  international  algorithmic  intensive  programming  contest  leading  to  the\n",
    "participation of 3000 teams across 75 countries.\n",
    "\n",
    "Family Sub-head of accommodation team in Spring Fest, 2008.\n",
    "  Head boy of my Senior Secondary School (Central Hindu School).\n",
    "e\n",
    "EXTRA CURRICULAR ACHIEVEMENTS\n",
    "  Member of Silver winning team in inter hall OPENSOFT Competition in the session 2007-08.\n",
    "  National Sports Organization: Among Top 30 students in Lawn Tennis Team at IIT Kharagpur’06. ''']\n",
    "\n",
    "for doc in nlp.pipe(text, disable=[\"tagger\", \"parser\"]):\n",
    "    print([(ent.text, ent.label_) for ent in doc.ents])"
   ],
   "metadata": {
    "collapsed": false
   }
  },
  {
   "cell_type": "code",
   "execution_count": 74,
   "outputs": [
    {
     "name": "stdout",
     "output_type": "stream",
     "text": [
      "\u001B[38;5;4mℹ Using CPU\u001B[0m\r\n",
      "\u001B[38;5;4mℹ To switch to GPU 0, use the option: --gpu-id 0\u001B[0m\r\n",
      "\u001B[1m\r\n",
      "================================== Results ==================================\u001B[0m\r\n",
      "\r\n",
      "TOK     100.00\r\n",
      "NER P   35.04 \r\n",
      "NER R   56.82 \r\n",
      "NER F   43.34 \r\n",
      "SPEED   2401  \r\n",
      "\r\n",
      "\u001B[1m\r\n",
      "=============================== NER (per type) ===============================\u001B[0m\r\n",
      "\r\n",
      "                     P       R       F\r\n",
      "CARDINAL          0.00    0.00    0.00\r\n",
      "ORG              43.22   61.71   50.83\r\n",
      "LAW               0.00    0.00    0.00\r\n",
      "NRP               0.00    0.00    0.00\r\n",
      "PERSON           59.80   85.63   70.42\r\n",
      "PHONE_NUMBER      0.00    0.00    0.00\r\n",
      "GPE              54.31   73.54   62.48\r\n",
      "DATE             72.49   47.44   57.35\r\n",
      "US_SSN            0.00    0.00    0.00\r\n",
      "STREET_ADDRESS    0.00    0.00    0.00\r\n",
      "ORDINAL           0.00    0.00    0.00\r\n",
      "DEM               0.00    0.00    0.00\r\n",
      "IP_ADDRESS        0.00    0.00    0.00\r\n",
      "TITLE             0.00    0.00    0.00\r\n",
      "ZIP_CODE          0.00    0.00    0.00\r\n",
      "CREDIT_CARD       0.00    0.00    0.00\r\n",
      "TIME              0.00    0.00    0.00\r\n",
      "QUANTITY          0.00    0.00    0.00\r\n",
      "MONEY             0.00    0.00    0.00\r\n",
      "PERCENT           0.00    0.00    0.00\r\n",
      "AGE               0.00    0.00    0.00\r\n",
      "LANGUAGE          0.00    0.00    0.00\r\n",
      "PRODUCT           0.00    0.00    0.00\r\n",
      "EMAIL_ADDRESS     0.00    0.00    0.00\r\n",
      "NORP              0.00    0.00    0.00\r\n",
      "WORK_OF_ART       0.00    0.00    0.00\r\n",
      "LOC               0.00    0.00    0.00\r\n",
      "EVENT             0.00    0.00    0.00\r\n",
      "FAC               0.00    0.00    0.00\r\n",
      "DOMAIN_NAME       0.00    0.00    0.00\r\n",
      "\r\n"
     ]
    }
   ],
   "source": [
    "!python -m spacy benchmark accuracy \"../../data/models/spacy/md/2/model-best\" \"../../data/annotated/dev.spacy\""
   ],
   "metadata": {
    "collapsed": false,
    "ExecuteTime": {
     "end_time": "2023-07-23T23:07:18.954164Z",
     "start_time": "2023-07-23T23:06:19.784038Z"
    }
   }
  },
  {
   "cell_type": "code",
   "execution_count": null,
   "outputs": [],
   "source": [],
   "metadata": {
    "collapsed": false
   }
  }
 ],
 "metadata": {
  "kernelspec": {
   "display_name": "Python 3",
   "language": "python",
   "name": "python3"
  },
  "language_info": {
   "codemirror_mode": {
    "name": "ipython",
    "version": 2
   },
   "file_extension": ".py",
   "mimetype": "text/x-python",
   "name": "python",
   "nbconvert_exporter": "python",
   "pygments_lexer": "ipython2",
   "version": "2.7.6"
  }
 },
 "nbformat": 4,
 "nbformat_minor": 0
}
