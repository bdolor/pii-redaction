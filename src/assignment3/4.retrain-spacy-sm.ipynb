{
 "cells": [
  {
   "cell_type": "code",
   "execution_count": null,
   "metadata": {
    "collapsed": true
   },
   "outputs": [],
   "source": [
    "#!python -m spacy download en_core_web_sm"
   ]
  },
  {
   "cell_type": "markdown",
   "source": [
    "# baseline with pretrained model"
   ],
   "metadata": {
    "collapsed": false
   }
  },
  {
   "cell_type": "code",
   "execution_count": 11,
   "outputs": [
    {
     "name": "stdout",
     "output_type": "stream",
     "text": [
      "[('SIDDHARTH', 'ORG'), ('Computer Science & Engineering', 'ORG'), ('School, City', 'GPE'), ('Indian Institute of Technology', 'ORG'), ('Kharagpur\\nCentral Hindu School', 'ORG'), ('Varanasi', 'GPE'), ('St. Atulanand Convent School', 'ORG'), ('Varanasi', 'GPE'), ('8.26/10', 'CARDINAL'), ('86.0%', 'PERCENT'), ('90.8%', 'PERCENT'), ('2011\\n2005', 'DATE'), ('2003', 'DATE'), ('Competitive\\nExaminations', 'ORG'), ('All India Rank', 'ORG'), ('116', 'PRODUCT'), ('AIEEE', 'ORG'), ('2006', 'DATE'), ('470,000', 'CARDINAL'), ('State Rank 8', 'ORG'), ('Uttar', 'GPE'), ('All India Rank', 'ORG'), ('119', 'CARDINAL'), ('7th', 'ORDINAL'), ('National Science Olympiad', 'ORG'), ('2005', 'DATE'), ('All India Rank', 'ORG'), ('All India Level Mathematics & Science Test', 'ORG'), ('Central Institute', 'ORG'), ('English', 'LANGUAGE'), ('Scholastic', 'NORP'), ('National', 'ORG'), ('1%', 'PERCENT'), ('26968', 'DATE'), ('National Standard Examination', 'ORG'), ('Receiving CBSE Merit Scholarship', 'PERSON'), ('the past 4 years', 'DATE'), ('•\\n•', 'PRODUCT'), ('Hadoop MapReduce', 'ORG'), ('MapReduce', 'ORG'), ('Static Instrumentation Of Java Programs                                          IIT Kharagpur                                                   May’08\\n\\uf0a7  Developed', 'WORK_OF_ART'), ('Byte Code Engineering Library', 'ORG'), ('java', 'ORG'), ('byte code level', 'ORG'), ('Extreme Blue Internship Program                                                                   ISL', 'ORG'), ('IBM', 'ORG'), ('Pune', 'GPE'), ('Business\\nPerspective\\nTechnical\\nPerspective\\n Achievements', 'ORG'), ('Conducted', 'ORG'), ('Pune', 'LOC'), ('kirana', 'ORG'), ('Java', 'PERSON'), ('XML', 'ORG'), ('IBM WebSphere Commerce', 'ORG'), ('10/10', 'CARDINAL'), ('summer', 'DATE'), ('IIT Kharagpur', 'ORG'), ('2009', 'DATE'), ('Algorithms', 'PERSON'), ('Algorithms-II', 'PRODUCT'), ('Distributed Systems', 'ORG'), ('Probability and Statistics\\nPOSITION OF RESPONSIBILITY', 'ORG'), ('IIT Kharagpur Student Counselling Service', 'ORG'), ('Counselling Centre', 'FAC'), ('IIT Kharagpur', 'GPE'), ('5', 'CARDINAL'), ('a span of 6 months', 'DATE'), ('More than 100', 'CARDINAL'), ('every month', 'DATE'), ('Bitwise-2010', 'PERSON'), ('3000', 'CARDINAL'), ('75', 'CARDINAL'), ('Family Sub-head', 'PERSON'), ('Spring Fest', 'EVENT'), ('2008', 'DATE'), ('Secondary School (Central Hindu School', 'ORG'), ('inter hall', 'ORG'), ('2007-08', 'DATE'), ('National Sports Organization', 'ORG'), ('30', 'CARDINAL'), ('Lawn Tennis Team', 'ORG'), ('IIT', 'ORG')]\n"
     ]
    }
   ],
   "source": [
    "import spacy\n",
    "\n",
    "nlp = spacy.load('en_core_web_sm')\n",
    "\n",
    "text = ['''SIDDHARTH RAGHUVANSHI                                Roll No. 06CS3025                                            DOB: 08/08/1988\n",
    "Email: siddharth.iitkharagpur@gmail.com                                                                                          Mobile No.:   +91 9932584135\n",
    "Degree/Certificate\n",
    "Dual Degree[B. Tech (H) + M. Tech]\n",
    "(Computer Science & Engineering)\n",
    "Class XII:  C.B.S.E.\n",
    "Class X:   C.B.S.E.\n",
    "ACADEMIC ACHIEVEMENTS\n",
    "Institute/ School, City\n",
    "Indian Institute of Technology, Kharagpur\n",
    "Central Hindu School, Varanasi\n",
    "St. Atulanand Convent School, Varanasi\n",
    "CGPA/ %  Completion\n",
    "8.26/10\n",
    "86.0%\n",
    "90.8%\n",
    "2011\n",
    "2005\n",
    "2003\n",
    "Competitive\n",
    "Examinations\n",
    "  All India Rank 116 in AIEEE, 2006 among 470,000 students, State Rank 8 in Uttar Pradesh.\n",
    "  All India Rank 119 in 7th National Science Olympiad, 2005.\n",
    "  All India Rank 22 in All India Level Mathematics & Science Test organized by Central Institute  for\n",
    "Proficiency in English Language (CIPEL).\n",
    "Scholastic\n",
    "Achievements\n",
    "  National top 1% out of 26968 candidates appeared in National Standard Examination in Physics’05\n",
    "  Receiving CBSE Merit Scholarship for the past 4 years.\n",
    "ACADEMIC PROJECTS\n",
    "M. Tech Project                                                                                      IIT Kharagpur                                           May’10-Nov’10\n",
    "•\n",
    "•\n",
    "Studied the performance of text indexing algorithms on Hadoop MapReduce architecture.\n",
    "Future work includes implementing more efficient indexing and retrieval techniques in MapReduce for distributed parallel\n",
    "computing.\n",
    "B. Tech Project                                                                                        IIT Kharagpur                                           Aug’09-May’10\n",
    "  Developed a software with can handle all sorts of query related to geographical information extracted from maps.\n",
    "  Developed a client interface which can fetch data from different incompatible geospatial web services and make that data\n",
    "compatible for resolving queries.\n",
    "Integrated my framework engine with different underlying heterogeneous spatial databases.\n",
    "\n",
    "Static Instrumentation Of Java Programs                                          IIT Kharagpur                                                   May’08\n",
    "  Developed a program using Byte Code Engineering Library to do automated testing of java program at byte code level.\n",
    "WORK EXPERIENCE / INTERNSHIP\n",
    "Extreme Blue Internship Program                                                                   ISL, IBM, Pune, India                                       May’09 – July’09\n",
    "Business\n",
    "Perspective\n",
    "Technical\n",
    "Perspective\n",
    " Achievements\n",
    "  Conducted survey in Pune region on the current home delivery status of organized retails\n",
    "\n",
    "Proposed and implemented a solution on how to increase home delivery sales in order to compete with the\n",
    "localized general (kirana) stores\n",
    "\n",
    "Built an independent Home Delivery module on Java EE platform using open standards such as XML and\n",
    "Web Services\n",
    "Integrated the Home Delivery module with IBM WebSphere Commerce.\n",
    "\n",
    "  Received highest grade 10/10 in summer internship evaluation at IIT Kharagpur, 2009.\n",
    "RELEVANT COURSES TAKEN\n",
    "  Machine learning\n",
    "  Algorithms-I\n",
    "  Algorithms-II\n",
    "Information Retrieval\n",
    "\n",
    "  Distributed Systems\n",
    "\n",
    "Probability and Statistics\n",
    "POSITION OF RESPONSIBILITY\n",
    "\n",
    "Student coordinator of IIT Kharagpur Student Counselling Service.\n",
    "  Student member of team that conceptualized and publicized Counselling Centre in IIT Kharagpur after 5 successive suicides\n",
    "in the campus within a span of 6 months in between Feb’09 and Jul’09.\n",
    "  More than 100 students are counselled every month.\n",
    "  No mishaps in the campus as of Sep’10 after the establishment of the centre.\n",
    "  Went through Gate Keepers Training to identify behavioral change in a person.\n",
    "  Managed  the  systems  team  of  Bitwise-2010,  an  international  algorithmic  intensive  programming  contest  leading  to  the\n",
    "participation of 3000 teams across 75 countries.\n",
    "\n",
    "Family Sub-head of accommodation team in Spring Fest, 2008.\n",
    "  Head boy of my Senior Secondary School (Central Hindu School).\n",
    "e\n",
    "EXTRA CURRICULAR ACHIEVEMENTS\n",
    "  Member of Silver winning team in inter hall OPENSOFT Competition in the session 2007-08.\n",
    "  National Sports Organization: Among Top 30 students in Lawn Tennis Team at IIT Kharagpur’06. ''']\n",
    "\n",
    "for doc in nlp.pipe(text, disable=[\"tagger\", \"parser\"]):\n",
    "    print([(ent.text, ent.label_) for ent in doc.ents])"
   ],
   "metadata": {
    "collapsed": false,
    "ExecuteTime": {
     "end_time": "2023-07-21T22:24:41.922859Z",
     "start_time": "2023-07-21T22:24:40.618689Z"
    }
   }
  },
  {
   "cell_type": "code",
   "execution_count": 14,
   "outputs": [
    {
     "name": "stdout",
     "output_type": "stream",
     "text": [
      "\u001B[38;5;2m✔ Auto-filled config with all values\u001B[0m\r\n",
      "\u001B[38;5;2m✔ Saved config\u001B[0m\r\n",
      "config/config_sm.cfg\r\n",
      "You can now add your data and train your pipeline:\r\n",
      "python -m spacy train config_sm.cfg --paths.train ./train.spacy --paths.dev ./dev.spacy\r\n"
     ]
    }
   ],
   "source": [
    "!python -m spacy init fill-config config/base_config_sm.cfg config/config_sm.cfg"
   ],
   "metadata": {
    "collapsed": false,
    "ExecuteTime": {
     "end_time": "2023-07-21T22:45:02.452573Z",
     "start_time": "2023-07-21T22:44:58.255959Z"
    }
   }
  },
  {
   "cell_type": "code",
   "execution_count": 15,
   "outputs": [
    {
     "name": "stdout",
     "output_type": "stream",
     "text": [
      "\u001B[1m\r\n",
      "============================ Data file validation ============================\u001B[0m\r\n",
      "\u001B[38;5;2m✔ Pipeline can be initialized with data\u001B[0m\r\n",
      "\u001B[38;5;2m✔ Corpus is loadable\u001B[0m\r\n",
      "\u001B[1m\r\n",
      "=============================== Training stats ===============================\u001B[0m\r\n",
      "Language: en\r\n",
      "Training pipeline: tok2vec, ner\r\n",
      "1141 training docs\r\n",
      "127 evaluation docs\r\n",
      "\u001B[38;5;2m✔ No overlap between training and evaluation data\u001B[0m\r\n",
      "\u001B[38;5;3m⚠ Low number of examples to train a new pipeline (1141)\u001B[0m\r\n",
      "\u001B[1m\r\n",
      "============================== Vocab & Vectors ==============================\u001B[0m\r\n",
      "\u001B[38;5;4mℹ 1704123 total word(s) in the data (32105 unique)\u001B[0m\r\n",
      "\u001B[38;5;4mℹ No word vectors present in the package\u001B[0m\r\n",
      "\u001B[1m\r\n",
      "========================== Named Entity Recognition ==========================\u001B[0m\r\n",
      "\u001B[38;5;4mℹ 5 label(s)\u001B[0m\r\n",
      "0 missing value(s) (tokens with '-' label)\r\n",
      "\u001B[38;5;2m✔ Good amount of examples for all labels\u001B[0m\r\n",
      "\u001B[38;5;2m✔ Examples without occurrences available for all labels\u001B[0m\r\n",
      "\u001B[38;5;2m✔ No entities consisting of or starting/ending with whitespace\u001B[0m\r\n",
      "\u001B[38;5;2m✔ No entities crossing sentence boundaries\u001B[0m\r\n",
      "\u001B[1m\r\n",
      "================================== Summary ==================================\u001B[0m\r\n",
      "\u001B[38;5;2m✔ 7 checks passed\u001B[0m\r\n",
      "\u001B[38;5;3m⚠ 1 warning\u001B[0m\r\n"
     ]
    }
   ],
   "source": [
    "!python -m spacy debug data config/config_sm.cfg"
   ],
   "metadata": {
    "collapsed": false,
    "ExecuteTime": {
     "end_time": "2023-07-21T22:45:56.411031Z",
     "start_time": "2023-07-21T22:45:06.059875Z"
    }
   }
  },
  {
   "cell_type": "code",
   "execution_count": 16,
   "outputs": [
    {
     "name": "stdout",
     "output_type": "stream",
     "text": [
      "\u001B[38;5;4mℹ Saving to output directory: ../../data/models/spacy/sm\u001B[0m\r\n",
      "\u001B[38;5;4mℹ Using CPU\u001B[0m\r\n",
      "\u001B[38;5;4mℹ To switch to GPU 0, use the option: --gpu-id 0\u001B[0m\r\n",
      "\u001B[1m\r\n",
      "=========================== Initializing pipeline ===========================\u001B[0m\r\n",
      "[2023-07-21 15:46:26,315] [INFO] Set up nlp object from config\r\n",
      "[2023-07-21 15:46:26,325] [INFO] Pipeline: ['tok2vec', 'ner']\r\n",
      "[2023-07-21 15:46:26,328] [INFO] Created vocabulary\r\n",
      "[2023-07-21 15:46:26,328] [INFO] Finished initializing nlp object\r\n",
      "[2023-07-21 15:46:41,007] [INFO] Initialized pipeline components: ['tok2vec', 'ner']\r\n",
      "\u001B[38;5;2m✔ Initialized pipeline\u001B[0m\r\n",
      "\u001B[1m\r\n",
      "============================= Training pipeline =============================\u001B[0m\r\n",
      "\u001B[38;5;4mℹ Pipeline: ['tok2vec', 'ner']\u001B[0m\r\n",
      "\u001B[38;5;4mℹ Initial learn rate: 0.001\u001B[0m\r\n",
      "E    #       LOSS TOK2VEC  LOSS NER  ENTS_F  ENTS_P  ENTS_R  SCORE \r\n",
      "---  ------  ------------  --------  ------  ------  ------  ------\r\n",
      "  0       0          0.00   1147.14    0.31    0.66    0.20    0.00\r\n",
      "  0     200      30645.26  34845.41   77.10   78.53   75.72    0.77\r\n",
      "  0     400        715.19   7390.83   78.74   84.20   73.95    0.79\r\n",
      "  0     600        970.13   8316.63   80.42   84.65   76.59    0.80\r\n",
      "  0     800       1089.35   7511.69   82.83   84.48   81.25    0.83\r\n",
      "  0    1000      70882.61   8115.70   81.87   84.27   79.59    0.82\r\n",
      "  1    1200      14655.78   7955.99   81.78   81.33   82.24    0.82\r\n",
      "  1    1400       1060.75   5803.59   83.26   85.31   81.31    0.83\r\n",
      "  1    1600      12135.14   6987.29   83.20   85.89   80.66    0.83\r\n",
      "  1    1800       1178.15   6361.72   84.02   87.11   81.14    0.84\r\n",
      "  1    2000       1889.45   6069.74   84.14   83.77   84.50    0.84\r\n",
      "  1    2200       1539.25   6300.70   84.12   88.44   80.20    0.84\r\n",
      "  2    2400       1451.06   5417.14   83.43   82.56   84.32    0.83\r\n",
      "  2    2600       1033.69   4494.42   84.56   87.18   82.09    0.85\r\n",
      "  2    2800       7531.61   6356.72   85.09   87.85   82.50    0.85\r\n",
      "  2    3000       5956.40   5910.30   83.74   85.91   81.67    0.84\r\n",
      "  2    3200      70198.67   7062.62   85.28   88.82   82.01    0.85\r\n",
      "  2    3400       1734.25   5371.77   84.25   85.82   82.74    0.84\r\n",
      "  3    3600       1533.50   5272.37   84.02   85.40   82.68    0.84\r\n",
      "  3    3800       1517.94   5082.70   84.41   86.83   82.12    0.84\r\n",
      "  3    4000       1850.03   5290.01   85.27   88.26   82.47    0.85\r\n",
      "  3    4200      14557.62   5253.46   85.34   88.20   82.65    0.85\r\n",
      "  3    4400       1635.80   4878.26   85.05   88.09   82.22    0.85\r\n",
      "  4    4600       2539.15   5359.43   85.72   88.11   83.45    0.86\r\n",
      "  4    4800       1935.83   4384.58   85.12   88.30   82.16    0.85\r\n",
      "  4    5000       7648.02   5703.34   84.70   85.13   84.27    0.85\r\n",
      "  4    5200       1868.61   4835.88   85.21   89.19   81.57    0.85\r\n",
      "  4    5400       2058.52   5218.90   84.75   86.93   82.68    0.85\r\n",
      "  4    5600       1705.00   4457.90   85.06   87.30   82.94    0.85\r\n",
      "  5    5800       1815.14   4769.83   85.25   86.29   84.24    0.85\r\n",
      "  5    6000       1921.70   4135.62   84.09   88.79   79.85    0.84\r\n",
      "  5    6200       2478.49   4768.98   85.15   87.94   82.53    0.85\r\n",
      "\u001B[38;5;2m✔ Saved pipeline to output directory\u001B[0m\r\n",
      "../../data/models/spacy/sm/model-last\r\n"
     ]
    }
   ],
   "source": [
    "!python -m spacy train config/config_sm.cfg -o ../../data/models/spacy/sm"
   ],
   "metadata": {
    "collapsed": false,
    "ExecuteTime": {
     "end_time": "2023-07-21T23:09:30.709421Z",
     "start_time": "2023-07-21T22:46:23.747312Z"
    }
   }
  },
  {
   "cell_type": "code",
   "execution_count": 25,
   "outputs": [
    {
     "name": "stdout",
     "output_type": "stream",
     "text": [
      "\u001B[38;5;4mℹ Using CPU\u001B[0m\r\n",
      "\u001B[38;5;4mℹ To switch to GPU 0, use the option: --gpu-id 0\u001B[0m\r\n",
      "\u001B[1m\r\n",
      "================================== Results ==================================\u001B[0m\r\n",
      "\r\n",
      "TOK     100.00\r\n",
      "NER P   88.11 \r\n",
      "NER R   83.45 \r\n",
      "NER F   85.72 \r\n",
      "SPEED   25269 \r\n",
      "\r\n",
      "\u001B[1m\r\n",
      "=============================== NER (per type) ===============================\u001B[0m\r\n",
      "\r\n",
      "             P       R       F\r\n",
      "ORG      81.32   76.42   78.79\r\n",
      "DEM      77.91   48.09   59.47\r\n",
      "PERSON   92.17   92.62   92.40\r\n",
      "DATE     92.08   91.97   92.03\r\n",
      "GPE      88.87   77.19   82.62\r\n",
      "\r\n"
     ]
    }
   ],
   "source": [
    "!python -m spacy benchmark accuracy \"../../data/models/spacy/sm/model-best\" \"../../data/annotated/dev.spacy\""
   ],
   "metadata": {
    "collapsed": false,
    "ExecuteTime": {
     "end_time": "2023-07-24T00:31:51.289441Z",
     "start_time": "2023-07-24T00:31:41.016422Z"
    }
   }
  },
  {
   "cell_type": "code",
   "execution_count": 19,
   "outputs": [
    {
     "name": "stdout",
     "output_type": "stream",
     "text": [
      "[('M. Tech', 'PERSON'), ('Central Hindu School', 'ORG'), ('Varanasi', 'GPE'), ('St. Atulanand Convent School', 'ORG'), ('2006', 'DATE'), ('7th National Science Olympiad', 'ORG'), ('2005', 'DATE'), ('India Level Mathematics & Science Test', 'ORG'), ('26968', 'DATE'), ('National Standard Examination', 'ORG'), ('4 years', 'DATE'), ('M. Tech Project', 'PERSON'), ('Hadoop MapReduce', 'ORG'), ('Tech Project', 'ORG'), ('IBM', 'ORG'), ('Pune', 'DATE'), ('Java EE', 'PERSON'), ('IBM WebSphere Commerce', 'ORG'), ('summer', 'DATE'), ('IIT Kharagpur', 'ORG'), ('2009', 'DATE'), ('IIT Kharagpur Student Counselling Service', 'ORG'), ('Counselling Centre', 'ORG'), ('IIT Kharagpur', 'ORG'), ('6 months', 'DATE'), ('\\uf0d8  More', 'PERSON'), ('every month', 'DATE'), ('Gate Keepers Training', 'ORG'), ('3000', 'DATE'), ('Spring Fest', 'GPE'), ('2008', 'DATE'), ('Central Hindu School', 'ORG'), ('Lawn Tennis Team', 'GPE'), ('IIT Kharagpur’06', 'ORG')]\n"
     ]
    }
   ],
   "source": [
    "import spacy\n",
    "\n",
    "nlp = spacy.load('../../data/models/spacy/sm/model-best')\n",
    "\n",
    "text = ['''SIDDHARTH RAGHUVANSHI                                Roll No. 06CS3025                                            DOB: 08/08/1988\n",
    "Email: siddharth.iitkharagpur@gmail.com                                                                                          Mobile No.:   +91 9932584135\n",
    "Degree/Certificate\n",
    "Dual Degree[B. Tech (H) + M. Tech]\n",
    "(Computer Science & Engineering)\n",
    "Class XII:  C.B.S.E.\n",
    "Class X:   C.B.S.E.\n",
    "ACADEMIC ACHIEVEMENTS\n",
    "Institute/ School, City\n",
    "Indian Institute of Technology, Kharagpur\n",
    "Central Hindu School, Varanasi\n",
    "St. Atulanand Convent School, Varanasi\n",
    "CGPA/ %  Completion\n",
    "8.26/10\n",
    "86.0%\n",
    "90.8%\n",
    "2011\n",
    "2005\n",
    "2003\n",
    "Competitive\n",
    "Examinations\n",
    "  All India Rank 116 in AIEEE, 2006 among 470,000 students, State Rank 8 in Uttar Pradesh.\n",
    "  All India Rank 119 in 7th National Science Olympiad, 2005.\n",
    "  All India Rank 22 in All India Level Mathematics & Science Test organized by Central Institute  for\n",
    "Proficiency in English Language (CIPEL).\n",
    "Scholastic\n",
    "Achievements\n",
    "  National top 1% out of 26968 candidates appeared in National Standard Examination in Physics’05\n",
    "  Receiving CBSE Merit Scholarship for the past 4 years.\n",
    "ACADEMIC PROJECTS\n",
    "M. Tech Project                                                                                      IIT Kharagpur                                           May’10-Nov’10\n",
    "•\n",
    "•\n",
    "Studied the performance of text indexing algorithms on Hadoop MapReduce architecture.\n",
    "Future work includes implementing more efficient indexing and retrieval techniques in MapReduce for distributed parallel\n",
    "computing.\n",
    "B. Tech Project                                                                                        IIT Kharagpur                                           Aug’09-May’10\n",
    "  Developed a software with can handle all sorts of query related to geographical information extracted from maps.\n",
    "  Developed a client interface which can fetch data from different incompatible geospatial web services and make that data\n",
    "compatible for resolving queries.\n",
    "Integrated my framework engine with different underlying heterogeneous spatial databases.\n",
    "\n",
    "Static Instrumentation Of Java Programs                                          IIT Kharagpur                                                   May’08\n",
    "  Developed a program using Byte Code Engineering Library to do automated testing of java program at byte code level.\n",
    "WORK EXPERIENCE / INTERNSHIP\n",
    "Extreme Blue Internship Program                                                                   ISL, IBM, Pune, India                                       May’09 – July’09\n",
    "Business\n",
    "Perspective\n",
    "Technical\n",
    "Perspective\n",
    " Achievements\n",
    "  Conducted survey in Pune region on the current home delivery status of organized retails\n",
    "\n",
    "Proposed and implemented a solution on how to increase home delivery sales in order to compete with the\n",
    "localized general (kirana) stores\n",
    "\n",
    "Built an independent Home Delivery module on Java EE platform using open standards such as XML and\n",
    "Web Services\n",
    "Integrated the Home Delivery module with IBM WebSphere Commerce.\n",
    "\n",
    "  Received highest grade 10/10 in summer internship evaluation at IIT Kharagpur, 2009.\n",
    "RELEVANT COURSES TAKEN\n",
    "  Machine learning\n",
    "  Algorithms-I\n",
    "  Algorithms-II\n",
    "Information Retrieval\n",
    "\n",
    "  Distributed Systems\n",
    "\n",
    "Probability and Statistics\n",
    "POSITION OF RESPONSIBILITY\n",
    "\n",
    "Student coordinator of IIT Kharagpur Student Counselling Service.\n",
    "  Student member of team that conceptualized and publicized Counselling Centre in IIT Kharagpur after 5 successive suicides\n",
    "in the campus within a span of 6 months in between Feb’09 and Jul’09.\n",
    "  More than 100 students are counselled every month.\n",
    "  No mishaps in the campus as of Sep’10 after the establishment of the centre.\n",
    "  Went through Gate Keepers Training to identify behavioral change in a person.\n",
    "  Managed  the  systems  team  of  Bitwise-2010,  an  international  algorithmic  intensive  programming  contest  leading  to  the\n",
    "participation of 3000 teams across 75 countries.\n",
    "\n",
    "Family Sub-head of accommodation team in Spring Fest, 2008.\n",
    "  Head boy of my Senior Secondary School (Central Hindu School).\n",
    "e\n",
    "EXTRA CURRICULAR ACHIEVEMENTS\n",
    "  Member of Silver winning team in inter hall OPENSOFT Competition in the session 2007-08.\n",
    "  National Sports Organization: Among Top 30 students in Lawn Tennis Team at IIT Kharagpur’06. ''']\n",
    "\n",
    "for doc in nlp.pipe(text, disable=[\"tagger\", \"parser\"]):\n",
    "    print([(ent.text, ent.label_) for ent in doc.ents])"
   ],
   "metadata": {
    "collapsed": false,
    "ExecuteTime": {
     "end_time": "2023-07-21T23:11:27.234652Z",
     "start_time": "2023-07-21T23:11:26.835385Z"
    }
   }
  },
  {
   "cell_type": "code",
   "execution_count": 23,
   "outputs": [
    {
     "name": "stdout",
     "output_type": "stream",
     "text": [
      "\u001B[38;5;2m✔ Auto-filled config with all values\u001B[0m\r\n",
      "\u001B[38;5;2m✔ Saved config\u001B[0m\r\n",
      "config/config_sm_2nd_step.cfg\r\n",
      "You can now add your data and train your pipeline:\r\n",
      "python -m spacy train config_sm_2nd_step.cfg --paths.train ./train.spacy --paths.dev ./dev.spacy\r\n"
     ]
    }
   ],
   "source": [
    "!python -m spacy init fill-config config/base_config_sm_2nd_step.cfg config/config_sm_2nd_step.cfg"
   ],
   "metadata": {
    "collapsed": false,
    "ExecuteTime": {
     "end_time": "2023-07-21T23:13:08.013747Z",
     "start_time": "2023-07-21T23:13:04.612492Z"
    }
   }
  },
  {
   "cell_type": "code",
   "execution_count": 24,
   "outputs": [
    {
     "name": "stdout",
     "output_type": "stream",
     "text": [
      "\u001B[1m\r\n",
      "============================ Data file validation ============================\u001B[0m\r\n",
      "/Users/bpayne/code/data-science/pii-redaction/venv/lib/python3.10/site-packages/spacy/training/initialize.py:140: UserWarning: [W113] Sourced component 'echr' may not work as expected: source vectors are not identical to current pipeline vectors.\r\n",
      "  warnings.warn(Warnings.W113.format(name=sourced_component))\r\n",
      "/Users/bpayne/code/data-science/pii-redaction/venv/lib/python3.10/site-packages/spacy/training/initialize.py:140: UserWarning: [W113] Sourced component 'ner' may not work as expected: source vectors are not identical to current pipeline vectors.\r\n",
      "  warnings.warn(Warnings.W113.format(name=sourced_component))\r\n",
      "\u001B[38;5;2m✔ Pipeline can be initialized with data\u001B[0m\r\n",
      "\u001B[38;5;2m✔ Corpus is loadable\u001B[0m\r\n",
      "\u001B[1m\r\n",
      "=============================== Training stats ===============================\u001B[0m\r\n",
      "Language: en\r\n",
      "Training pipeline: echr, ner\r\n",
      "Components from other pipelines: echr, ner\r\n",
      "1141 training docs\r\n",
      "127 evaluation docs\r\n",
      "\u001B[38;5;2m✔ No overlap between training and evaluation data\u001B[0m\r\n",
      "\u001B[1m\r\n",
      "============================== Vocab & Vectors ==============================\u001B[0m\r\n",
      "\u001B[38;5;4mℹ 1704123 total word(s) in the data (32105 unique)\u001B[0m\r\n",
      "\u001B[38;5;4mℹ 20000 vectors (514157 unique keys, 300 dimensions)\u001B[0m\r\n",
      "\u001B[38;5;3m⚠ 44850 words in training data without vectors (3%)\u001B[0m\r\n",
      "\u001B[1m\r\n",
      "========================== Named Entity Recognition ==========================\u001B[0m\r\n",
      "\u001B[38;5;4mℹ 19 label(s)\u001B[0m\r\n",
      "0 missing value(s) (tokens with '-' label)\r\n",
      "\u001B[38;5;3m⚠ Some model labels are not present in the train data. The model\r\n",
      "performance may be degraded for these labels after training: 'QUANTITY',\r\n",
      "'PERCENT', 'TIME', 'PRODUCT', 'MONEY', 'LOC', 'WORK_OF_ART', 'FAC', 'EVENT',\r\n",
      "'CARDINAL', 'ORDINAL', 'LANGUAGE', 'LAW', 'NORP'.\u001B[0m\r\n",
      "\u001B[38;5;2m✔ Good amount of examples for all labels\u001B[0m\r\n",
      "\u001B[38;5;2m✔ Examples without occurrences available for all labels\u001B[0m\r\n",
      "\u001B[38;5;2m✔ No entities consisting of or starting/ending with whitespace\u001B[0m\r\n",
      "\u001B[38;5;2m✔ No entities crossing sentence boundaries\u001B[0m\r\n",
      "\u001B[1m\r\n",
      "================================== Summary ==================================\u001B[0m\r\n",
      "\u001B[38;5;2m✔ 7 checks passed\u001B[0m\r\n",
      "\u001B[38;5;3m⚠ 2 warnings\u001B[0m\r\n"
     ]
    }
   ],
   "source": [
    "!python -m spacy debug data config/config_sm_2nd_step.cfg"
   ],
   "metadata": {
    "collapsed": false,
    "ExecuteTime": {
     "end_time": "2023-07-21T23:14:15.187505Z",
     "start_time": "2023-07-21T23:13:14.005085Z"
    }
   }
  }
 ],
 "metadata": {
  "kernelspec": {
   "display_name": "Python 3",
   "language": "python",
   "name": "python3"
  },
  "language_info": {
   "codemirror_mode": {
    "name": "ipython",
    "version": 2
   },
   "file_extension": ".py",
   "mimetype": "text/x-python",
   "name": "python",
   "nbconvert_exporter": "python",
   "pygments_lexer": "ipython2",
   "version": "2.7.6"
  }
 },
 "nbformat": 4,
 "nbformat_minor": 0
}
