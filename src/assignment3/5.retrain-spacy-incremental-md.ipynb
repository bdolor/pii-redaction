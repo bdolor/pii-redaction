{
 "cells": [
  {
   "cell_type": "markdown",
   "source": [
    "# Method 1, Incremental Training\n",
    "## Using SpaCy CLI for training and evaluation\n",
    "These training steps use two stages.\n",
    "Stage 1 trains a base model `en_core_web_md` first with ECHR data, then evaluates with ECHR test data. After this stage 'Catastrophic Forgetting' can be observed by the missing entities from the base model.\n",
    "Stage 2 resumes the training process, picking up from Stage 1 and uses an annotated dataset which was run against a SpaCy model. It contains entities from the original model plus a few new entities that was added by Presidio (ADDRESS, PHONE, URL, etc)"
   ],
   "metadata": {
    "collapsed": false
   }
  },
  {
   "cell_type": "code",
   "execution_count": null,
   "outputs": [],
   "source": [
    "#!python -m spacy download en_core_web_md"
   ],
   "metadata": {
    "collapsed": false
   }
  },
  {
   "cell_type": "code",
   "execution_count": 99,
   "outputs": [
    {
     "name": "stdout",
     "output_type": "stream",
     "text": [
      "\u001B[38;5;4mℹ Using GPU: 0\u001B[0m\r\n",
      "\u001B[1m\r\n",
      "================================== Results ==================================\u001B[0m\r\n",
      "\r\n",
      "TOK      100.00\r\n",
      "TAG      -     \r\n",
      "POS      -     \r\n",
      "MORPH    -     \r\n",
      "LEMMA    -     \r\n",
      "UAS      -     \r\n",
      "LAS      -     \r\n",
      "NER P    31.29 \r\n",
      "NER R    49.38 \r\n",
      "NER F    38.31 \r\n",
      "SENT P   -     \r\n",
      "SENT R   -     \r\n",
      "SENT F   -     \r\n",
      "SPEED    8078  \r\n",
      "\r\n",
      "\u001B[1m\r\n",
      "=============================== NER (per type) ===============================\u001B[0m\r\n",
      "\r\n",
      "                  P       R       F\r\n",
      "CARDINAL       0.00    0.00    0.00\r\n",
      "GPE           44.95   67.34   53.91\r\n",
      "ORG            9.57   13.56   11.22\r\n",
      "LAW            0.00    0.00    0.00\r\n",
      "NORP           0.00    0.00    0.00\r\n",
      "PERSON        18.41   20.68   19.48\r\n",
      "DATE          78.61   91.17   84.42\r\n",
      "ORDINAL        0.00    0.00    0.00\r\n",
      "DEM            0.00    0.00    0.00\r\n",
      "FAC            0.00    0.00    0.00\r\n",
      "TIME           0.00    0.00    0.00\r\n",
      "QUANTITY       0.00    0.00    0.00\r\n",
      "MONEY          0.00    0.00    0.00\r\n",
      "PERCENT        0.00    0.00    0.00\r\n",
      "LANGUAGE       0.00    0.00    0.00\r\n",
      "PRODUCT        0.00    0.00    0.00\r\n",
      "LOC            0.00    0.00    0.00\r\n",
      "WORK_OF_ART    0.00    0.00    0.00\r\n",
      "EVENT          0.00    0.00    0.00\r\n",
      "\r\n"
     ]
    }
   ],
   "source": [
    "!python -m spacy benchmark accuracy --gpu-id=0 \"en_core_web_md\" \"../../data/annotated/dev.spacy\""
   ],
   "metadata": {
    "collapsed": false,
    "ExecuteTime": {
     "end_time": "2023-07-26T22:40:37.589082Z",
     "start_time": "2023-07-26T22:40:11.688486Z"
    }
   }
  },
  {
   "cell_type": "code",
   "execution_count": 77,
   "outputs": [
    {
     "name": "stdout",
     "output_type": "stream",
     "text": [
      "[('SIDDHARTH RAGHUVANSHI Roll', 'PERSON'), ('Computer Science & Engineering', 'ORG'), ('City Indian Institute of Technology', 'ORG'), ('Kharagpur Central Hindu School', 'ORG'), ('Varanasi', 'GPE'), ('Varanasi', 'GPE'), ('86.0%', 'PERCENT'), ('90.8%', 'PERCENT'), ('2011 2005', 'DATE'), ('2003', 'DATE'), ('116', 'CARDINAL'), ('AIEEE', 'GPE'), ('2006', 'DATE'), ('470,000', 'CARDINAL'), ('State', 'ORG'), ('8', 'CARDINAL'), ('Uttar Pradesh', 'GPE'), ('119', 'CARDINAL'), ('7th', 'ORDINAL'), ('National Science Olympiad, 2005', 'EVENT'), ('22', 'CARDINAL'), ('Central Institute for Proficiency', 'ORG'), ('English', 'LANGUAGE'), ('CIPEL', 'PERSON'), ('1%', 'PERCENT'), ('26968', 'CARDINAL'), ('National Standard Examination', 'ORG'), ('the past 4 years', 'DATE'), ('ACADEMIC PROJECTS M. Tech Project', 'ORG'), ('IIT', 'ORG'), ('Kharagpur', 'GPE'), ('Hadoop', 'ORG'), ('B. Tech Project', 'ORG'), ('IIT', 'ORG'), ('IIT Kharagpur May’08 \\uf0a7', 'ORG'), ('Byte Code Engineering Library', 'ORG'), ('INTERNSHIP Extreme Blue Internship Program', 'ORG'), ('IBM', 'ORG'), ('Pune', 'GPE'), ('India', 'GPE'), ('Business Perspective Technical Perspective', 'ORG'), ('Pune', 'GPE'), ('kirana', 'ORG'), ('Home Delivery', 'ORG'), ('Java EE', 'ORG'), ('XML', 'ORG'), ('IBM WebSphere Commerce', 'ORG'), ('10/10', 'CARDINAL'), ('summer', 'DATE'), ('IIT Kharagpur', 'ORG'), ('2009', 'DATE'), ('IIT Kharagpur Student Counselling Service', 'ORG'), ('Counselling Centre', 'ORG'), ('IIT Kharagpur', 'GPE'), ('5', 'CARDINAL'), ('a span of 6 months', 'DATE'), ('Feb’09', 'PERSON'), ('More than 100', 'CARDINAL'), ('every month', 'DATE'), ('Sep’10', 'PERSON'), ('Bitwise-2010', 'ORG'), ('3000', 'CARDINAL'), ('75', 'CARDINAL'), ('Spring Fest', 'EVENT'), ('2008', 'DATE'), ('inter hall OPENSOFT Competition', 'ORG'), ('2007-08', 'DATE'), ('National Sports Organization', 'ORG'), ('30', 'CARDINAL'), ('Lawn Tennis Team', 'ORG'), ('IIT Kharagpur’06', 'ORG')]\n"
     ]
    }
   ],
   "source": [
    "# baseline test against pre-trained model to see which entities it picks up from resume text.\n",
    "\n",
    "import spacy\n",
    "import re\n",
    "activated = spacy.prefer_gpu()\n",
    "nlp = spacy.load('en_core_web_md')\n",
    "\n",
    "text = ['''SIDDHARTH RAGHUVANSHI                                Roll No. 06CS3025                                            DOB: 08/08/1988\n",
    "Email: siddharth.iitkharagpur@gmail.com                                                                                          Mobile No.:   +91 9932584135\n",
    "Degree/Certificate\n",
    "Dual Degree[B. Tech (H) + M. Tech]\n",
    "(Computer Science & Engineering)\n",
    "Class XII:  C.B.S.E.\n",
    "Class X:   C.B.S.E.\n",
    "ACADEMIC ACHIEVEMENTS\n",
    "Institute/ School, City\n",
    "Indian Institute of Technology, Kharagpur\n",
    "Central Hindu School, Varanasi\n",
    "St. Atulanand Convent School, Varanasi\n",
    "CGPA/ %  Completion\n",
    "8.26/10\n",
    "86.0%\n",
    "90.8%\n",
    "2011\n",
    "2005\n",
    "2003\n",
    "Competitive\n",
    "Examinations\n",
    "  All India Rank 116 in AIEEE, 2006 among 470,000 students, State Rank 8 in Uttar Pradesh.\n",
    "  All India Rank 119 in 7th National Science Olympiad, 2005.\n",
    "  All India Rank 22 in All India Level Mathematics & Science Test organized by Central Institute  for\n",
    "Proficiency in English Language (CIPEL).\n",
    "Scholastic\n",
    "Achievements\n",
    "  National top 1% out of 26968 candidates appeared in National Standard Examination in Physics’05\n",
    "  Receiving CBSE Merit Scholarship for the past 4 years.\n",
    "ACADEMIC PROJECTS\n",
    "M. Tech Project                                                                                      IIT Kharagpur                                           May’10-Nov’10\n",
    "•\n",
    "•\n",
    "Studied the performance of text indexing algorithms on Hadoop MapReduce architecture.\n",
    "Future work includes implementing more efficient indexing and retrieval techniques in MapReduce for distributed parallel\n",
    "computing.\n",
    "B. Tech Project                                                                                        IIT Kharagpur                                           Aug’09-May’10\n",
    "  Developed a software with can handle all sorts of query related to geographical information extracted from maps.\n",
    "  Developed a client interface which can fetch data from different incompatible geospatial web services and make that data\n",
    "compatible for resolving queries.\n",
    "Integrated my framework engine with different underlying heterogeneous spatial databases.\n",
    "\n",
    "Static Instrumentation Of Java Programs                                          IIT Kharagpur                                                   May’08\n",
    "  Developed a program using Byte Code Engineering Library to do automated testing of java program at byte code level.\n",
    "WORK EXPERIENCE / INTERNSHIP\n",
    "Extreme Blue Internship Program                                                                   ISL, IBM, Pune, India                                       May’09 – July’09\n",
    "Business\n",
    "Perspective\n",
    "Technical\n",
    "Perspective\n",
    " Achievements\n",
    "  Conducted survey in Pune region on the current home delivery status of organized retails\n",
    "\n",
    "Proposed and implemented a solution on how to increase home delivery sales in order to compete with the\n",
    "localized general (kirana) stores\n",
    "\n",
    "Built an independent Home Delivery module on Java EE platform using open standards such as XML and\n",
    "Web Services\n",
    "Integrated the Home Delivery module with IBM WebSphere Commerce.\n",
    "\n",
    "  Received highest grade 10/10 in summer internship evaluation at IIT Kharagpur, 2009.\n",
    "RELEVANT COURSES TAKEN\n",
    "  Machine learning\n",
    "  Algorithms-I\n",
    "  Algorithms-II\n",
    "Information Retrieval\n",
    "\n",
    "  Distributed Systems\n",
    "\n",
    "Probability and Statistics\n",
    "POSITION OF RESPONSIBILITY\n",
    "\n",
    "Student coordinator of IIT Kharagpur Student Counselling Service.\n",
    "  Student member of team that conceptualized and publicized Counselling Centre in IIT Kharagpur after 5 successive suicides\n",
    "in the campus within a span of 6 months in between Feb’09 and Jul’09.\n",
    "  More than 100 students are counselled every month.\n",
    "  No mishaps in the campus as of Sep’10 after the establishment of the centre.\n",
    "  Went through Gate Keepers Training to identify behavioral change in a person.\n",
    "  Managed  the  systems  team  of  Bitwise-2010,  an  international  algorithmic  intensive  programming  contest  leading  to  the\n",
    "participation of 3000 teams across 75 countries.\n",
    "\n",
    "Family Sub-head of accommodation team in Spring Fest, 2008.\n",
    "  Head boy of my Senior Secondary School (Central Hindu School).\n",
    "e\n",
    "EXTRA CURRICULAR ACHIEVEMENTS\n",
    "  Member of Silver winning team in inter hall OPENSOFT Competition in the session 2007-08.\n",
    "  National Sports Organization: Among Top 30 students in Lawn Tennis Team at IIT Kharagpur’06. ''']\n",
    "\n",
    "# normalize whitespace as per https://github.com/explosion/spaCy/discussions/10243\n",
    "r = []\n",
    "for t in text:\n",
    "    r.append(re.sub(r\"\\s+\", \" \", t))\n",
    "\n",
    "for doc in nlp.pipe(r):\n",
    "    print([(ent.text, ent.label_) for ent in doc.ents])"
   ],
   "metadata": {
    "collapsed": false,
    "ExecuteTime": {
     "end_time": "2023-07-26T21:17:32.038651Z",
     "start_time": "2023-07-26T21:17:29.861025Z"
    }
   }
  },
  {
   "cell_type": "code",
   "execution_count": 78,
   "outputs": [
    {
     "name": "stdout",
     "output_type": "stream",
     "text": [
      "\u001B[38;5;2m✔ Auto-filled config with all values\u001B[0m\r\n",
      "\u001B[38;5;2m✔ Saved config\u001B[0m\r\n",
      "config/config_md.cfg\r\n",
      "You can now add your data and train your pipeline:\r\n",
      "python -m spacy train config_md.cfg --paths.train ./train.spacy --paths.dev ./dev.spacy\r\n"
     ]
    }
   ],
   "source": [
    "!python -m spacy init fill-config config/base_config_md.cfg config/config_md.cfg"
   ],
   "metadata": {
    "collapsed": false,
    "ExecuteTime": {
     "end_time": "2023-07-26T21:18:08.925623Z",
     "start_time": "2023-07-26T21:18:03.201992Z"
    }
   }
  },
  {
   "cell_type": "code",
   "execution_count": 79,
   "outputs": [
    {
     "name": "stdout",
     "output_type": "stream",
     "text": [
      "\u001B[1m\r\n",
      "============================ Data file validation ============================\u001B[0m\r\n",
      "\u001B[38;5;2m✔ Pipeline can be initialized with data\u001B[0m\r\n",
      "\u001B[38;5;2m✔ Corpus is loadable\u001B[0m\r\n",
      "\u001B[1m\r\n",
      "=============================== Training stats ===============================\u001B[0m\r\n",
      "Language: en\r\n",
      "Training pipeline: tok2vec, ner\r\n",
      "Components from other pipelines: ner, tok2vec\r\n",
      "1141 training docs\r\n",
      "127 evaluation docs\r\n",
      "\u001B[38;5;2m✔ No overlap between training and evaluation data\u001B[0m\r\n",
      "\u001B[1m\r\n",
      "============================== Vocab & Vectors ==============================\u001B[0m\r\n",
      "\u001B[38;5;4mℹ 1704123 total word(s) in the data (32105 unique)\u001B[0m\r\n",
      "\u001B[38;5;4mℹ 20000 vectors (514157 unique keys, 300 dimensions)\u001B[0m\r\n",
      "\u001B[38;5;3m⚠ 44850 words in training data without vectors (3%)\u001B[0m\r\n",
      "\u001B[1m\r\n",
      "========================== Named Entity Recognition ==========================\u001B[0m\r\n",
      "\u001B[38;5;4mℹ 19 label(s)\u001B[0m\r\n",
      "0 missing value(s) (tokens with '-' label)\r\n",
      "\u001B[38;5;3m⚠ Some model labels are not present in the train data. The model\r\n",
      "performance may be degraded for these labels after training: 'NORP',\r\n",
      "'WORK_OF_ART', 'EVENT', 'FAC', 'MONEY', 'LOC', 'ORDINAL', 'LAW', 'CARDINAL',\r\n",
      "'PRODUCT', 'LANGUAGE', 'QUANTITY', 'TIME', 'PERCENT'.\u001B[0m\r\n",
      "\u001B[38;5;2m✔ Good amount of examples for all labels\u001B[0m\r\n",
      "\u001B[38;5;2m✔ Examples without occurrences available for all labels\u001B[0m\r\n",
      "\u001B[38;5;2m✔ No entities consisting of or starting/ending with whitespace\u001B[0m\r\n",
      "\u001B[38;5;2m✔ No entities crossing sentence boundaries\u001B[0m\r\n",
      "\u001B[1m\r\n",
      "================================== Summary ==================================\u001B[0m\r\n",
      "\u001B[38;5;2m✔ 7 checks passed\u001B[0m\r\n",
      "\u001B[38;5;3m⚠ 2 warnings\u001B[0m\r\n"
     ]
    }
   ],
   "source": [
    "!python -m spacy debug data config/config_md.cfg"
   ],
   "metadata": {
    "collapsed": false,
    "ExecuteTime": {
     "end_time": "2023-07-26T21:19:13.431777Z",
     "start_time": "2023-07-26T21:18:12.154440Z"
    }
   }
  },
  {
   "cell_type": "code",
   "execution_count": 80,
   "outputs": [
    {
     "name": "stdout",
     "output_type": "stream",
     "text": [
      "\u001B[38;5;4mℹ Saving to output directory: ../../data/models/spacy/md\u001B[0m\r\n",
      "\u001B[38;5;4mℹ Using GPU: 0\u001B[0m\r\n",
      "\u001B[1m\r\n",
      "=========================== Initializing pipeline ===========================\u001B[0m\r\n",
      "[2023-07-26 14:20:37,022] [INFO] Set up nlp object from config\r\n",
      "[2023-07-26 14:20:37,032] [INFO] Pipeline: ['tok2vec', 'ner']\r\n",
      "[2023-07-26 14:20:37,033] [INFO] Resuming training for: ['ner', 'tok2vec']\r\n",
      "[2023-07-26 14:20:37,039] [INFO] Created vocabulary\r\n",
      "[2023-07-26 14:20:38,612] [INFO] Added vectors: en_core_web_md\r\n",
      "[2023-07-26 14:20:38,690] [INFO] Finished initializing nlp object\r\n",
      "[2023-07-26 14:20:38,690] [INFO] Initialized pipeline components: []\r\n",
      "\u001B[38;5;2m✔ Initialized pipeline\u001B[0m\r\n",
      "\u001B[1m\r\n",
      "============================= Training pipeline =============================\u001B[0m\r\n",
      "\u001B[38;5;4mℹ Pipeline: ['tok2vec', 'ner']\u001B[0m\r\n",
      "\u001B[38;5;4mℹ Initial learn rate: 0.001\u001B[0m\r\n",
      "E    #       LOSS TOK2VEC  LOSS NER  ENTS_F  ENTS_P  ENTS_R  SCORE \r\n",
      "---  ------  ------------  --------  ------  ------  ------  ------\r\n",
      "  0       0          0.00    441.75   38.98   31.98   49.90    0.39\r\n",
      "  0     200          0.00   7708.04   81.66   81.49   81.83    0.82\r\n",
      "  0     400          0.00   6083.01   77.79   83.54   72.77    0.78\r\n",
      "  0     600          0.00   6855.61   83.07   86.55   79.85    0.83\r\n",
      "  0     800          0.00   6127.66   84.47   86.06   82.94    0.84\r\n",
      "  0    1000          0.00   6125.52   83.98   87.60   80.65    0.84\r\n",
      "  1    1200          0.00   6350.79   83.13   82.88   83.39    0.83\r\n",
      "  1    1400          0.00   5316.59   85.73   88.69   82.97    0.86\r\n",
      "  1    1600          0.00   5968.20   85.34   87.41   83.37    0.85\r\n",
      "  1    1800          0.00   5609.68   86.66   89.29   84.18    0.87\r\n",
      "  1    2000          0.00   5488.21   85.79   86.34   85.25    0.86\r\n",
      "  1    2200          0.00   5524.98   85.60   88.75   82.67    0.86\r\n",
      "  2    2400          0.00   5101.62   84.69   84.28   85.12    0.85\r\n",
      "  2    2600          0.00   4276.98   85.84   88.77   83.10    0.86\r\n",
      "  2    2800          0.00   5859.73   86.20   89.37   83.25    0.86\r\n",
      "  2    3000          0.00   5233.71   86.30   88.38   84.32    0.86\r\n",
      "  2    3200          0.00   5820.79   85.95   88.30   83.72    0.86\r\n",
      "  2    3400          0.00   4837.54   85.03   85.70   84.37    0.85\r\n",
      "\u001B[38;5;2m✔ Saved pipeline to output directory\u001B[0m\r\n",
      "../../data/models/spacy/md/model-last\r\n"
     ]
    }
   ],
   "source": [
    "!python -m spacy train --gpu-id=0 config/config_md.cfg -o ../../data/models/spacy/md"
   ],
   "metadata": {
    "collapsed": false,
    "ExecuteTime": {
     "end_time": "2023-07-26T21:41:04.802500Z",
     "start_time": "2023-07-26T21:20:32.330961Z"
    }
   }
  },
  {
   "cell_type": "code",
   "execution_count": 81,
   "outputs": [
    {
     "name": "stdout",
     "output_type": "stream",
     "text": [
      "\u001B[38;5;4mℹ Using GPU: 0\u001B[0m\r\n",
      "\u001B[1m\r\n",
      "================================== Results ==================================\u001B[0m\r\n",
      "\r\n",
      "TOK     100.00\r\n",
      "NER P   89.29 \r\n",
      "NER R   84.18 \r\n",
      "NER F   86.66 \r\n",
      "SPEED   11354 \r\n",
      "\r\n",
      "\u001B[1m\r\n",
      "=============================== NER (per type) ===============================\u001B[0m\r\n",
      "\r\n",
      "             P       R       F\r\n",
      "ORG      85.48   73.40   78.98\r\n",
      "DEM      77.63   42.34   54.80\r\n",
      "PERSON   90.25   95.24   92.68\r\n",
      "DATE     92.53   94.23   93.37\r\n",
      "GPE      87.95   85.22   86.56\r\n",
      "\r\n"
     ]
    }
   ],
   "source": [
    "!python -m spacy benchmark accuracy --gpu-id=0 \"../../data/models/spacy/md/model-best\" \"../../data/annotated/dev.spacy\"\n",
    "# !python -m spacy evaluate benchmark accuracy --help"
   ],
   "metadata": {
    "collapsed": false,
    "ExecuteTime": {
     "end_time": "2023-07-26T21:49:56.950994Z",
     "start_time": "2023-07-26T21:49:39.588928Z"
    }
   }
  },
  {
   "cell_type": "code",
   "execution_count": 82,
   "outputs": [
    {
     "name": "stdout",
     "output_type": "stream",
     "text": [
      "[('Kharagpur Central Hindu School', 'ORG'), ('Varanasi St. Atulanand Convent School', 'ORG'), ('Varanasi', 'GPE'), ('2006', 'DATE'), ('Uttar Pradesh', 'GPE'), ('2005', 'DATE'), ('Central Institute for Proficiency in English Language (CIPEL)', 'ORG'), ('National Standard Examination', 'ORG'), ('4 years', 'DATE'), ('IIT', 'GPE'), ('Hadoop', 'GPE'), ('IBM', 'ORG'), ('Pune', 'GPE'), ('Pune', 'GPE'), ('Java EE', 'ORG'), ('XML and Web Services Integrated the Home Delivery', 'ORG'), ('IBM WebSphere Commerce', 'ORG'), ('IIT Kharagpur', 'GPE'), ('2009', 'DATE'), ('IIT Kharagpur Student Counselling Service', 'ORG'), ('Counselling Centre', 'ORG'), ('IIT Kharagpur', 'GPE'), ('6 months', 'DATE'), ('Feb’09', 'PERSON'), ('every month', 'DATE'), ('Bitwise-2010', 'ORG'), ('Spring Fest', 'ORG'), ('2008', 'DATE'), ('2007-08', 'DATE'), ('National Sports Organization', 'ORG'), ('Lawn Tennis Team', 'ORG'), ('IIT Kharagpur’06', 'GPE')]\n"
     ]
    }
   ],
   "source": [
    "activated = spacy.prefer_gpu()\n",
    "nlp = spacy.load('../../data/models/spacy/md/model-best')\n",
    "\n",
    "text = ['''SIDDHARTH RAGHUVANSHI                                Roll No. 06CS3025                                            DOB: 08/08/1988\n",
    "Email: siddharth.iitkharagpur@gmail.com                                                                                          Mobile No.:   +91 9932584135\n",
    "Degree/Certificate\n",
    "Dual Degree[B. Tech (H) + M. Tech]\n",
    "(Computer Science & Engineering)\n",
    "Class XII:  C.B.S.E.\n",
    "Class X:   C.B.S.E.\n",
    "ACADEMIC ACHIEVEMENTS\n",
    "Institute/ School, City\n",
    "Indian Institute of Technology, Kharagpur\n",
    "Central Hindu School, Varanasi\n",
    "St. Atulanand Convent School, Varanasi\n",
    "CGPA/ %  Completion\n",
    "8.26/10\n",
    "86.0%\n",
    "90.8%\n",
    "2011\n",
    "2005\n",
    "2003\n",
    "Competitive\n",
    "Examinations\n",
    "  All India Rank 116 in AIEEE, 2006 among 470,000 students, State Rank 8 in Uttar Pradesh.\n",
    "  All India Rank 119 in 7th National Science Olympiad, 2005.\n",
    "  All India Rank 22 in All India Level Mathematics & Science Test organized by Central Institute  for\n",
    "Proficiency in English Language (CIPEL).\n",
    "Scholastic\n",
    "Achievements\n",
    "  National top 1% out of 26968 candidates appeared in National Standard Examination in Physics’05\n",
    "  Receiving CBSE Merit Scholarship for the past 4 years.\n",
    "ACADEMIC PROJECTS\n",
    "M. Tech Project                                                                                      IIT Kharagpur                                           May’10-Nov’10\n",
    "•\n",
    "•\n",
    "Studied the performance of text indexing algorithms on Hadoop MapReduce architecture.\n",
    "Future work includes implementing more efficient indexing and retrieval techniques in MapReduce for distributed parallel\n",
    "computing.\n",
    "B. Tech Project                                                                                        IIT Kharagpur                                           Aug’09-May’10\n",
    "  Developed a software with can handle all sorts of query related to geographical information extracted from maps.\n",
    "  Developed a client interface which can fetch data from different incompatible geospatial web services and make that data\n",
    "compatible for resolving queries.\n",
    "Integrated my framework engine with different underlying heterogeneous spatial databases.\n",
    "\n",
    "Static Instrumentation Of Java Programs                                          IIT Kharagpur                                                   May’08\n",
    "  Developed a program using Byte Code Engineering Library to do automated testing of java program at byte code level.\n",
    "WORK EXPERIENCE / INTERNSHIP\n",
    "Extreme Blue Internship Program                                                                   ISL, IBM, Pune, India                                       May’09 – July’09\n",
    "Business\n",
    "Perspective\n",
    "Technical\n",
    "Perspective\n",
    " Achievements\n",
    "  Conducted survey in Pune region on the current home delivery status of organized retails\n",
    "\n",
    "Proposed and implemented a solution on how to increase home delivery sales in order to compete with the\n",
    "localized general (kirana) stores\n",
    "\n",
    "Built an independent Home Delivery module on Java EE platform using open standards such as XML and\n",
    "Web Services\n",
    "Integrated the Home Delivery module with IBM WebSphere Commerce.\n",
    "\n",
    "  Received highest grade 10/10 in summer internship evaluation at IIT Kharagpur, 2009.\n",
    "RELEVANT COURSES TAKEN\n",
    "  Machine learning\n",
    "  Algorithms-I\n",
    "  Algorithms-II\n",
    "Information Retrieval\n",
    "\n",
    "  Distributed Systems\n",
    "\n",
    "Probability and Statistics\n",
    "POSITION OF RESPONSIBILITY\n",
    "\n",
    "Student coordinator of IIT Kharagpur Student Counselling Service.\n",
    "  Student member of team that conceptualized and publicized Counselling Centre in IIT Kharagpur after 5 successive suicides\n",
    "in the campus within a span of 6 months in between Feb’09 and Jul’09.\n",
    "  More than 100 students are counselled every month.\n",
    "  No mishaps in the campus as of Sep’10 after the establishment of the centre.\n",
    "  Went through Gate Keepers Training to identify behavioral change in a person.\n",
    "  Managed  the  systems  team  of  Bitwise-2010,  an  international  algorithmic  intensive  programming  contest  leading  to  the\n",
    "participation of 3000 teams across 75 countries.\n",
    "\n",
    "Family Sub-head of accommodation team in Spring Fest, 2008.\n",
    "  Head boy of my Senior Secondary School (Central Hindu School).\n",
    "e\n",
    "EXTRA CURRICULAR ACHIEVEMENTS\n",
    "  Member of Silver winning team in inter hall OPENSOFT Competition in the session 2007-08.\n",
    "  National Sports Organization: Among Top 30 students in Lawn Tennis Team at IIT Kharagpur’06. ''']\n",
    "\n",
    "# normalize whitespace as per https://github.com/explosion/spaCy/discussions/10243\n",
    "r = []\n",
    "for t in text:\n",
    "    r.append(re.sub(r\"\\s+\", \" \", t))\n",
    "\n",
    "for doc in nlp.pipe(r):\n",
    "    print([(ent.text, ent.label_) for ent in doc.ents])"
   ],
   "metadata": {
    "collapsed": false,
    "ExecuteTime": {
     "end_time": "2023-07-26T21:51:08.602689Z",
     "start_time": "2023-07-26T21:51:07.204469Z"
    }
   }
  },
  {
   "cell_type": "code",
   "execution_count": 100,
   "outputs": [
    {
     "name": "stdout",
     "output_type": "stream",
     "text": [
      "\u001B[38;5;2m✔ Auto-filled config with all values\u001B[0m\r\n",
      "\u001B[38;5;2m✔ Saved config\u001B[0m\r\n",
      "config/config_md_2nd_step.cfg\r\n",
      "You can now add your data and train your pipeline:\r\n",
      "python -m spacy train config_md_2nd_step.cfg --paths.train ./train.spacy --paths.dev ./dev.spacy\r\n"
     ]
    }
   ],
   "source": [
    "!python -m spacy init fill-config config/base_config_md_2nd_step.cfg config/config_md_2nd_step.cfg"
   ],
   "metadata": {
    "collapsed": false,
    "ExecuteTime": {
     "end_time": "2023-07-27T04:19:20.537222Z",
     "start_time": "2023-07-27T04:19:13.386206Z"
    }
   }
  },
  {
   "cell_type": "code",
   "execution_count": 101,
   "outputs": [
    {
     "name": "stdout",
     "output_type": "stream",
     "text": [
      "\u001B[1m\r\n",
      "============================ Data file validation ============================\u001B[0m\r\n",
      "\u001B[38;5;2m✔ Pipeline can be initialized with data\u001B[0m\r\n",
      "\u001B[38;5;2m✔ Corpus is loadable\u001B[0m\r\n",
      "\u001B[1m\r\n",
      "=============================== Training stats ===============================\u001B[0m\r\n",
      "Language: en\r\n",
      "Training pipeline: tok2vec, ner\r\n",
      "Components from other pipelines: ner, tok2vec\r\n",
      "2852 training docs\r\n",
      "757 evaluation docs\r\n",
      "\u001B[38;5;3m⚠ 39 training examples also in evaluation data\u001B[0m\r\n",
      "\u001B[1m\r\n",
      "============================== Vocab & Vectors ==============================\u001B[0m\r\n",
      "\u001B[38;5;4mℹ 75737 total word(s) in the data (10291 unique)\u001B[0m\r\n",
      "\u001B[38;5;4mℹ 20000 vectors (514157 unique keys, 300 dimensions)\u001B[0m\r\n",
      "\u001B[38;5;3m⚠ 1952 words in training data without vectors (3%)\u001B[0m\r\n",
      "\u001B[1m\r\n",
      "========================== Named Entity Recognition ==========================\u001B[0m\r\n",
      "\u001B[38;5;4mℹ 19 label(s)\u001B[0m\r\n",
      "0 missing value(s) (tokens with '-' label)\r\n",
      "\u001B[38;5;3m⚠ Some model labels are not present in the train data. The model\r\n",
      "performance may be degraded for these labels after training: 'DEM'.\u001B[0m\r\n",
      "\u001B[38;5;3m⚠ Low number of examples for label 'LAW' (20)\u001B[0m\r\n",
      "\u001B[2K\u001B[38;5;3m⚠ Low number of examples for label 'FAC' (28)\u001B[0m\r\n",
      "\u001B[2K\u001B[38;5;3m⚠ Low number of examples for label 'EVENT' (13)\u001B[0m\r\n",
      "\u001B[2K\u001B[38;5;3m⚠ Low number of examples for label 'MONEY' (27)\u001B[0m\r\n",
      "\u001B[2K\u001B[38;5;3m⚠ Low number of examples for label 'LANGUAGE' (19)\u001B[0m\r\n",
      "\u001B[2K\u001B[38;5;3m⚠ Low number of examples for label 'PERCENT' (22)\u001B[0m\r\n",
      "\u001B[2K\u001B[38;5;3m⚠ Low number of examples for label 'QUANTITY' (12)\u001B[0m\r\n",
      "\u001B[2K\u001B[38;5;3m⚠ Low number of examples for label 'ORDINAL' (38)\u001B[0m\r\n",
      "\u001B[2K\u001B[38;5;3m⚠ Low number of examples for label 'TIME' (8)\u001B[0m\r\n",
      "\u001B[2K\u001B[38;5;2m✔ Examples without occurrences available for all labels\u001B[0m\r\n",
      "\u001B[38;5;2m✔ No entities consisting of or starting/ending with whitespace\u001B[0m\r\n",
      "\u001B[38;5;2m✔ No entities crossing sentence boundaries\u001B[0m\r\n",
      "\u001B[1m\r\n",
      "================================== Summary ==================================\u001B[0m\r\n",
      "\u001B[38;5;2m✔ 5 checks passed\u001B[0m\r\n",
      "\u001B[38;5;3m⚠ 12 warnings\u001B[0m\r\n"
     ]
    }
   ],
   "source": [
    "!python -m spacy debug data config/config_md_2nd_step.cfg"
   ],
   "metadata": {
    "collapsed": false,
    "ExecuteTime": {
     "end_time": "2023-07-27T04:19:47.579199Z",
     "start_time": "2023-07-27T04:19:34.467514Z"
    }
   }
  },
  {
   "cell_type": "code",
   "execution_count": 102,
   "outputs": [
    {
     "name": "stdout",
     "output_type": "stream",
     "text": [
      "\u001B[38;5;4mℹ Saving to output directory: ../../data/models/spacy/md/2\u001B[0m\r\n",
      "\u001B[38;5;4mℹ Using GPU: 0\u001B[0m\r\n",
      "\u001B[1m\r\n",
      "=========================== Initializing pipeline ===========================\u001B[0m\r\n",
      "[2023-07-26 21:48:48,693] [INFO] Set up nlp object from config\r\n",
      "[2023-07-26 21:48:48,707] [INFO] Pipeline: ['tok2vec', 'ner']\r\n",
      "[2023-07-26 21:48:48,707] [INFO] Resuming training for: ['ner', 'tok2vec']\r\n",
      "[2023-07-26 21:48:48,719] [INFO] Created vocabulary\r\n",
      "[2023-07-26 21:48:50,666] [INFO] Added vectors: en_core_web_md\r\n",
      "[2023-07-26 21:48:50,778] [INFO] Finished initializing nlp object\r\n",
      "[2023-07-26 21:48:50,778] [INFO] Initialized pipeline components: []\r\n",
      "\u001B[38;5;2m✔ Initialized pipeline\u001B[0m\r\n",
      "\u001B[1m\r\n",
      "============================= Training pipeline =============================\u001B[0m\r\n",
      "\u001B[38;5;4mℹ Pipeline: ['tok2vec', 'ner']\u001B[0m\r\n",
      "\u001B[38;5;4mℹ Initial learn rate: 0.001\u001B[0m\r\n",
      "E    #       LOSS TOK2VEC  LOSS NER  ENTS_F  ENTS_P  ENTS_R  SCORE \r\n",
      "---  ------  ------------  --------  ------  ------  ------  ------\r\n",
      "  0       0          0.00     16.14   36.58   53.85   27.70    0.37\r\n",
      "  0     200          0.00   1904.99   68.38   67.81   68.97    0.68\r\n",
      "  0     400          0.00   1948.67   73.17   75.11   71.32    0.73\r\n",
      "  0     600          0.00   2202.45   73.97   77.07   71.11    0.74\r\n",
      "  1     800          0.00   2239.00   75.82   77.93   73.83    0.76\r\n",
      "  2    1000          0.00   2548.45   75.67   78.50   73.03    0.76\r\n",
      "  2    1200          0.00   2374.45   78.04   80.67   75.57    0.78\r\n",
      "  3    1400          0.00   2607.14   77.37   78.18   76.59    0.77\r\n",
      "  4    1600          0.00   2844.05   79.28   79.88   78.69    0.79\r\n",
      "  6    1800          0.00   2848.30   79.33   80.83   77.89    0.79\r\n",
      "  7    2000          0.00   2912.53   78.69   80.52   76.95    0.79\r\n",
      "  9    2200          0.00   2916.14   79.39   79.08   79.71    0.79\r\n",
      " 12    2400          0.00   2696.50   78.41   79.69   77.17    0.78\r\n",
      " 14    2600          0.00   2389.03   77.65   80.51   74.99    0.78\r\n",
      " 17    2800          0.00   1973.47   78.93   79.76   78.11    0.79\r\n",
      " 20    3000          0.00   1918.97   77.65   80.02   75.43    0.78\r\n",
      " 22    3200          0.00   1679.36   78.77   79.15   78.40    0.79\r\n",
      " 25    3400          0.00   1562.67   77.91   79.17   76.70    0.78\r\n",
      " 27    3600          0.00   1458.41   78.01   79.40   76.66    0.78\r\n",
      " 30    3800          0.00   1225.29   78.54   79.66   77.46    0.79\r\n",
      "\u001B[38;5;2m✔ Saved pipeline to output directory\u001B[0m\r\n",
      "../../data/models/spacy/md/2/model-last\r\n"
     ]
    }
   ],
   "source": [
    "!python -m spacy train --gpu-id=0 config/config_md_2nd_step.cfg -o ../../data/models/spacy/md/2"
   ],
   "metadata": {
    "collapsed": false,
    "ExecuteTime": {
     "end_time": "2023-07-27T04:57:33.417915Z",
     "start_time": "2023-07-27T04:48:44.669929Z"
    }
   }
  },
  {
   "cell_type": "code",
   "execution_count": 103,
   "outputs": [
    {
     "name": "stdout",
     "output_type": "stream",
     "text": [
      "\u001B[38;5;4mℹ Using GPU: 0\u001B[0m\r\n",
      "\u001B[1m\r\n",
      "================================== Results ==================================\u001B[0m\r\n",
      "\r\n",
      "TOK     100.00\r\n",
      "NER P   79.08 \r\n",
      "NER R   79.71 \r\n",
      "NER F   79.39 \r\n",
      "SPEED   11421 \r\n",
      "\r\n",
      "\u001B[1m\r\n",
      "=============================== NER (per type) ===============================\u001B[0m\r\n",
      "\r\n",
      "                   P        R        F\r\n",
      "ORG            75.59    78.72    77.12\r\n",
      "PERSON         63.22    69.23    66.09\r\n",
      "CARDINAL       89.58    87.76    88.66\r\n",
      "PRODUCT        57.97    42.11    48.78\r\n",
      "LAW            40.00    40.00    40.00\r\n",
      "GPE            89.72    86.05    87.85\r\n",
      "DATE           91.61    91.41    91.51\r\n",
      "WORK_OF_ART    66.67    30.00    41.38\r\n",
      "NORP           90.91    88.89    89.89\r\n",
      "LOC            60.00    60.00    60.00\r\n",
      "LANGUAGE      100.00    75.00    85.71\r\n",
      "FAC            83.33    62.50    71.43\r\n",
      "ORDINAL       100.00   100.00   100.00\r\n",
      "QUANTITY      100.00    75.00    85.71\r\n",
      "EVENT          50.00   100.00    66.67\r\n",
      "MONEY          50.00   100.00    66.67\r\n",
      "PERCENT       100.00   100.00   100.00\r\n",
      "TIME          100.00    50.00    66.67\r\n",
      "\r\n"
     ]
    }
   ],
   "source": [
    "!python -m spacy benchmark accuracy --gpu-id=0 \"../../data/models/spacy/md/2/model-best\" \"../../data/annotated/test_silver_resume.spacy\""
   ],
   "metadata": {
    "collapsed": false,
    "ExecuteTime": {
     "end_time": "2023-07-27T05:03:43.535059Z",
     "start_time": "2023-07-27T05:03:36.300939Z"
    }
   }
  },
  {
   "cell_type": "code",
   "execution_count": 104,
   "outputs": [
    {
     "name": "stdout",
     "output_type": "stream",
     "text": [
      "\u001B[38;5;4mℹ Using GPU: 0\u001B[0m\r\n",
      "\u001B[1m\r\n",
      "================================== Results ==================================\u001B[0m\r\n",
      "\r\n",
      "TOK     100.00\r\n",
      "NER P   44.46 \r\n",
      "NER R   63.06 \r\n",
      "NER F   52.15 \r\n",
      "SPEED   10593 \r\n",
      "\r\n",
      "\u001B[1m\r\n",
      "=============================== NER (per type) ===============================\u001B[0m\r\n",
      "\r\n",
      "                  P       R       F\r\n",
      "CARDINAL       0.00    0.00    0.00\r\n",
      "ORG           21.25   25.87   23.34\r\n",
      "LAW            0.00    0.00    0.00\r\n",
      "NORP           0.00    0.00    0.00\r\n",
      "PERSON        82.07   87.09   84.50\r\n",
      "DATE          83.11   90.67   86.73\r\n",
      "GPE           53.14   64.78   58.39\r\n",
      "ORDINAL        0.00    0.00    0.00\r\n",
      "DEM            0.00    0.00    0.00\r\n",
      "EVENT          0.00    0.00    0.00\r\n",
      "TIME           0.00    0.00    0.00\r\n",
      "LOC            0.00    0.00    0.00\r\n",
      "QUANTITY       0.00    0.00    0.00\r\n",
      "MONEY          0.00    0.00    0.00\r\n",
      "PERCENT        0.00    0.00    0.00\r\n",
      "PRODUCT        0.00    0.00    0.00\r\n",
      "WORK_OF_ART    0.00    0.00    0.00\r\n",
      "FAC            0.00    0.00    0.00\r\n",
      "LANGUAGE       0.00    0.00    0.00\r\n",
      "\r\n"
     ]
    }
   ],
   "source": [
    "!python -m spacy benchmark accuracy --gpu-id=0 \"../../data/models/spacy/md/2/model-best\" \"../../data/annotated/dev.spacy\"\n",
    "# sanity check, of sorts, to test the model against the original ECHR test dataset (trained in stage 1)"
   ],
   "metadata": {
    "collapsed": false,
    "ExecuteTime": {
     "end_time": "2023-07-27T05:04:27.570120Z",
     "start_time": "2023-07-27T05:04:09.730113Z"
    }
   }
  },
  {
   "cell_type": "code",
   "execution_count": 105,
   "outputs": [
    {
     "name": "stdout",
     "output_type": "stream",
     "text": [
      "[('SIDDHARTH RAGHUVANSHI Roll No', 'ORG'), ('06CS3025', 'CARDINAL'), ('Mobile No', 'PERSON'), ('9932584135', 'CARDINAL'), ('Computer Science & Engineering', 'ORG'), ('Kharagpur Central Hindu School', 'ORG'), ('Varanasi St. Atulanand Convent School', 'ORG'), ('Varanasi', 'GPE'), ('86.0%', 'PERCENT'), ('90.8%', 'PERCENT'), ('2011 2005', 'DATE'), ('2003', 'DATE'), ('116', 'CARDINAL'), ('AIEEE', 'ORG'), ('2006', 'DATE'), ('470,000', 'CARDINAL'), ('8', 'CARDINAL'), ('Uttar Pradesh', 'GPE'), ('119', 'CARDINAL'), ('7th', 'ORDINAL'), ('National Science Olympiad,', 'EVENT'), ('2005', 'DATE'), ('22', 'CARDINAL'), ('All India Level Mathematics & Science Test', 'ORG'), ('Central Institute', 'ORG'), ('English', 'LANGUAGE'), ('CIPEL', 'PERSON'), ('1%', 'PERCENT'), ('26968', 'CARDINAL'), ('National Standard Examination', 'ORG'), ('the past 4 years', 'DATE'), ('IIT', 'GPE'), ('Hadoop', 'ORG'), ('B. Tech Project', 'ORG'), ('IIT Kharagpur', 'GPE'), ('Byte Code Engineering Library', 'ORG'), ('ISL', 'ORG'), ('IBM', 'ORG'), ('Pune', 'GPE'), ('India', 'GPE'), ('Business Perspective Technical Perspective Achievements \\uf0a7', 'ORG'), ('Pune', 'GPE'), ('kirana', 'ORG'), ('Home Delivery', 'ORG'), ('Java EE', 'ORG'), ('XML and Web Services Integrated the Home Delivery', 'ORG'), ('IBM WebSphere Commerce', 'ORG'), ('10/10', 'CARDINAL'), ('summer', 'DATE'), ('IIT Kharagpur', 'GPE'), ('2009', 'DATE'), ('IIT Kharagpur Student Counselling Service', 'ORG'), ('Counselling Centre', 'ORG'), ('IIT Kharagpur', 'GPE'), ('5', 'CARDINAL'), ('a span of 6 months', 'DATE'), ('Feb’09', 'PERSON'), ('More than 100', 'CARDINAL'), ('every month', 'DATE'), ('Bitwise-2010', 'ORG'), ('3000', 'CARDINAL'), ('75', 'CARDINAL'), ('Spring Fest', 'ORG'), ('2008', 'DATE'), ('my Senior Secondary School', 'ORG'), ('2007-08', 'DATE'), ('National Sports Organization', 'ORG'), ('30', 'CARDINAL'), ('Lawn Tennis Team', 'ORG'), ('IIT', 'ORG')]\n"
     ]
    }
   ],
   "source": [
    "import spacy\n",
    "activated = spacy.prefer_gpu()\n",
    "nlp = spacy.load('../../data/models/spacy/md/2/model-best')\n",
    "\n",
    "text = ['''SIDDHARTH RAGHUVANSHI                                Roll No. 06CS3025                                            DOB: 08/08/1988\n",
    "Email: siddharth.iitkharagpur@gmail.com                                                                                          Mobile No.:   +91 9932584135\n",
    "Degree/Certificate\n",
    "Dual Degree[B. Tech (H) + M. Tech]\n",
    "(Computer Science & Engineering)\n",
    "Class XII:  C.B.S.E.\n",
    "Class X:   C.B.S.E.\n",
    "ACADEMIC ACHIEVEMENTS\n",
    "Institute/ School, City\n",
    "Indian Institute of Technology, Kharagpur\n",
    "Central Hindu School, Varanasi\n",
    "St. Atulanand Convent School, Varanasi\n",
    "CGPA/ %  Completion\n",
    "8.26/10\n",
    "86.0%\n",
    "90.8%\n",
    "2011\n",
    "2005\n",
    "2003\n",
    "Competitive\n",
    "Examinations\n",
    "  All India Rank 116 in AIEEE, 2006 among 470,000 students, State Rank 8 in Uttar Pradesh.\n",
    "  All India Rank 119 in 7th National Science Olympiad, 2005.\n",
    "  All India Rank 22 in All India Level Mathematics & Science Test organized by Central Institute  for\n",
    "Proficiency in English Language (CIPEL).\n",
    "Scholastic\n",
    "Achievements\n",
    "  National top 1% out of 26968 candidates appeared in National Standard Examination in Physics’05\n",
    "  Receiving CBSE Merit Scholarship for the past 4 years.\n",
    "ACADEMIC PROJECTS\n",
    "M. Tech Project                                                                                      IIT Kharagpur                                           May’10-Nov’10\n",
    "•\n",
    "•\n",
    "Studied the performance of text indexing algorithms on Hadoop MapReduce architecture.\n",
    "Future work includes implementing more efficient indexing and retrieval techniques in MapReduce for distributed parallel\n",
    "computing.\n",
    "B. Tech Project                                                                                        IIT Kharagpur                                           Aug’09-May’10\n",
    "  Developed a software with can handle all sorts of query related to geographical information extracted from maps.\n",
    "  Developed a client interface which can fetch data from different incompatible geospatial web services and make that data\n",
    "compatible for resolving queries.\n",
    "Integrated my framework engine with different underlying heterogeneous spatial databases.\n",
    "\n",
    "Static Instrumentation Of Java Programs                                          IIT Kharagpur                                                   May’08\n",
    "  Developed a program using Byte Code Engineering Library to do automated testing of java program at byte code level.\n",
    "WORK EXPERIENCE / INTERNSHIP\n",
    "Extreme Blue Internship Program                                                                   ISL, IBM, Pune, India                                       May’09 – July’09\n",
    "Business\n",
    "Perspective\n",
    "Technical\n",
    "Perspective\n",
    " Achievements\n",
    "  Conducted survey in Pune region on the current home delivery status of organized retails\n",
    "\n",
    "Proposed and implemented a solution on how to increase home delivery sales in order to compete with the\n",
    "localized general (kirana) stores\n",
    "\n",
    "Built an independent Home Delivery module on Java EE platform using open standards such as XML and\n",
    "Web Services\n",
    "Integrated the Home Delivery module with IBM WebSphere Commerce.\n",
    "\n",
    "  Received highest grade 10/10 in summer internship evaluation at IIT Kharagpur, 2009.\n",
    "RELEVANT COURSES TAKEN\n",
    "  Machine learning\n",
    "  Algorithms-I\n",
    "  Algorithms-II\n",
    "Information Retrieval\n",
    "\n",
    "  Distributed Systems\n",
    "\n",
    "Probability and Statistics\n",
    "POSITION OF RESPONSIBILITY\n",
    "\n",
    "Student coordinator of IIT Kharagpur Student Counselling Service.\n",
    "  Student member of team that conceptualized and publicized Counselling Centre in IIT Kharagpur after 5 successive suicides\n",
    "in the campus within a span of 6 months in between Feb’09 and Jul’09.\n",
    "  More than 100 students are counselled every month.\n",
    "  No mishaps in the campus as of Sep’10 after the establishment of the centre.\n",
    "  Went through Gate Keepers Training to identify behavioral change in a person.\n",
    "  Managed  the  systems  team  of  Bitwise-2010,  an  international  algorithmic  intensive  programming  contest  leading  to  the\n",
    "participation of 3000 teams across 75 countries.\n",
    "\n",
    "Family Sub-head of accommodation team in Spring Fest, 2008.\n",
    "  Head boy of my Senior Secondary School (Central Hindu School).\n",
    "e\n",
    "EXTRA CURRICULAR ACHIEVEMENTS\n",
    "  Member of Silver winning team in inter hall OPENSOFT Competition in the session 2007-08.\n",
    "  National Sports Organization: Among Top 30 students in Lawn Tennis Team at IIT Kharagpur’06. ''']\n",
    "\n",
    "# normalize whitespace as per https://github.com/explosion/spaCy/discussions/10243\n",
    "r = []\n",
    "for t in text:\n",
    "    r.append(re.sub(r\"\\s+\", \" \", t))\n",
    "\n",
    "for doc in nlp.pipe(r):\n",
    "    print([(ent.text, ent.label_) for ent in doc.ents])"
   ],
   "metadata": {
    "collapsed": false,
    "ExecuteTime": {
     "end_time": "2023-07-27T05:04:42.716461Z",
     "start_time": "2023-07-27T05:04:41.090890Z"
    }
   }
  },
  {
   "cell_type": "code",
   "execution_count": null,
   "outputs": [],
   "source": [],
   "metadata": {
    "collapsed": false
   }
  }
 ],
 "metadata": {
  "kernelspec": {
   "display_name": "Python 3",
   "language": "python",
   "name": "python3"
  },
  "language_info": {
   "codemirror_mode": {
    "name": "ipython",
    "version": 2
   },
   "file_extension": ".py",
   "mimetype": "text/x-python",
   "name": "python",
   "nbconvert_exporter": "python",
   "pygments_lexer": "ipython2",
   "version": "2.7.6"
  }
 },
 "nbformat": 4,
 "nbformat_minor": 0
}
