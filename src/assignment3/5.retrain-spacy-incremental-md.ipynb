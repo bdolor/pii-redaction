{
 "cells": [
  {
   "cell_type": "markdown",
   "source": [
    "# Method 1, Incremental Training\n",
    "## Using SpaCy CLI for training and evaluation\n",
    "These training steps use two stages.\n",
    "Stage 1 trains a base model `en_core_web_md` first with ECHR data, then evaluates with ECHR test data. After this stage 'Catastrophic Forgetting' can be observed by the missing entities from the base model.\n",
    "Stage 2 resumes the training process, picking up from Stage 1 and uses an annotated dataset which was run against a SpaCy model. It contains entities from the original model plus a few new entities that was added by Presidio (ADDRESS, PHONE, URL, etc)"
   ],
   "metadata": {
    "collapsed": false
   }
  },
  {
   "cell_type": "code",
   "execution_count": null,
   "outputs": [],
   "source": [
    "#!python -m spacy download en_core_web_md"
   ],
   "metadata": {
    "collapsed": false
   }
  },
  {
   "cell_type": "code",
   "execution_count": 99,
   "outputs": [
    {
     "name": "stdout",
     "output_type": "stream",
     "text": [
      "\u001B[38;5;4mℹ Using GPU: 0\u001B[0m\r\n",
      "\u001B[1m\r\n",
      "================================== Results ==================================\u001B[0m\r\n",
      "\r\n",
      "TOK      100.00\r\n",
      "TAG      -     \r\n",
      "POS      -     \r\n",
      "MORPH    -     \r\n",
      "LEMMA    -     \r\n",
      "UAS      -     \r\n",
      "LAS      -     \r\n",
      "NER P    31.29 \r\n",
      "NER R    49.38 \r\n",
      "NER F    38.31 \r\n",
      "SENT P   -     \r\n",
      "SENT R   -     \r\n",
      "SENT F   -     \r\n",
      "SPEED    8078  \r\n",
      "\r\n",
      "\u001B[1m\r\n",
      "=============================== NER (per type) ===============================\u001B[0m\r\n",
      "\r\n",
      "                  P       R       F\r\n",
      "CARDINAL       0.00    0.00    0.00\r\n",
      "GPE           44.95   67.34   53.91\r\n",
      "ORG            9.57   13.56   11.22\r\n",
      "LAW            0.00    0.00    0.00\r\n",
      "NORP           0.00    0.00    0.00\r\n",
      "PERSON        18.41   20.68   19.48\r\n",
      "DATE          78.61   91.17   84.42\r\n",
      "ORDINAL        0.00    0.00    0.00\r\n",
      "DEM            0.00    0.00    0.00\r\n",
      "FAC            0.00    0.00    0.00\r\n",
      "TIME           0.00    0.00    0.00\r\n",
      "QUANTITY       0.00    0.00    0.00\r\n",
      "MONEY          0.00    0.00    0.00\r\n",
      "PERCENT        0.00    0.00    0.00\r\n",
      "LANGUAGE       0.00    0.00    0.00\r\n",
      "PRODUCT        0.00    0.00    0.00\r\n",
      "LOC            0.00    0.00    0.00\r\n",
      "WORK_OF_ART    0.00    0.00    0.00\r\n",
      "EVENT          0.00    0.00    0.00\r\n",
      "\r\n"
     ]
    }
   ],
   "source": [
    "!python -m spacy benchmark accuracy --gpu-id=0 \"en_core_web_md\" \"../../data/annotated/dev.spacy\""
   ],
   "metadata": {
    "collapsed": false,
    "ExecuteTime": {
     "end_time": "2023-07-26T22:40:37.589082Z",
     "start_time": "2023-07-26T22:40:11.688486Z"
    }
   }
  },
  {
   "cell_type": "code",
   "execution_count": 77,
   "outputs": [
    {
     "name": "stdout",
     "output_type": "stream",
     "text": [
      "[('SIDDHARTH RAGHUVANSHI Roll', 'PERSON'), ('Computer Science & Engineering', 'ORG'), ('City Indian Institute of Technology', 'ORG'), ('Kharagpur Central Hindu School', 'ORG'), ('Varanasi', 'GPE'), ('Varanasi', 'GPE'), ('86.0%', 'PERCENT'), ('90.8%', 'PERCENT'), ('2011 2005', 'DATE'), ('2003', 'DATE'), ('116', 'CARDINAL'), ('AIEEE', 'GPE'), ('2006', 'DATE'), ('470,000', 'CARDINAL'), ('State', 'ORG'), ('8', 'CARDINAL'), ('Uttar Pradesh', 'GPE'), ('119', 'CARDINAL'), ('7th', 'ORDINAL'), ('National Science Olympiad, 2005', 'EVENT'), ('22', 'CARDINAL'), ('Central Institute for Proficiency', 'ORG'), ('English', 'LANGUAGE'), ('CIPEL', 'PERSON'), ('1%', 'PERCENT'), ('26968', 'CARDINAL'), ('National Standard Examination', 'ORG'), ('the past 4 years', 'DATE'), ('ACADEMIC PROJECTS M. Tech Project', 'ORG'), ('IIT', 'ORG'), ('Kharagpur', 'GPE'), ('Hadoop', 'ORG'), ('B. Tech Project', 'ORG'), ('IIT', 'ORG'), ('IIT Kharagpur May’08 \\uf0a7', 'ORG'), ('Byte Code Engineering Library', 'ORG'), ('INTERNSHIP Extreme Blue Internship Program', 'ORG'), ('IBM', 'ORG'), ('Pune', 'GPE'), ('India', 'GPE'), ('Business Perspective Technical Perspective', 'ORG'), ('Pune', 'GPE'), ('kirana', 'ORG'), ('Home Delivery', 'ORG'), ('Java EE', 'ORG'), ('XML', 'ORG'), ('IBM WebSphere Commerce', 'ORG'), ('10/10', 'CARDINAL'), ('summer', 'DATE'), ('IIT Kharagpur', 'ORG'), ('2009', 'DATE'), ('IIT Kharagpur Student Counselling Service', 'ORG'), ('Counselling Centre', 'ORG'), ('IIT Kharagpur', 'GPE'), ('5', 'CARDINAL'), ('a span of 6 months', 'DATE'), ('Feb’09', 'PERSON'), ('More than 100', 'CARDINAL'), ('every month', 'DATE'), ('Sep’10', 'PERSON'), ('Bitwise-2010', 'ORG'), ('3000', 'CARDINAL'), ('75', 'CARDINAL'), ('Spring Fest', 'EVENT'), ('2008', 'DATE'), ('inter hall OPENSOFT Competition', 'ORG'), ('2007-08', 'DATE'), ('National Sports Organization', 'ORG'), ('30', 'CARDINAL'), ('Lawn Tennis Team', 'ORG'), ('IIT Kharagpur’06', 'ORG')]\n"
     ]
    }
   ],
   "source": [
    "# baseline test against pre-trained model to see which entities it picks up from resume text.\n",
    "\n",
    "import spacy\n",
    "import re\n",
    "activated = spacy.prefer_gpu()\n",
    "nlp = spacy.load('en_core_web_md')\n",
    "\n",
    "text = ['''SIDDHARTH RAGHUVANSHI                                Roll No. 06CS3025                                            DOB: 08/08/1988\n",
    "Email: siddharth.iitkharagpur@gmail.com                                                                                          Mobile No.:   +91 9932584135\n",
    "Degree/Certificate\n",
    "Dual Degree[B. Tech (H) + M. Tech]\n",
    "(Computer Science & Engineering)\n",
    "Class XII:  C.B.S.E.\n",
    "Class X:   C.B.S.E.\n",
    "ACADEMIC ACHIEVEMENTS\n",
    "Institute/ School, City\n",
    "Indian Institute of Technology, Kharagpur\n",
    "Central Hindu School, Varanasi\n",
    "St. Atulanand Convent School, Varanasi\n",
    "CGPA/ %  Completion\n",
    "8.26/10\n",
    "86.0%\n",
    "90.8%\n",
    "2011\n",
    "2005\n",
    "2003\n",
    "Competitive\n",
    "Examinations\n",
    "  All India Rank 116 in AIEEE, 2006 among 470,000 students, State Rank 8 in Uttar Pradesh.\n",
    "  All India Rank 119 in 7th National Science Olympiad, 2005.\n",
    "  All India Rank 22 in All India Level Mathematics & Science Test organized by Central Institute  for\n",
    "Proficiency in English Language (CIPEL).\n",
    "Scholastic\n",
    "Achievements\n",
    "  National top 1% out of 26968 candidates appeared in National Standard Examination in Physics’05\n",
    "  Receiving CBSE Merit Scholarship for the past 4 years.\n",
    "ACADEMIC PROJECTS\n",
    "M. Tech Project                                                                                      IIT Kharagpur                                           May’10-Nov’10\n",
    "•\n",
    "•\n",
    "Studied the performance of text indexing algorithms on Hadoop MapReduce architecture.\n",
    "Future work includes implementing more efficient indexing and retrieval techniques in MapReduce for distributed parallel\n",
    "computing.\n",
    "B. Tech Project                                                                                        IIT Kharagpur                                           Aug’09-May’10\n",
    "  Developed a software with can handle all sorts of query related to geographical information extracted from maps.\n",
    "  Developed a client interface which can fetch data from different incompatible geospatial web services and make that data\n",
    "compatible for resolving queries.\n",
    "Integrated my framework engine with different underlying heterogeneous spatial databases.\n",
    "\n",
    "Static Instrumentation Of Java Programs                                          IIT Kharagpur                                                   May’08\n",
    "  Developed a program using Byte Code Engineering Library to do automated testing of java program at byte code level.\n",
    "WORK EXPERIENCE / INTERNSHIP\n",
    "Extreme Blue Internship Program                                                                   ISL, IBM, Pune, India                                       May’09 – July’09\n",
    "Business\n",
    "Perspective\n",
    "Technical\n",
    "Perspective\n",
    " Achievements\n",
    "  Conducted survey in Pune region on the current home delivery status of organized retails\n",
    "\n",
    "Proposed and implemented a solution on how to increase home delivery sales in order to compete with the\n",
    "localized general (kirana) stores\n",
    "\n",
    "Built an independent Home Delivery module on Java EE platform using open standards such as XML and\n",
    "Web Services\n",
    "Integrated the Home Delivery module with IBM WebSphere Commerce.\n",
    "\n",
    "  Received highest grade 10/10 in summer internship evaluation at IIT Kharagpur, 2009.\n",
    "RELEVANT COURSES TAKEN\n",
    "  Machine learning\n",
    "  Algorithms-I\n",
    "  Algorithms-II\n",
    "Information Retrieval\n",
    "\n",
    "  Distributed Systems\n",
    "\n",
    "Probability and Statistics\n",
    "POSITION OF RESPONSIBILITY\n",
    "\n",
    "Student coordinator of IIT Kharagpur Student Counselling Service.\n",
    "  Student member of team that conceptualized and publicized Counselling Centre in IIT Kharagpur after 5 successive suicides\n",
    "in the campus within a span of 6 months in between Feb’09 and Jul’09.\n",
    "  More than 100 students are counselled every month.\n",
    "  No mishaps in the campus as of Sep’10 after the establishment of the centre.\n",
    "  Went through Gate Keepers Training to identify behavioral change in a person.\n",
    "  Managed  the  systems  team  of  Bitwise-2010,  an  international  algorithmic  intensive  programming  contest  leading  to  the\n",
    "participation of 3000 teams across 75 countries.\n",
    "\n",
    "Family Sub-head of accommodation team in Spring Fest, 2008.\n",
    "  Head boy of my Senior Secondary School (Central Hindu School).\n",
    "e\n",
    "EXTRA CURRICULAR ACHIEVEMENTS\n",
    "  Member of Silver winning team in inter hall OPENSOFT Competition in the session 2007-08.\n",
    "  National Sports Organization: Among Top 30 students in Lawn Tennis Team at IIT Kharagpur’06. ''']\n",
    "\n",
    "# normalize whitespace as per https://github.com/explosion/spaCy/discussions/10243\n",
    "r = []\n",
    "for t in text:\n",
    "    r.append(re.sub(r\"\\s+\", \" \", t))\n",
    "\n",
    "for doc in nlp.pipe(r):\n",
    "    print([(ent.text, ent.label_) for ent in doc.ents])"
   ],
   "metadata": {
    "collapsed": false,
    "ExecuteTime": {
     "end_time": "2023-07-26T21:17:32.038651Z",
     "start_time": "2023-07-26T21:17:29.861025Z"
    }
   }
  },
  {
   "cell_type": "code",
   "execution_count": 78,
   "outputs": [
    {
     "name": "stdout",
     "output_type": "stream",
     "text": [
      "\u001B[38;5;2m✔ Auto-filled config with all values\u001B[0m\r\n",
      "\u001B[38;5;2m✔ Saved config\u001B[0m\r\n",
      "config/config_md.cfg\r\n",
      "You can now add your data and train your pipeline:\r\n",
      "python -m spacy train config_md.cfg --paths.train ./train.spacy --paths.dev ./dev.spacy\r\n"
     ]
    }
   ],
   "source": [
    "!python -m spacy init fill-config config/base_config_md.cfg config/config_md.cfg"
   ],
   "metadata": {
    "collapsed": false,
    "ExecuteTime": {
     "end_time": "2023-07-26T21:18:08.925623Z",
     "start_time": "2023-07-26T21:18:03.201992Z"
    }
   }
  },
  {
   "cell_type": "code",
   "execution_count": 79,
   "outputs": [
    {
     "name": "stdout",
     "output_type": "stream",
     "text": [
      "\u001B[1m\r\n",
      "============================ Data file validation ============================\u001B[0m\r\n",
      "\u001B[38;5;2m✔ Pipeline can be initialized with data\u001B[0m\r\n",
      "\u001B[38;5;2m✔ Corpus is loadable\u001B[0m\r\n",
      "\u001B[1m\r\n",
      "=============================== Training stats ===============================\u001B[0m\r\n",
      "Language: en\r\n",
      "Training pipeline: tok2vec, ner\r\n",
      "Components from other pipelines: ner, tok2vec\r\n",
      "1141 training docs\r\n",
      "127 evaluation docs\r\n",
      "\u001B[38;5;2m✔ No overlap between training and evaluation data\u001B[0m\r\n",
      "\u001B[1m\r\n",
      "============================== Vocab & Vectors ==============================\u001B[0m\r\n",
      "\u001B[38;5;4mℹ 1704123 total word(s) in the data (32105 unique)\u001B[0m\r\n",
      "\u001B[38;5;4mℹ 20000 vectors (514157 unique keys, 300 dimensions)\u001B[0m\r\n",
      "\u001B[38;5;3m⚠ 44850 words in training data without vectors (3%)\u001B[0m\r\n",
      "\u001B[1m\r\n",
      "========================== Named Entity Recognition ==========================\u001B[0m\r\n",
      "\u001B[38;5;4mℹ 19 label(s)\u001B[0m\r\n",
      "0 missing value(s) (tokens with '-' label)\r\n",
      "\u001B[38;5;3m⚠ Some model labels are not present in the train data. The model\r\n",
      "performance may be degraded for these labels after training: 'NORP',\r\n",
      "'WORK_OF_ART', 'EVENT', 'FAC', 'MONEY', 'LOC', 'ORDINAL', 'LAW', 'CARDINAL',\r\n",
      "'PRODUCT', 'LANGUAGE', 'QUANTITY', 'TIME', 'PERCENT'.\u001B[0m\r\n",
      "\u001B[38;5;2m✔ Good amount of examples for all labels\u001B[0m\r\n",
      "\u001B[38;5;2m✔ Examples without occurrences available for all labels\u001B[0m\r\n",
      "\u001B[38;5;2m✔ No entities consisting of or starting/ending with whitespace\u001B[0m\r\n",
      "\u001B[38;5;2m✔ No entities crossing sentence boundaries\u001B[0m\r\n",
      "\u001B[1m\r\n",
      "================================== Summary ==================================\u001B[0m\r\n",
      "\u001B[38;5;2m✔ 7 checks passed\u001B[0m\r\n",
      "\u001B[38;5;3m⚠ 2 warnings\u001B[0m\r\n"
     ]
    }
   ],
   "source": [
    "!python -m spacy debug data config/config_md.cfg"
   ],
   "metadata": {
    "collapsed": false,
    "ExecuteTime": {
     "end_time": "2023-07-26T21:19:13.431777Z",
     "start_time": "2023-07-26T21:18:12.154440Z"
    }
   }
  },
  {
   "cell_type": "code",
   "execution_count": 80,
   "outputs": [
    {
     "name": "stdout",
     "output_type": "stream",
     "text": [
      "\u001B[38;5;4mℹ Saving to output directory: ../../data/models/spacy/md\u001B[0m\r\n",
      "\u001B[38;5;4mℹ Using GPU: 0\u001B[0m\r\n",
      "\u001B[1m\r\n",
      "=========================== Initializing pipeline ===========================\u001B[0m\r\n",
      "[2023-07-26 14:20:37,022] [INFO] Set up nlp object from config\r\n",
      "[2023-07-26 14:20:37,032] [INFO] Pipeline: ['tok2vec', 'ner']\r\n",
      "[2023-07-26 14:20:37,033] [INFO] Resuming training for: ['ner', 'tok2vec']\r\n",
      "[2023-07-26 14:20:37,039] [INFO] Created vocabulary\r\n",
      "[2023-07-26 14:20:38,612] [INFO] Added vectors: en_core_web_md\r\n",
      "[2023-07-26 14:20:38,690] [INFO] Finished initializing nlp object\r\n",
      "[2023-07-26 14:20:38,690] [INFO] Initialized pipeline components: []\r\n",
      "\u001B[38;5;2m✔ Initialized pipeline\u001B[0m\r\n",
      "\u001B[1m\r\n",
      "============================= Training pipeline =============================\u001B[0m\r\n",
      "\u001B[38;5;4mℹ Pipeline: ['tok2vec', 'ner']\u001B[0m\r\n",
      "\u001B[38;5;4mℹ Initial learn rate: 0.001\u001B[0m\r\n",
      "E    #       LOSS TOK2VEC  LOSS NER  ENTS_F  ENTS_P  ENTS_R  SCORE \r\n",
      "---  ------  ------------  --------  ------  ------  ------  ------\r\n",
      "  0       0          0.00    441.75   38.98   31.98   49.90    0.39\r\n",
      "  0     200          0.00   7708.04   81.66   81.49   81.83    0.82\r\n",
      "  0     400          0.00   6083.01   77.79   83.54   72.77    0.78\r\n",
      "  0     600          0.00   6855.61   83.07   86.55   79.85    0.83\r\n",
      "  0     800          0.00   6127.66   84.47   86.06   82.94    0.84\r\n",
      "  0    1000          0.00   6125.52   83.98   87.60   80.65    0.84\r\n",
      "  1    1200          0.00   6350.79   83.13   82.88   83.39    0.83\r\n",
      "  1    1400          0.00   5316.59   85.73   88.69   82.97    0.86\r\n",
      "  1    1600          0.00   5968.20   85.34   87.41   83.37    0.85\r\n",
      "  1    1800          0.00   5609.68   86.66   89.29   84.18    0.87\r\n",
      "  1    2000          0.00   5488.21   85.79   86.34   85.25    0.86\r\n",
      "  1    2200          0.00   5524.98   85.60   88.75   82.67    0.86\r\n",
      "  2    2400          0.00   5101.62   84.69   84.28   85.12    0.85\r\n",
      "  2    2600          0.00   4276.98   85.84   88.77   83.10    0.86\r\n",
      "  2    2800          0.00   5859.73   86.20   89.37   83.25    0.86\r\n",
      "  2    3000          0.00   5233.71   86.30   88.38   84.32    0.86\r\n",
      "  2    3200          0.00   5820.79   85.95   88.30   83.72    0.86\r\n",
      "  2    3400          0.00   4837.54   85.03   85.70   84.37    0.85\r\n",
      "\u001B[38;5;2m✔ Saved pipeline to output directory\u001B[0m\r\n",
      "../../data/models/spacy/md/model-last\r\n"
     ]
    }
   ],
   "source": [
    "!python -m spacy train --gpu-id=0 config/config_md.cfg -o ../../data/models/spacy/md"
   ],
   "metadata": {
    "collapsed": false,
    "ExecuteTime": {
     "end_time": "2023-07-26T21:41:04.802500Z",
     "start_time": "2023-07-26T21:20:32.330961Z"
    }
   }
  },
  {
   "cell_type": "code",
   "execution_count": 81,
   "outputs": [
    {
     "name": "stdout",
     "output_type": "stream",
     "text": [
      "\u001B[38;5;4mℹ Using GPU: 0\u001B[0m\r\n",
      "\u001B[1m\r\n",
      "================================== Results ==================================\u001B[0m\r\n",
      "\r\n",
      "TOK     100.00\r\n",
      "NER P   89.29 \r\n",
      "NER R   84.18 \r\n",
      "NER F   86.66 \r\n",
      "SPEED   11354 \r\n",
      "\r\n",
      "\u001B[1m\r\n",
      "=============================== NER (per type) ===============================\u001B[0m\r\n",
      "\r\n",
      "             P       R       F\r\n",
      "ORG      85.48   73.40   78.98\r\n",
      "DEM      77.63   42.34   54.80\r\n",
      "PERSON   90.25   95.24   92.68\r\n",
      "DATE     92.53   94.23   93.37\r\n",
      "GPE      87.95   85.22   86.56\r\n",
      "\r\n"
     ]
    }
   ],
   "source": [
    "!python -m spacy benchmark accuracy --gpu-id=0 \"../../data/models/spacy/md/model-best\" \"../../data/annotated/dev.spacy\"\n",
    "# !python -m spacy evaluate benchmark accuracy --help"
   ],
   "metadata": {
    "collapsed": false,
    "ExecuteTime": {
     "end_time": "2023-07-26T21:49:56.950994Z",
     "start_time": "2023-07-26T21:49:39.588928Z"
    }
   }
  },
  {
   "cell_type": "code",
   "execution_count": 82,
   "outputs": [
    {
     "name": "stdout",
     "output_type": "stream",
     "text": [
      "[('Kharagpur Central Hindu School', 'ORG'), ('Varanasi St. Atulanand Convent School', 'ORG'), ('Varanasi', 'GPE'), ('2006', 'DATE'), ('Uttar Pradesh', 'GPE'), ('2005', 'DATE'), ('Central Institute for Proficiency in English Language (CIPEL)', 'ORG'), ('National Standard Examination', 'ORG'), ('4 years', 'DATE'), ('IIT', 'GPE'), ('Hadoop', 'GPE'), ('IBM', 'ORG'), ('Pune', 'GPE'), ('Pune', 'GPE'), ('Java EE', 'ORG'), ('XML and Web Services Integrated the Home Delivery', 'ORG'), ('IBM WebSphere Commerce', 'ORG'), ('IIT Kharagpur', 'GPE'), ('2009', 'DATE'), ('IIT Kharagpur Student Counselling Service', 'ORG'), ('Counselling Centre', 'ORG'), ('IIT Kharagpur', 'GPE'), ('6 months', 'DATE'), ('Feb’09', 'PERSON'), ('every month', 'DATE'), ('Bitwise-2010', 'ORG'), ('Spring Fest', 'ORG'), ('2008', 'DATE'), ('2007-08', 'DATE'), ('National Sports Organization', 'ORG'), ('Lawn Tennis Team', 'ORG'), ('IIT Kharagpur’06', 'GPE')]\n"
     ]
    }
   ],
   "source": [
    "activated = spacy.prefer_gpu()\n",
    "nlp = spacy.load('../../data/models/spacy/md/model-best')\n",
    "\n",
    "text = ['''SIDDHARTH RAGHUVANSHI                                Roll No. 06CS3025                                            DOB: 08/08/1988\n",
    "Email: siddharth.iitkharagpur@gmail.com                                                                                          Mobile No.:   +91 9932584135\n",
    "Degree/Certificate\n",
    "Dual Degree[B. Tech (H) + M. Tech]\n",
    "(Computer Science & Engineering)\n",
    "Class XII:  C.B.S.E.\n",
    "Class X:   C.B.S.E.\n",
    "ACADEMIC ACHIEVEMENTS\n",
    "Institute/ School, City\n",
    "Indian Institute of Technology, Kharagpur\n",
    "Central Hindu School, Varanasi\n",
    "St. Atulanand Convent School, Varanasi\n",
    "CGPA/ %  Completion\n",
    "8.26/10\n",
    "86.0%\n",
    "90.8%\n",
    "2011\n",
    "2005\n",
    "2003\n",
    "Competitive\n",
    "Examinations\n",
    "  All India Rank 116 in AIEEE, 2006 among 470,000 students, State Rank 8 in Uttar Pradesh.\n",
    "  All India Rank 119 in 7th National Science Olympiad, 2005.\n",
    "  All India Rank 22 in All India Level Mathematics & Science Test organized by Central Institute  for\n",
    "Proficiency in English Language (CIPEL).\n",
    "Scholastic\n",
    "Achievements\n",
    "  National top 1% out of 26968 candidates appeared in National Standard Examination in Physics’05\n",
    "  Receiving CBSE Merit Scholarship for the past 4 years.\n",
    "ACADEMIC PROJECTS\n",
    "M. Tech Project                                                                                      IIT Kharagpur                                           May’10-Nov’10\n",
    "•\n",
    "•\n",
    "Studied the performance of text indexing algorithms on Hadoop MapReduce architecture.\n",
    "Future work includes implementing more efficient indexing and retrieval techniques in MapReduce for distributed parallel\n",
    "computing.\n",
    "B. Tech Project                                                                                        IIT Kharagpur                                           Aug’09-May’10\n",
    "  Developed a software with can handle all sorts of query related to geographical information extracted from maps.\n",
    "  Developed a client interface which can fetch data from different incompatible geospatial web services and make that data\n",
    "compatible for resolving queries.\n",
    "Integrated my framework engine with different underlying heterogeneous spatial databases.\n",
    "\n",
    "Static Instrumentation Of Java Programs                                          IIT Kharagpur                                                   May’08\n",
    "  Developed a program using Byte Code Engineering Library to do automated testing of java program at byte code level.\n",
    "WORK EXPERIENCE / INTERNSHIP\n",
    "Extreme Blue Internship Program                                                                   ISL, IBM, Pune, India                                       May’09 – July’09\n",
    "Business\n",
    "Perspective\n",
    "Technical\n",
    "Perspective\n",
    " Achievements\n",
    "  Conducted survey in Pune region on the current home delivery status of organized retails\n",
    "\n",
    "Proposed and implemented a solution on how to increase home delivery sales in order to compete with the\n",
    "localized general (kirana) stores\n",
    "\n",
    "Built an independent Home Delivery module on Java EE platform using open standards such as XML and\n",
    "Web Services\n",
    "Integrated the Home Delivery module with IBM WebSphere Commerce.\n",
    "\n",
    "  Received highest grade 10/10 in summer internship evaluation at IIT Kharagpur, 2009.\n",
    "RELEVANT COURSES TAKEN\n",
    "  Machine learning\n",
    "  Algorithms-I\n",
    "  Algorithms-II\n",
    "Information Retrieval\n",
    "\n",
    "  Distributed Systems\n",
    "\n",
    "Probability and Statistics\n",
    "POSITION OF RESPONSIBILITY\n",
    "\n",
    "Student coordinator of IIT Kharagpur Student Counselling Service.\n",
    "  Student member of team that conceptualized and publicized Counselling Centre in IIT Kharagpur after 5 successive suicides\n",
    "in the campus within a span of 6 months in between Feb’09 and Jul’09.\n",
    "  More than 100 students are counselled every month.\n",
    "  No mishaps in the campus as of Sep’10 after the establishment of the centre.\n",
    "  Went through Gate Keepers Training to identify behavioral change in a person.\n",
    "  Managed  the  systems  team  of  Bitwise-2010,  an  international  algorithmic  intensive  programming  contest  leading  to  the\n",
    "participation of 3000 teams across 75 countries.\n",
    "\n",
    "Family Sub-head of accommodation team in Spring Fest, 2008.\n",
    "  Head boy of my Senior Secondary School (Central Hindu School).\n",
    "e\n",
    "EXTRA CURRICULAR ACHIEVEMENTS\n",
    "  Member of Silver winning team in inter hall OPENSOFT Competition in the session 2007-08.\n",
    "  National Sports Organization: Among Top 30 students in Lawn Tennis Team at IIT Kharagpur’06. ''']\n",
    "\n",
    "# normalize whitespace as per https://github.com/explosion/spaCy/discussions/10243\n",
    "r = []\n",
    "for t in text:\n",
    "    r.append(re.sub(r\"\\s+\", \" \", t))\n",
    "\n",
    "for doc in nlp.pipe(r):\n",
    "    print([(ent.text, ent.label_) for ent in doc.ents])"
   ],
   "metadata": {
    "collapsed": false,
    "ExecuteTime": {
     "end_time": "2023-07-26T21:51:08.602689Z",
     "start_time": "2023-07-26T21:51:07.204469Z"
    }
   }
  },
  {
   "cell_type": "code",
   "execution_count": 89,
   "outputs": [
    {
     "name": "stdout",
     "output_type": "stream",
     "text": [
      "\u001B[38;5;2m✔ Auto-filled config with all values\u001B[0m\r\n",
      "\u001B[38;5;2m✔ Saved config\u001B[0m\r\n",
      "config/config_md_2nd_step.cfg\r\n",
      "You can now add your data and train your pipeline:\r\n",
      "python -m spacy train config_md_2nd_step.cfg --paths.train ./train.spacy --paths.dev ./dev.spacy\r\n"
     ]
    }
   ],
   "source": [
    "!python -m spacy init fill-config config/base_config_md_2nd_step.cfg config/config_md_2nd_step.cfg"
   ],
   "metadata": {
    "collapsed": false,
    "ExecuteTime": {
     "end_time": "2023-07-26T21:58:55.567576Z",
     "start_time": "2023-07-26T21:58:51.073778Z"
    }
   }
  },
  {
   "cell_type": "code",
   "execution_count": 90,
   "outputs": [
    {
     "name": "stdout",
     "output_type": "stream",
     "text": [
      "\u001B[1m\r\n",
      "============================ Data file validation ============================\u001B[0m\r\n",
      "\u001B[38;5;2m✔ Pipeline can be initialized with data\u001B[0m\r\n",
      "\u001B[38;5;2m✔ Corpus is loadable\u001B[0m\r\n",
      "\u001B[1m\r\n",
      "=============================== Training stats ===============================\u001B[0m\r\n",
      "Language: en\r\n",
      "Training pipeline: tok2vec, ner\r\n",
      "Components from other pipelines: ner, tok2vec\r\n",
      "2374 training docs\r\n",
      "626 evaluation docs\r\n",
      "\u001B[38;5;2m✔ No overlap between training and evaluation data\u001B[0m\r\n",
      "\u001B[1m\r\n",
      "============================== Vocab & Vectors ==============================\u001B[0m\r\n",
      "\u001B[38;5;4mℹ 42743 total word(s) in the data (6579 unique)\u001B[0m\r\n",
      "\u001B[38;5;4mℹ 20000 vectors (514157 unique keys, 300 dimensions)\u001B[0m\r\n",
      "\u001B[38;5;3m⚠ 6136 words in training data without vectors (14%)\u001B[0m\r\n",
      "\u001B[1m\r\n",
      "========================== Named Entity Recognition ==========================\u001B[0m\r\n",
      "\u001B[38;5;4mℹ 31 label(s)\u001B[0m\r\n",
      "0 missing value(s) (tokens with '-' label)\r\n",
      "\u001B[38;5;3m⚠ Some model labels are not present in the train data. The model\r\n",
      "performance may be degraded for these labels after training: 'PRODUCT',\r\n",
      "'WORK_OF_ART', 'QUANTITY', 'MONEY', 'LANGUAGE', 'PERCENT', 'FAC', 'TIME',\r\n",
      "'CARDINAL', 'LOC', 'LAW', 'EVENT', 'NORP', 'ORDINAL', 'DEM'.\u001B[0m\r\n",
      "\u001B[38;5;3m⚠ Low number of examples for label 'IBAN_CODE' (50)\u001B[0m\r\n",
      "\u001B[2K\u001B[38;5;3m⚠ Low number of examples for label 'IP_ADDRESS' (15)\u001B[0m\r\n",
      "\u001B[2K\u001B[38;5;3m⚠ Low number of examples for label 'US_SSN' (33)\u001B[0m\r\n",
      "\u001B[2K\u001B[38;5;3m⚠ Low number of examples for label 'DOMAIN_NAME' (37)\u001B[0m\r\n",
      "\u001B[2K\u001B[38;5;2m✔ Examples without occurrences available for all labels\u001B[0m\r\n",
      "\u001B[38;5;2m✔ No entities consisting of or starting/ending with whitespace\u001B[0m\r\n",
      "\u001B[38;5;2m✔ No entities crossing sentence boundaries\u001B[0m\r\n",
      "\u001B[1m\r\n",
      "================================== Summary ==================================\u001B[0m\r\n",
      "\u001B[38;5;2m✔ 6 checks passed\u001B[0m\r\n",
      "\u001B[38;5;3m⚠ 6 warnings\u001B[0m\r\n"
     ]
    }
   ],
   "source": [
    "!python -m spacy debug data config/config_md_2nd_step.cfg"
   ],
   "metadata": {
    "collapsed": false,
    "ExecuteTime": {
     "end_time": "2023-07-26T21:59:07.826770Z",
     "start_time": "2023-07-26T21:58:58.902448Z"
    }
   }
  },
  {
   "cell_type": "code",
   "execution_count": 91,
   "outputs": [
    {
     "name": "stdout",
     "output_type": "stream",
     "text": [
      "\u001B[38;5;4mℹ Saving to output directory: ../../data/models/spacy/md/2\u001B[0m\r\n",
      "\u001B[38;5;4mℹ Using GPU: 0\u001B[0m\r\n",
      "\u001B[1m\r\n",
      "=========================== Initializing pipeline ===========================\u001B[0m\r\n",
      "[2023-07-26 14:59:15,873] [INFO] Set up nlp object from config\r\n",
      "[2023-07-26 14:59:15,883] [INFO] Pipeline: ['tok2vec', 'ner']\r\n",
      "[2023-07-26 14:59:15,883] [INFO] Resuming training for: ['ner', 'tok2vec']\r\n",
      "[2023-07-26 14:59:15,890] [INFO] Created vocabulary\r\n",
      "[2023-07-26 14:59:17,365] [INFO] Added vectors: en_core_web_md\r\n",
      "[2023-07-26 14:59:17,438] [INFO] Finished initializing nlp object\r\n",
      "[2023-07-26 14:59:17,439] [INFO] Initialized pipeline components: []\r\n",
      "\u001B[38;5;2m✔ Initialized pipeline\u001B[0m\r\n",
      "\u001B[1m\r\n",
      "============================= Training pipeline =============================\u001B[0m\r\n",
      "\u001B[38;5;4mℹ Pipeline: ['tok2vec', 'ner']\u001B[0m\r\n",
      "\u001B[38;5;4mℹ Initial learn rate: 0.001\u001B[0m\r\n",
      "E    #       LOSS TOK2VEC  LOSS NER  ENTS_F  ENTS_P  ENTS_R  SCORE \r\n",
      "---  ------  ------------  --------  ------  ------  ------  ------\r\n",
      "  0       0          0.00     10.95   37.32   51.82   29.16    0.37\r\n",
      "  0     200          0.00   2007.84   45.39   48.66   42.53    0.45\r\n",
      "  1     400          0.00   1378.41   53.72   55.79   51.80    0.54\r\n",
      "  1     600          0.00   1152.12   56.91   59.06   54.92    0.57\r\n",
      "  2     800          0.00    961.84   60.44   61.85   59.09    0.60\r\n",
      "  3    1000          0.00    607.97   56.14   57.10   55.20    0.56\r\n",
      "  5    1200          0.00    445.57   58.58   57.22   60.01    0.59\r\n",
      "  6    1400          0.00    388.92   61.21   60.25   62.21    0.61\r\n",
      "  8    1600          0.00    236.63   63.34   61.28   65.53    0.63\r\n",
      " 11    1800          0.00    164.31   57.37   56.39   58.39    0.57\r\n",
      " 14    2000          0.00     94.46   62.22   61.68   62.77    0.62\r\n",
      " 17    2200          0.00     48.77   61.91   60.09   63.84    0.62\r\n",
      " 22    2400          0.00     42.17   62.94   60.01   66.17    0.63\r\n",
      " 26    2600          0.00     37.03   60.06   60.98   59.16    0.60\r\n",
      " 31    2800          0.00     54.32   60.97   59.15   62.92    0.61\r\n",
      " 36    3000          0.00     69.76   56.29   51.75   61.71    0.56\r\n",
      " 40    3200          0.00    123.00   60.36   59.38   61.36    0.60\r\n",
      "\u001B[38;5;2m✔ Saved pipeline to output directory\u001B[0m\r\n",
      "../../data/models/spacy/md/2/model-last\r\n"
     ]
    }
   ],
   "source": [
    "!python -m spacy train --gpu-id=0 config/config_md_2nd_step.cfg -o ../../data/models/spacy/md/2"
   ],
   "metadata": {
    "collapsed": false,
    "ExecuteTime": {
     "end_time": "2023-07-26T22:06:06.110433Z",
     "start_time": "2023-07-26T21:59:12.367801Z"
    }
   }
  },
  {
   "cell_type": "code",
   "execution_count": 97,
   "outputs": [
    {
     "name": "stdout",
     "output_type": "stream",
     "text": [
      "\u001B[38;5;4mℹ Using GPU: 0\u001B[0m\r\n",
      "\u001B[1m\r\n",
      "================================== Results ==================================\u001B[0m\r\n",
      "\r\n",
      "TOK     100.00\r\n",
      "NER P   61.28 \r\n",
      "NER R   65.53 \r\n",
      "NER F   63.34 \r\n",
      "SPEED   11133 \r\n",
      "\r\n",
      "\u001B[1m\r\n",
      "=============================== NER (per type) ===============================\u001B[0m\r\n",
      "\r\n",
      "                      P        R       F\r\n",
      "TITLE             94.00    79.66   86.24\r\n",
      "PERSON            74.74    87.55   80.64\r\n",
      "GPE               60.87    35.53   44.87\r\n",
      "ORG               10.53    30.14   15.60\r\n",
      "AGE               44.44    51.61   47.76\r\n",
      "CREDIT_CARD       71.43   100.00   83.33\r\n",
      "DATE             100.00    75.71   86.18\r\n",
      "NRP               47.17    60.98   53.19\r\n",
      "DOMAIN_NAME      100.00    41.18   58.33\r\n",
      "PHONE_NUMBER      58.49    64.58   61.39\r\n",
      "STREET_ADDRESS    63.37    58.18   60.66\r\n",
      "ZIP_CODE           0.00     0.00    0.00\r\n",
      "EMAIL_ADDRESS     77.27    94.44   85.00\r\n",
      "IP_ADDRESS         0.00     0.00    0.00\r\n",
      "\r\n"
     ]
    }
   ],
   "source": [
    "!python -m spacy benchmark accuracy --gpu-id=0 \"../../data/models/spacy/md/2/model-best\" \"../../data/annotated/dev_step2.spacy\""
   ],
   "metadata": {
    "collapsed": false,
    "ExecuteTime": {
     "end_time": "2023-07-26T22:31:20.730008Z",
     "start_time": "2023-07-26T22:31:15.199908Z"
    }
   }
  },
  {
   "cell_type": "code",
   "execution_count": 95,
   "outputs": [
    {
     "name": "stdout",
     "output_type": "stream",
     "text": [
      "\u001B[38;5;4mℹ Using GPU: 0\u001B[0m\r\n",
      "\u001B[1m\r\n",
      "================================== Results ==================================\u001B[0m\r\n",
      "\r\n",
      "TOK     100.00\r\n",
      "NER P   33.37 \r\n",
      "NER R   35.54 \r\n",
      "NER F   34.42 \r\n",
      "SPEED   10823 \r\n",
      "\r\n",
      "\u001B[1m\r\n",
      "=============================== NER (per type) ===============================\u001B[0m\r\n",
      "\r\n",
      "                     P       R       F\r\n",
      "ORG              75.35   55.90   64.18\r\n",
      "NRP               0.00    0.00    0.00\r\n",
      "TITLE             0.00    0.00    0.00\r\n",
      "PERSON           44.01   52.82   48.01\r\n",
      "PHONE_NUMBER      0.00    0.00    0.00\r\n",
      "GPE              61.80   74.09   67.39\r\n",
      "DATE             55.83   11.35   18.87\r\n",
      "STREET_ADDRESS    0.00    0.00    0.00\r\n",
      "DEM               0.00    0.00    0.00\r\n",
      "ZIP_CODE          0.00    0.00    0.00\r\n",
      "CREDIT_CARD       0.00    0.00    0.00\r\n",
      "AGE               0.00    0.00    0.00\r\n",
      "IP_ADDRESS        0.00    0.00    0.00\r\n",
      "IBAN_CODE         0.00    0.00    0.00\r\n",
      "EMAIL_ADDRESS     0.00    0.00    0.00\r\n",
      "US_SSN            0.00    0.00    0.00\r\n",
      "\r\n"
     ]
    }
   ],
   "source": [
    "!python -m spacy benchmark accuracy --gpu-id=0 \"../../data/models/spacy/md/2/model-best\" \"../../data/annotated/dev.spacy\"\n",
    "# sanity check, of sorts, to test the model against the original ECHR test dataset (trained in stage 1)"
   ],
   "metadata": {
    "collapsed": false,
    "ExecuteTime": {
     "end_time": "2023-07-26T22:29:18.974670Z",
     "start_time": "2023-07-26T22:29:00.920055Z"
    }
   }
  },
  {
   "cell_type": "code",
   "execution_count": 98,
   "outputs": [
    {
     "name": "stdout",
     "output_type": "stream",
     "text": [
      "[('SIDDHARTH RAGHUVANSHI Roll No. 06CS3025 DOB', 'ORG'), ('+91 9932584135 Degree/Certificate Dual Degree[B. Tech (H) + M. Tech] (', 'PHONE_NUMBER'), ('C.B.S.E. ACADEMIC ACHIEVEMENTS Institute/ School', 'ORG'), ('City Indian Institute of Technology', 'ORG'), ('Kharagpur Central Hindu School', 'ORG'), ('Varanasi St. Atulanand Convent School', 'GPE'), ('Varanasi CGPA/ % Completion 8.26/10 86.0% 90.8% 2011', 'ORG'), ('2005', 'DATE'), ('2003', 'STREET_ADDRESS'), ('Competitive Examinations', 'ORG'), ('116', 'ZIP_CODE'), ('AIEEE', 'GPE'), ('2006', 'DATE'), ('470,000', 'PHONE_NUMBER'), ('State Rank 8', 'STREET_ADDRESS'), ('Uttar Pradesh', 'GPE'), ('119', 'ZIP_CODE'), ('7th National Science Olympiad', 'GPE'), ('2005', 'DATE'), ('22', 'ZIP_CODE'), ('All India Level Mathematics & Science Test', 'STREET_ADDRESS'), ('Central Institute', 'ORG'), ('Proficiency in English Language (CIPEL)', 'TITLE'), ('26968', 'PHONE_NUMBER'), ('National Standard Examination', 'ORG'), ('IIT Kharagpur', 'NRP'), ('Hadoop', 'ORG'), ('IIT Kharagpur', 'NRP'), ('Developed', 'PERSON'), ('maps', 'NRP'), ('Developed', 'PERSON'), ('Java Programs IIT Kharagpur May’08', 'ORG'), ('Developed a program using Byte Code Engineering Library', 'TITLE'), ('Pune', 'GPE'), ('India May’09', 'GPE'), ('July’09 Business Perspective Technical Perspective Achievements \\uf0a7 Conducted', 'ORG'), ('Pune', 'GPE'), ('Built an independent Home Delivery', 'TITLE'), ('Java EE', 'ORG'), ('XML and Web Services Integrated the Home Delivery', 'ORG'), ('IBM WebSphere Commerce', 'ORG'), ('10/10', 'IP_ADDRESS'), ('summer', 'GPE'), ('IIT Kharagpur', 'GPE'), ('2009', 'DATE'), ('COURSES TAKEN \\uf0a7 Machine', 'ORG'), ('\\uf0a7 Distributed Systems \\uf0a7 Probability and Statistics POSITION OF RESPONSIBILITY', 'ORG'), ('IIT Kharagpur Student Counselling Service', 'ORG'), ('Counselling Centre', 'ORG'), ('IIT Kharagpur', 'GPE'), ('6', 'AGE'), ('Jul’09', 'PERSON'), ('Sep’10', 'PERSON'), ('Bitwise-2010', 'IBAN_CODE'), ('3000', 'PHONE_NUMBER'), ('75', 'PHONE_NUMBER'), ('Spring Fest', 'GPE'), ('2008', 'DATE'), ('Senior Secondary School (Central Hindu School', 'ORG'), ('Silver', 'PERSON'), ('OPENSOFT Competition', 'ORG'), ('2007-08', 'DATE'), ('National Sports Organization', 'ORG'), ('Lawn Tennis Team', 'GPE'), ('IIT Kharagpur’06.', 'ORG')]\n"
     ]
    }
   ],
   "source": [
    "import spacy\n",
    "activated = spacy.prefer_gpu()\n",
    "nlp = spacy.load('../../data/models/spacy/md/2/model-best')\n",
    "\n",
    "text = ['''SIDDHARTH RAGHUVANSHI                                Roll No. 06CS3025                                            DOB: 08/08/1988\n",
    "Email: siddharth.iitkharagpur@gmail.com                                                                                          Mobile No.:   +91 9932584135\n",
    "Degree/Certificate\n",
    "Dual Degree[B. Tech (H) + M. Tech]\n",
    "(Computer Science & Engineering)\n",
    "Class XII:  C.B.S.E.\n",
    "Class X:   C.B.S.E.\n",
    "ACADEMIC ACHIEVEMENTS\n",
    "Institute/ School, City\n",
    "Indian Institute of Technology, Kharagpur\n",
    "Central Hindu School, Varanasi\n",
    "St. Atulanand Convent School, Varanasi\n",
    "CGPA/ %  Completion\n",
    "8.26/10\n",
    "86.0%\n",
    "90.8%\n",
    "2011\n",
    "2005\n",
    "2003\n",
    "Competitive\n",
    "Examinations\n",
    "  All India Rank 116 in AIEEE, 2006 among 470,000 students, State Rank 8 in Uttar Pradesh.\n",
    "  All India Rank 119 in 7th National Science Olympiad, 2005.\n",
    "  All India Rank 22 in All India Level Mathematics & Science Test organized by Central Institute  for\n",
    "Proficiency in English Language (CIPEL).\n",
    "Scholastic\n",
    "Achievements\n",
    "  National top 1% out of 26968 candidates appeared in National Standard Examination in Physics’05\n",
    "  Receiving CBSE Merit Scholarship for the past 4 years.\n",
    "ACADEMIC PROJECTS\n",
    "M. Tech Project                                                                                      IIT Kharagpur                                           May’10-Nov’10\n",
    "•\n",
    "•\n",
    "Studied the performance of text indexing algorithms on Hadoop MapReduce architecture.\n",
    "Future work includes implementing more efficient indexing and retrieval techniques in MapReduce for distributed parallel\n",
    "computing.\n",
    "B. Tech Project                                                                                        IIT Kharagpur                                           Aug’09-May’10\n",
    "  Developed a software with can handle all sorts of query related to geographical information extracted from maps.\n",
    "  Developed a client interface which can fetch data from different incompatible geospatial web services and make that data\n",
    "compatible for resolving queries.\n",
    "Integrated my framework engine with different underlying heterogeneous spatial databases.\n",
    "\n",
    "Static Instrumentation Of Java Programs                                          IIT Kharagpur                                                   May’08\n",
    "  Developed a program using Byte Code Engineering Library to do automated testing of java program at byte code level.\n",
    "WORK EXPERIENCE / INTERNSHIP\n",
    "Extreme Blue Internship Program                                                                   ISL, IBM, Pune, India                                       May’09 – July’09\n",
    "Business\n",
    "Perspective\n",
    "Technical\n",
    "Perspective\n",
    " Achievements\n",
    "  Conducted survey in Pune region on the current home delivery status of organized retails\n",
    "\n",
    "Proposed and implemented a solution on how to increase home delivery sales in order to compete with the\n",
    "localized general (kirana) stores\n",
    "\n",
    "Built an independent Home Delivery module on Java EE platform using open standards such as XML and\n",
    "Web Services\n",
    "Integrated the Home Delivery module with IBM WebSphere Commerce.\n",
    "\n",
    "  Received highest grade 10/10 in summer internship evaluation at IIT Kharagpur, 2009.\n",
    "RELEVANT COURSES TAKEN\n",
    "  Machine learning\n",
    "  Algorithms-I\n",
    "  Algorithms-II\n",
    "Information Retrieval\n",
    "\n",
    "  Distributed Systems\n",
    "\n",
    "Probability and Statistics\n",
    "POSITION OF RESPONSIBILITY\n",
    "\n",
    "Student coordinator of IIT Kharagpur Student Counselling Service.\n",
    "  Student member of team that conceptualized and publicized Counselling Centre in IIT Kharagpur after 5 successive suicides\n",
    "in the campus within a span of 6 months in between Feb’09 and Jul’09.\n",
    "  More than 100 students are counselled every month.\n",
    "  No mishaps in the campus as of Sep’10 after the establishment of the centre.\n",
    "  Went through Gate Keepers Training to identify behavioral change in a person.\n",
    "  Managed  the  systems  team  of  Bitwise-2010,  an  international  algorithmic  intensive  programming  contest  leading  to  the\n",
    "participation of 3000 teams across 75 countries.\n",
    "\n",
    "Family Sub-head of accommodation team in Spring Fest, 2008.\n",
    "  Head boy of my Senior Secondary School (Central Hindu School).\n",
    "e\n",
    "EXTRA CURRICULAR ACHIEVEMENTS\n",
    "  Member of Silver winning team in inter hall OPENSOFT Competition in the session 2007-08.\n",
    "  National Sports Organization: Among Top 30 students in Lawn Tennis Team at IIT Kharagpur’06. ''']\n",
    "\n",
    "# normalize whitespace as per https://github.com/explosion/spaCy/discussions/10243\n",
    "r = []\n",
    "for t in text:\n",
    "    r.append(re.sub(r\"\\s+\", \" \", t))\n",
    "\n",
    "for doc in nlp.pipe(r):\n",
    "    print([(ent.text, ent.label_) for ent in doc.ents])"
   ],
   "metadata": {
    "collapsed": false,
    "ExecuteTime": {
     "end_time": "2023-07-26T22:34:45.476688Z",
     "start_time": "2023-07-26T22:34:44.174506Z"
    }
   }
  },
  {
   "cell_type": "code",
   "execution_count": null,
   "outputs": [],
   "source": [],
   "metadata": {
    "collapsed": false
   }
  }
 ],
 "metadata": {
  "kernelspec": {
   "display_name": "Python 3",
   "language": "python",
   "name": "python3"
  },
  "language_info": {
   "codemirror_mode": {
    "name": "ipython",
    "version": 2
   },
   "file_extension": ".py",
   "mimetype": "text/x-python",
   "name": "python",
   "nbconvert_exporter": "python",
   "pygments_lexer": "ipython2",
   "version": "2.7.6"
  }
 },
 "nbformat": 4,
 "nbformat_minor": 0
}
