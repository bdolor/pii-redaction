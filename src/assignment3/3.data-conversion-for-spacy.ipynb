{
 "cells": [
  {
   "cell_type": "markdown",
   "metadata": {},
   "source": [
    "# Data Conversion\n",
    "## modifications: Loads training and test data (JSON) and converts them to SpaCy binary files\n",
    "\n",
    "modified from the original by Brad Payne\n",
    "original file https://github.com/NorskRegnesentral/text-anonymization-benchmark/blob/master/longformer_experiments/data_manipulation.py<br>\n",
    "original author: Norsk Regnesentral<br>\n",
    "license: MIT"
   ]
  },
  {
   "cell_type": "code",
   "execution_count": 1,
   "metadata": {
    "ExecuteTime": {
     "end_time": "2023-07-26T20:56:58.818102Z",
     "start_time": "2023-07-26T20:56:45.837240Z"
    }
   },
   "outputs": [],
   "source": [
    "import spacy\n",
    "from spacy.tokens import DocBin\n",
    "import json\n",
    "with open('../../data/annotated/train_data.json', \"r\", encoding=\"utf-8\") as f1, open('../../data/annotated/test_data.json', \"r\", encoding=\"utf-8\") as f3:\n",
    "\n",
    "    train = json.load(f1)\n",
    "    test = json.load(f3)\n",
    "\n",
    "    # TEST, aka DEV in Spacy-land\n",
    "    nlp = spacy.blank(\"en\")\n",
    "    db = DocBin()\n",
    "    for data in test:\n",
    "        doc = nlp(data['full_text'])\n",
    "        ents = []\n",
    "        for annotation in data['spans']:\n",
    "            span = doc.char_span(annotation['start_position'], annotation['end_position'], label=annotation['entity_type'], alignment_mode=\"contract\")\n",
    "            if span is not None:\n",
    "                ents.append(span)\n",
    "        if ents is not None:\n",
    "            doc.ents = spacy.util.filter_spans(ents)\n",
    "        db.add(doc)\n",
    "\n",
    "    db.to_disk(\"../../data/annotated/dev.spacy\")\n",
    "    del db, nlp\n",
    "\n",
    "    # TRAIN\n",
    "    nlp = spacy.blank(\"en\")\n",
    "    db = DocBin()\n",
    "    for data in train:\n",
    "        doc = nlp(data['full_text'])\n",
    "        ents = []\n",
    "        for annotation in data['spans']:\n",
    "            span = doc.char_span(annotation['start_position'], annotation['end_position'], label=annotation['entity_type'], alignment_mode=\"contract\")\n",
    "            if span is not None:\n",
    "                ents.append(span)\n",
    "        if ents is not None:\n",
    "            doc.ents = spacy.util.filter_spans(ents)\n",
    "        db.add(doc)\n",
    "\n",
    "    db.to_disk(\"../../data/annotated/train.spacy\")\n",
    "    print(\"Two files created: dev.spacy and train.spacy\")"
   ]
  },
  {
   "cell_type": "code",
   "execution_count": null,
   "outputs": [],
   "source": [],
   "metadata": {
    "collapsed": false
   }
  }
 ],
 "metadata": {
  "kernelspec": {
   "display_name": "Python 3",
   "language": "python",
   "name": "python3"
  },
  "language_info": {
   "codemirror_mode": {
    "name": "ipython",
    "version": 3
   },
   "file_extension": ".py",
   "mimetype": "text/x-python",
   "name": "python",
   "nbconvert_exporter": "python",
   "pygments_lexer": "ipython3",
   "version": "3.6.4"
  }
 },
 "nbformat": 4,
 "nbformat_minor": 2
}
