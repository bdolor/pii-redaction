{
 "cells": [
  {
   "cell_type": "code",
   "execution_count": null,
   "metadata": {
    "collapsed": true
   },
   "outputs": [],
   "source": [
    "!python -m spacy download en_core_web_lg"
   ]
  },
  {
   "cell_type": "markdown",
   "source": [
    "# baseline with pretrained model"
   ],
   "metadata": {
    "collapsed": false
   }
  },
  {
   "cell_type": "code",
   "execution_count": 56,
   "outputs": [
    {
     "name": "stdout",
     "output_type": "stream",
     "text": [
      "[('SIDDHARTH', 'ORG'), ('DOB', 'ORG'), ('+91 9932584135\\nDegree/Certificate\\nDual Degree[B. Tech', 'MONEY'), ('Computer Science & Engineering', 'ORG'), ('C.B.S.E.\\nClass X', 'PRODUCT'), ('Institute/ School', 'ORG'), ('Indian Institute of Technology', 'ORG'), ('Kharagpur', 'GPE'), ('Central Hindu School', 'ORG'), ('Varanasi', 'GPE'), ('St. Atulanand Convent School', 'ORG'), ('Varanasi', 'GPE'), ('86.0%', 'PERCENT'), ('90.8%', 'PERCENT'), ('2011\\n2005', 'DATE'), ('2003', 'DATE'), ('All India Rank', 'ORG'), ('116', 'CARDINAL'), ('AIEEE', 'ORG'), ('2006', 'DATE'), ('470,000', 'CARDINAL'), ('State', 'ORG'), ('8', 'CARDINAL'), ('Uttar Pradesh', 'GPE'), ('All India Rank', 'ORG'), ('119', 'CARDINAL'), ('7th', 'ORDINAL'), ('National Science Olympiad', 'EVENT'), ('2005', 'DATE'), ('All India Rank', 'ORG'), ('22', 'CARDINAL'), ('All India Level Mathematics & Science', 'ORG'), ('Central Institute', 'ORG'), ('English', 'LANGUAGE'), ('CIPEL', 'PERSON'), ('National', 'ORG'), ('1%', 'PERCENT'), ('26968', 'CARDINAL'), ('National Standard Examination', 'ORG'), ('the past 4 years', 'DATE'), ('M. Tech Project', 'ORG'), ('IIT Kharagpur', 'ORG'), ('B. Tech Project', 'ORG'), ('IIT Kharagpur', 'ORG'), ('Static Instrumentation Of Java Programs                                          ', 'ORG'), ('Byte Code Engineering Library', 'ORG'), ('INTERNSHIP', 'ORG'), ('Extreme Blue Internship Program', 'ORG'), ('ISL', 'ORG'), ('IBM', 'ORG'), ('Pune', 'GPE'), ('India', 'GPE'), ('Pune', 'GPE'), ('kirana', 'ORG'), ('Java EE', 'ORG'), ('XML', 'LAW'), ('Web Services\\nIntegrated the Home Delivery', 'ORG'), ('IBM', 'ORG'), ('10/10', 'CARDINAL'), ('summer', 'DATE'), ('IIT Kharagpur', 'ORG'), ('2009', 'DATE'), ('Distributed Systems', 'ORG'), ('IIT Kharagpur Student Counselling Service', 'ORG'), ('Counselling Centre', 'ORG'), ('5', 'CARDINAL'), ('a span of 6 months', 'DATE'), ('Jul’09', 'PERSON'), ('More than 100', 'CARDINAL'), ('every month', 'DATE'), ('Sep’10', 'PERSON'), ('Bitwise-2010', 'ORG'), ('3000', 'CARDINAL'), ('75', 'CARDINAL'), ('Family Sub-head', 'PRODUCT'), ('Spring Fest', 'EVENT'), ('2008', 'DATE'), ('Central Hindu School', 'ORG'), ('2007-08', 'DATE'), ('National Sports Organization', 'ORG'), ('30', 'CARDINAL'), ('Lawn Tennis Team', 'ORG'), ('IIT Kharagpur’06', 'ORG')]\n"
     ]
    },
    {
     "name": "stderr",
     "output_type": "stream",
     "text": [
      "/Users/bpayne/code/data-science/pii-redaction/venv/lib/python3.10/site-packages/spacy/pipeline/lemmatizer.py:211: UserWarning: [W108] The rule-based lemmatizer did not find POS annotation for one or more tokens. Check that your pipeline includes components that assign token.pos, typically 'tagger'+'attribute_ruler' or 'morphologizer'.\n",
      "  warnings.warn(Warnings.W108)\n"
     ]
    }
   ],
   "source": [
    "import spacy\n",
    "\n",
    "nlp = spacy.load('en_core_web_lg')\n",
    "\n",
    "text = ['''SIDDHARTH RAGHUVANSHI                                Roll No. 06CS3025                                            DOB: 08/08/1988\n",
    "Email: siddharth.iitkharagpur@gmail.com                                                                                          Mobile No.:   +91 9932584135\n",
    "Degree/Certificate\n",
    "Dual Degree[B. Tech (H) + M. Tech]\n",
    "(Computer Science & Engineering)\n",
    "Class XII:  C.B.S.E.\n",
    "Class X:   C.B.S.E.\n",
    "ACADEMIC ACHIEVEMENTS\n",
    "Institute/ School, City\n",
    "Indian Institute of Technology, Kharagpur\n",
    "Central Hindu School, Varanasi\n",
    "St. Atulanand Convent School, Varanasi\n",
    "CGPA/ %  Completion\n",
    "8.26/10\n",
    "86.0%\n",
    "90.8%\n",
    "2011\n",
    "2005\n",
    "2003\n",
    "Competitive\n",
    "Examinations\n",
    "  All India Rank 116 in AIEEE, 2006 among 470,000 students, State Rank 8 in Uttar Pradesh.\n",
    "  All India Rank 119 in 7th National Science Olympiad, 2005.\n",
    "  All India Rank 22 in All India Level Mathematics & Science Test organized by Central Institute  for\n",
    "Proficiency in English Language (CIPEL).\n",
    "Scholastic\n",
    "Achievements\n",
    "  National top 1% out of 26968 candidates appeared in National Standard Examination in Physics’05\n",
    "  Receiving CBSE Merit Scholarship for the past 4 years.\n",
    "ACADEMIC PROJECTS\n",
    "M. Tech Project                                                                                      IIT Kharagpur                                           May’10-Nov’10\n",
    "•\n",
    "•\n",
    "Studied the performance of text indexing algorithms on Hadoop MapReduce architecture.\n",
    "Future work includes implementing more efficient indexing and retrieval techniques in MapReduce for distributed parallel\n",
    "computing.\n",
    "B. Tech Project                                                                                        IIT Kharagpur                                           Aug’09-May’10\n",
    "  Developed a software with can handle all sorts of query related to geographical information extracted from maps.\n",
    "  Developed a client interface which can fetch data from different incompatible geospatial web services and make that data\n",
    "compatible for resolving queries.\n",
    "Integrated my framework engine with different underlying heterogeneous spatial databases.\n",
    "\n",
    "Static Instrumentation Of Java Programs                                          IIT Kharagpur                                                   May’08\n",
    "  Developed a program using Byte Code Engineering Library to do automated testing of java program at byte code level.\n",
    "WORK EXPERIENCE / INTERNSHIP\n",
    "Extreme Blue Internship Program                                                                   ISL, IBM, Pune, India                                       May’09 – July’09\n",
    "Business\n",
    "Perspective\n",
    "Technical\n",
    "Perspective\n",
    " Achievements\n",
    "  Conducted survey in Pune region on the current home delivery status of organized retails\n",
    "\n",
    "Proposed and implemented a solution on how to increase home delivery sales in order to compete with the\n",
    "localized general (kirana) stores\n",
    "\n",
    "Built an independent Home Delivery module on Java EE platform using open standards such as XML and\n",
    "Web Services\n",
    "Integrated the Home Delivery module with IBM WebSphere Commerce.\n",
    "\n",
    "  Received highest grade 10/10 in summer internship evaluation at IIT Kharagpur, 2009.\n",
    "RELEVANT COURSES TAKEN\n",
    "  Machine learning\n",
    "  Algorithms-I\n",
    "  Algorithms-II\n",
    "Information Retrieval\n",
    "\n",
    "  Distributed Systems\n",
    "\n",
    "Probability and Statistics\n",
    "POSITION OF RESPONSIBILITY\n",
    "\n",
    "Student coordinator of IIT Kharagpur Student Counselling Service.\n",
    "  Student member of team that conceptualized and publicized Counselling Centre in IIT Kharagpur after 5 successive suicides\n",
    "in the campus within a span of 6 months in between Feb’09 and Jul’09.\n",
    "  More than 100 students are counselled every month.\n",
    "  No mishaps in the campus as of Sep’10 after the establishment of the centre.\n",
    "  Went through Gate Keepers Training to identify behavioral change in a person.\n",
    "  Managed  the  systems  team  of  Bitwise-2010,  an  international  algorithmic  intensive  programming  contest  leading  to  the\n",
    "participation of 3000 teams across 75 countries.\n",
    "\n",
    "Family Sub-head of accommodation team in Spring Fest, 2008.\n",
    "  Head boy of my Senior Secondary School (Central Hindu School).\n",
    "e\n",
    "EXTRA CURRICULAR ACHIEVEMENTS\n",
    "  Member of Silver winning team in inter hall OPENSOFT Competition in the session 2007-08.\n",
    "  National Sports Organization: Among Top 30 students in Lawn Tennis Team at IIT Kharagpur’06. ''']\n",
    "\n",
    "for doc in nlp.pipe(text, disable=[\"tagger\", \"parser\"]):\n",
    "    print([(ent.text, ent.label_) for ent in doc.ents])"
   ],
   "metadata": {
    "collapsed": false,
    "ExecuteTime": {
     "end_time": "2023-07-20T21:49:59.440560Z",
     "start_time": "2023-07-20T21:49:57.841123Z"
    }
   }
  },
  {
   "cell_type": "code",
   "execution_count": 58,
   "outputs": [
    {
     "name": "stdout",
     "output_type": "stream",
     "text": [
      "\u001B[38;5;2m✔ Auto-filled config with all values\u001B[0m\r\n",
      "\u001B[38;5;2m✔ Saved config\u001B[0m\r\n",
      "config/config_lg.cfg\r\n",
      "You can now add your data and train your pipeline:\r\n",
      "python -m spacy train config_lg.cfg --paths.train ./train.spacy --paths.dev ./dev.spacy\r\n"
     ]
    }
   ],
   "source": [
    "!python -m spacy init fill-config config/base_config_lg.cfg config/config_lg.cfg"
   ],
   "metadata": {
    "collapsed": false,
    "ExecuteTime": {
     "end_time": "2023-07-21T19:16:03.413962Z",
     "start_time": "2023-07-21T19:15:50.739346Z"
    }
   }
  },
  {
   "cell_type": "code",
   "execution_count": 57,
   "outputs": [
    {
     "name": "stdout",
     "output_type": "stream",
     "text": [
      "\u001B[1m\r\n",
      "============================ Data file validation ============================\u001B[0m\r\n",
      "\u001B[38;5;2m✔ Pipeline can be initialized with data\u001B[0m\r\n",
      "\u001B[38;5;2m✔ Corpus is loadable\u001B[0m\r\n",
      "\u001B[1m\r\n",
      "=============================== Training stats ===============================\u001B[0m\r\n",
      "Language: en\r\n",
      "Training pipeline: tok2vec, ner\r\n",
      "1268 training docs\r\n",
      "1268 evaluation docs\r\n",
      "\u001B[38;5;3m⚠ 1268 training examples also in evaluation data\u001B[0m\r\n",
      "\u001B[38;5;3m⚠ Low number of examples to train a new pipeline (1268)\u001B[0m\r\n",
      "\u001B[1m\r\n",
      "============================== Vocab & Vectors ==============================\u001B[0m\r\n",
      "\u001B[38;5;4mℹ 1828987 total word(s) in the data (33172 unique)\u001B[0m\r\n",
      "\u001B[38;5;4mℹ 514157 vectors (514157 unique keys, 300 dimensions)\u001B[0m\r\n",
      "\u001B[38;5;3m⚠ 48277 words in training data without vectors (3%)\u001B[0m\r\n",
      "\u001B[1m\r\n",
      "========================== Named Entity Recognition ==========================\u001B[0m\r\n",
      "\u001B[38;5;4mℹ 5 label(s)\u001B[0m\r\n",
      "0 missing value(s) (tokens with '-' label)\r\n",
      "\u001B[38;5;2m✔ Good amount of examples for all labels\u001B[0m\r\n",
      "\u001B[38;5;2m✔ Examples without occurrences available for all labels\u001B[0m\r\n",
      "\u001B[38;5;2m✔ No entities consisting of or starting/ending with whitespace\u001B[0m\r\n",
      "\u001B[38;5;2m✔ No entities crossing sentence boundaries\u001B[0m\r\n",
      "\u001B[1m\r\n",
      "================================== Summary ==================================\u001B[0m\r\n",
      "\u001B[38;5;2m✔ 6 checks passed\u001B[0m\r\n",
      "\u001B[38;5;3m⚠ 3 warnings\u001B[0m\r\n"
     ]
    }
   ],
   "source": [
    "!python -m spacy debug data config/config_lg.cfg"
   ],
   "metadata": {
    "collapsed": false,
    "ExecuteTime": {
     "end_time": "2023-07-20T23:33:18.933572Z",
     "start_time": "2023-07-20T23:31:40.946637Z"
    }
   }
  },
  {
   "cell_type": "code",
   "execution_count": 54,
   "outputs": [
    {
     "name": "stdout",
     "output_type": "stream",
     "text": [
      "\u001B[38;5;4mℹ Saving to output directory: .\u001B[0m\r\n",
      "\u001B[38;5;4mℹ Using CPU\u001B[0m\r\n",
      "\u001B[38;5;4mℹ To switch to GPU 0, use the option: --gpu-id 0\u001B[0m\r\n",
      "\u001B[1m\r\n",
      "=========================== Initializing pipeline ===========================\u001B[0m\r\n",
      "[2023-07-20 11:53:00,472] [INFO] Set up nlp object from config\r\n",
      "[2023-07-20 11:53:00,486] [INFO] Pipeline: ['tok2vec', 'ner']\r\n",
      "[2023-07-20 11:53:00,489] [INFO] Created vocabulary\r\n",
      "[2023-07-20 11:53:01,847] [INFO] Added vectors: en_core_web_lg\r\n",
      "[2023-07-20 11:53:01,847] [INFO] Finished initializing nlp object\r\n",
      "[2023-07-20 11:53:26,684] [INFO] Initialized pipeline components: ['tok2vec', 'ner']\r\n",
      "\u001B[38;5;2m✔ Initialized pipeline\u001B[0m\r\n",
      "\u001B[1m\r\n",
      "============================= Training pipeline =============================\u001B[0m\r\n",
      "\u001B[38;5;4mℹ Pipeline: ['tok2vec', 'ner']\u001B[0m\r\n",
      "\u001B[38;5;4mℹ Initial learn rate: 0.001\u001B[0m\r\n",
      "E    #       LOSS TOK2VEC  LOSS NER  ENTS_F  ENTS_P  ENTS_R  SCORE \r\n",
      "---  ------  ------------  --------  ------  ------  ------  ------\r\n",
      "  0       0          0.00    672.55    0.50    0.29    1.87    0.01\r\n",
      "  0     200        533.66  24936.24   79.28   82.89   75.97    0.79\r\n",
      "  0     400       1829.53   8779.02   78.41   85.84   72.16    0.78\r\n",
      "  0     600        421.30   6989.80   82.69   87.36   78.50    0.83\r\n",
      "  0     800        252.27   8439.16   80.67   84.98   76.78    0.81\r\n",
      "  0    1000        648.60   7377.60   81.99   83.32   80.70    0.82\r\n",
      "  1    1200        290.23   6561.46   81.51   85.05   78.25    0.82\r\n",
      "  1    1400        516.06   6793.87   82.80   84.71   80.97    0.83\r\n",
      "  1    1600       6958.56   7007.81   84.22   89.35   79.64    0.84\r\n",
      "  1    1800      14675.90   6720.52   83.89   87.25   80.78    0.84\r\n",
      "  1    2000        380.89   6801.52   83.84   88.79   79.41    0.84\r\n",
      "  2    2200        997.14   6343.74   84.67   85.62   83.74    0.85\r\n",
      "  2    2400        575.64   5737.55   81.60   83.89   79.44    0.82\r\n",
      "  2    2600        488.62   5805.35   84.13   87.59   80.92    0.84\r\n",
      "  2    2800        933.90   5436.60   83.48   87.35   79.94    0.83\r\n",
      "  2    3000        952.22   6332.49   84.55   89.59   80.04    0.85\r\n",
      "  3    3200       1190.48   5830.24   83.01   87.93   78.62    0.83\r\n",
      "  3    3400        811.17   5837.14   85.48   86.89   84.13    0.85\r\n",
      "  3    3600      64560.60   6124.53   84.16   85.68   82.69    0.84\r\n",
      "  3    3800      14740.70   5525.71   83.49   85.87   81.25    0.83\r\n",
      "  3    4000        720.58   4784.74   84.74   86.99   82.61    0.85\r\n",
      "  4    4200       4003.58   5283.43   84.52   88.72   80.70    0.85\r\n",
      "  4    4400       8684.88   4782.40   84.55   86.32   82.85    0.85\r\n",
      "  4    4600        752.73   5451.75   84.62   87.54   81.89    0.85\r\n",
      "  4    4800      21289.14   5172.55   83.96   85.66   82.33    0.84\r\n",
      "  4    5000       1217.33   5518.62   83.25   83.17   83.32    0.83\r\n",
      "\u001B[38;5;2m✔ Saved pipeline to output directory\u001B[0m\r\n",
      "model-last\r\n"
     ]
    }
   ],
   "source": [
    "!python -m spacy train config.cfg -o ../../data/models/spacy/lg"
   ],
   "metadata": {
    "collapsed": false,
    "ExecuteTime": {
     "end_time": "2023-07-20T21:24:31.407478Z",
     "start_time": "2023-07-20T18:52:57.276119Z"
    }
   }
  },
  {
   "cell_type": "code",
   "execution_count": 55,
   "outputs": [
    {
     "name": "stdout",
     "output_type": "stream",
     "text": [
      "[('SIDDHARTH RAGHUVANSHI                                Roll No', 'ORG'), ('Computer Science & Engineering', 'ORG'), ('ACHIEVEMENTS', 'ORG'), ('Institute/ School', 'ORG'), ('Indian Institute of Technology', 'ORG'), ('Kharagpur \\nCentral Hindu School', 'ORG'), ('Varanasi', 'GPE'), ('St. Atulanand Convent School', 'ORG'), ('Varanasi', 'GPE'), ('AIEEE', 'PERSON'), ('2006', 'DATE'), ('Uttar Pradesh', 'GPE'), ('7th National Science Olympiad', 'ORG'), ('Central Institute  ', 'ORG'), ('English', 'DEM'), ('National Standard Examination', 'ORG'), ('past 4 years', 'DATE'), ('Tech Project                                                                                      IIT Kharagpur                                           May’10-Nov’10 \\n', 'ORG'), ('Tech Project                                                                                        IIT Kharagpur                                           Aug’09-May’10', 'ORG'), ('Engineering Library', 'ORG'), ('Pune,', 'GPE'), ('India                                       May’09', 'ORG'), ('Pune', 'GPE'), ('IBM WebSphere Commerce', 'ORG'), ('IIT Kharagpur', 'ORG'), ('IIT Kharagpur Student Counselling Service', 'ORG'), ('Counselling Centre', 'ORG'), ('IIT Kharagpur', 'ORG'), ('6 months', 'DATE'), ('Gate Keepers Training', 'ORG'), ('Spring Fest', 'GPE'), ('2008', 'DATE'), ('Senior Secondary School (Central Hindu School', 'ORG'), ('CURRICULAR ACHIEVEMENTS', 'ORG'), ('OPENSOFT Competition', 'ORG'), ('Lawn Tennis Team', 'ORG')]\n"
     ]
    }
   ],
   "source": [
    "import spacy\n",
    "\n",
    "nlp = spacy.load('./model-best')\n",
    "\n",
    "text = ['''SIDDHARTH RAGHUVANSHI                                Roll No. 06CS3025                                            DOB: 08/08/1988\n",
    "Email: siddharth.iitkharagpur@gmail.com                                                                                          Mobile No.:   +91 9932584135\n",
    "Degree/Certificate\n",
    "Dual Degree[B. Tech (H) + M. Tech]\n",
    "(Computer Science & Engineering)\n",
    "Class XII:  C.B.S.E.\n",
    "Class X:   C.B.S.E.\n",
    "ACADEMIC ACHIEVEMENTS\n",
    "Institute/ School, City\n",
    "Indian Institute of Technology, Kharagpur\n",
    "Central Hindu School, Varanasi\n",
    "St. Atulanand Convent School, Varanasi\n",
    "CGPA/ %  Completion\n",
    "8.26/10\n",
    "86.0%\n",
    "90.8%\n",
    "2011\n",
    "2005\n",
    "2003\n",
    "Competitive\n",
    "Examinations\n",
    "  All India Rank 116 in AIEEE, 2006 among 470,000 students, State Rank 8 in Uttar Pradesh.\n",
    "  All India Rank 119 in 7th National Science Olympiad, 2005.\n",
    "  All India Rank 22 in All India Level Mathematics & Science Test organized by Central Institute  for\n",
    "Proficiency in English Language (CIPEL).\n",
    "Scholastic\n",
    "Achievements\n",
    "  National top 1% out of 26968 candidates appeared in National Standard Examination in Physics’05\n",
    "  Receiving CBSE Merit Scholarship for the past 4 years.\n",
    "ACADEMIC PROJECTS\n",
    "M. Tech Project                                                                                      IIT Kharagpur                                           May’10-Nov’10\n",
    "•\n",
    "•\n",
    "Studied the performance of text indexing algorithms on Hadoop MapReduce architecture.\n",
    "Future work includes implementing more efficient indexing and retrieval techniques in MapReduce for distributed parallel\n",
    "computing.\n",
    "B. Tech Project                                                                                        IIT Kharagpur                                           Aug’09-May’10\n",
    "  Developed a software with can handle all sorts of query related to geographical information extracted from maps.\n",
    "  Developed a client interface which can fetch data from different incompatible geospatial web services and make that data\n",
    "compatible for resolving queries.\n",
    "Integrated my framework engine with different underlying heterogeneous spatial databases.\n",
    "\n",
    "Static Instrumentation Of Java Programs                                          IIT Kharagpur                                                   May’08\n",
    "  Developed a program using Byte Code Engineering Library to do automated testing of java program at byte code level.\n",
    "WORK EXPERIENCE / INTERNSHIP\n",
    "Extreme Blue Internship Program                                                                   ISL, IBM, Pune, India                                       May’09 – July’09\n",
    "Business\n",
    "Perspective\n",
    "Technical\n",
    "Perspective\n",
    " Achievements\n",
    "  Conducted survey in Pune region on the current home delivery status of organized retails\n",
    "\n",
    "Proposed and implemented a solution on how to increase home delivery sales in order to compete with the\n",
    "localized general (kirana) stores\n",
    "\n",
    "Built an independent Home Delivery module on Java EE platform using open standards such as XML and\n",
    "Web Services\n",
    "Integrated the Home Delivery module with IBM WebSphere Commerce.\n",
    "\n",
    "  Received highest grade 10/10 in summer internship evaluation at IIT Kharagpur, 2009.\n",
    "RELEVANT COURSES TAKEN\n",
    "  Machine learning\n",
    "  Algorithms-I\n",
    "  Algorithms-II\n",
    "Information Retrieval\n",
    "\n",
    "  Distributed Systems\n",
    "\n",
    "Probability and Statistics\n",
    "POSITION OF RESPONSIBILITY\n",
    "\n",
    "Student coordinator of IIT Kharagpur Student Counselling Service.\n",
    "  Student member of team that conceptualized and publicized Counselling Centre in IIT Kharagpur after 5 successive suicides\n",
    "in the campus within a span of 6 months in between Feb’09 and Jul’09.\n",
    "  More than 100 students are counselled every month.\n",
    "  No mishaps in the campus as of Sep’10 after the establishment of the centre.\n",
    "  Went through Gate Keepers Training to identify behavioral change in a person.\n",
    "  Managed  the  systems  team  of  Bitwise-2010,  an  international  algorithmic  intensive  programming  contest  leading  to  the\n",
    "participation of 3000 teams across 75 countries.\n",
    "\n",
    "Family Sub-head of accommodation team in Spring Fest, 2008.\n",
    "  Head boy of my Senior Secondary School (Central Hindu School).\n",
    "e\n",
    "EXTRA CURRICULAR ACHIEVEMENTS\n",
    "  Member of Silver winning team in inter hall OPENSOFT Competition in the session 2007-08.\n",
    "  National Sports Organization: Among Top 30 students in Lawn Tennis Team at IIT Kharagpur’06. ''']\n",
    "\n",
    "for doc in nlp.pipe(text, disable=[\"tagger\", \"parser\"]):\n",
    "    print([(ent.text, ent.label_) for ent in doc.ents])"
   ],
   "metadata": {
    "collapsed": false,
    "ExecuteTime": {
     "end_time": "2023-07-20T21:46:56.234583Z",
     "start_time": "2023-07-20T21:46:54.349686Z"
    }
   }
  },
  {
   "cell_type": "code",
   "execution_count": 50,
   "outputs": [
    {
     "ename": "TypeError",
     "evalue": "object of type '_io.TextIOWrapper' has no len()",
     "output_type": "error",
     "traceback": [
      "\u001B[0;31m---------------------------------------------------------------------------\u001B[0m",
      "\u001B[0;31mTypeError\u001B[0m                                 Traceback (most recent call last)",
      "Cell \u001B[0;32mIn[50], line 47\u001B[0m\n\u001B[1;32m     44\u001B[0m \u001B[38;5;66;03m# Training for 30 iterations\u001B[39;00m\n\u001B[1;32m     45\u001B[0m \u001B[38;5;28;01mfor\u001B[39;00m itn \u001B[38;5;129;01min\u001B[39;00m \u001B[38;5;28mrange\u001B[39m(\u001B[38;5;241m30\u001B[39m):\n\u001B[1;32m     46\u001B[0m   \u001B[38;5;66;03m# shuffle examples before training\u001B[39;00m\n\u001B[0;32m---> 47\u001B[0m   \u001B[43mrandom\u001B[49m\u001B[38;5;241;43m.\u001B[39;49m\u001B[43mshuffle\u001B[49m\u001B[43m(\u001B[49m\u001B[43mtrain_data\u001B[49m\u001B[43m)\u001B[49m\n\u001B[1;32m     48\u001B[0m   \u001B[38;5;66;03m# batch up the examples using spaCy's minibatch\u001B[39;00m\n\u001B[1;32m     49\u001B[0m   batches \u001B[38;5;241m=\u001B[39m minibatch(train_data, size\u001B[38;5;241m=\u001B[39msizes)\n",
      "File \u001B[0;32m/usr/local/Cellar/python@3.10/3.10.6_1/Frameworks/Python.framework/Versions/3.10/lib/python3.10/random.py:391\u001B[0m, in \u001B[0;36mRandom.shuffle\u001B[0;34m(self, x, random)\u001B[0m\n\u001B[1;32m    389\u001B[0m \u001B[38;5;28;01mif\u001B[39;00m random \u001B[38;5;129;01mis\u001B[39;00m \u001B[38;5;28;01mNone\u001B[39;00m:\n\u001B[1;32m    390\u001B[0m     randbelow \u001B[38;5;241m=\u001B[39m \u001B[38;5;28mself\u001B[39m\u001B[38;5;241m.\u001B[39m_randbelow\n\u001B[0;32m--> 391\u001B[0m     \u001B[38;5;28;01mfor\u001B[39;00m i \u001B[38;5;129;01min\u001B[39;00m \u001B[38;5;28mreversed\u001B[39m(\u001B[38;5;28mrange\u001B[39m(\u001B[38;5;241m1\u001B[39m, \u001B[38;5;28;43mlen\u001B[39;49m\u001B[43m(\u001B[49m\u001B[43mx\u001B[49m\u001B[43m)\u001B[49m)):\n\u001B[1;32m    392\u001B[0m         \u001B[38;5;66;03m# pick an element in x[:i+1] with which to exchange x[i]\u001B[39;00m\n\u001B[1;32m    393\u001B[0m         j \u001B[38;5;241m=\u001B[39m randbelow(i \u001B[38;5;241m+\u001B[39m \u001B[38;5;241m1\u001B[39m)\n\u001B[1;32m    394\u001B[0m         x[i], x[j] \u001B[38;5;241m=\u001B[39m x[j], x[i]\n",
      "\u001B[0;31mTypeError\u001B[0m: object of type '_io.TextIOWrapper' has no len()"
     ]
    }
   ],
   "source": [
    "# ref: https://www.machinelearningplus.com/nlp/training-custom-ner-model-in-spacy/\n",
    "\n",
    "# Import and load the spacy model\n",
    "import spacy\n",
    "import json\n",
    "from collections import Counter\n",
    "nlp_sm=spacy.load(\"en_core_web_sm\")\n",
    "# nlp_md=spacy.load(\"en_core_web_md\")\n",
    "# nlp_lg=spacy.load(\"en_core_web_lg\")\n",
    "# nlp_trf=spacy.load(\"en_core_web_trf\")\n",
    "\n",
    "# Getting the ner component\n",
    "if \"ner\" not in nlp_sm.pipe_names:\n",
    "    ner = nlp_sm.create_pipe(\"ner\")\n",
    "    nlp_sm.add_pipe(ner, last=True)\n",
    "else:\n",
    "    ner = nlp_sm.get_pipe(\"ner\")\n",
    "\n",
    "# Training examples in the required format\n",
    "with open('./train.spacy', \"r\", encoding=\"utf-8\") as train_data:\n",
    "\n",
    "    tab_ents =['CODE', 'DEM', 'MISC']\n",
    "    for ent in tab_ents:\n",
    "        ner.add_label(ent)\n",
    "\n",
    "    # Resume training\n",
    "    optimizer = nlp_sm.resume_training()\n",
    "    move_names = list(ner.move_names)\n",
    "\n",
    "    # List of pipes you want to train\n",
    "    pipe_exceptions = [\"ner\", \"trf_wordpiecer\", \"trf_tok2vec\"]\n",
    "\n",
    "    # List of pipes which should remain unaffected in training\n",
    "    other_pipes = [pipe for pipe in nlp_sm.pipe_names if pipe not in pipe_exceptions]\n",
    "\n",
    "    # Importing requirements\n",
    "    from spacy.util import minibatch, compounding\n",
    "    import random\n",
    "\n",
    "    # Begin training by disabling other pipeline components\n",
    "    with nlp_sm.disable_pipes(*other_pipes) :\n",
    "\n",
    "      sizes = compounding(1.0, 4.0, 1.001)\n",
    "      # Training for 30 iterations\n",
    "      for itn in range(30):\n",
    "        # shuffle examples before training\n",
    "        random.shuffle(train_data)\n",
    "        # batch up the examples using spaCy's minibatch\n",
    "        batches = minibatch(train_data, size=sizes)\n",
    "        # dictionary to store losses\n",
    "        losses = {}\n",
    "        for batch in batches:\n",
    "          texts, annotations = zip(*batch)\n",
    "          # Calling update() over the iteration\n",
    "          nlp_sm.update(texts, annotations, sgd=optimizer, drop=0.35, losses=losses)\n",
    "          print(\"Losses\", losses)\n",
    "\n",
    "    # Testing the NER\n",
    "\n",
    "    test_text = \"I ate Sushi yesterday. Maggi is a common fast food \"\n",
    "    doc = nlp_sm(test_text)\n",
    "    print(\"Entities in '%s'\" % test_text)\n",
    "    for ent in doc.ents:\n",
    "        print(ent)\n"
   ],
   "metadata": {
    "collapsed": false,
    "ExecuteTime": {
     "end_time": "2023-07-19T22:53:28.770271Z",
     "start_time": "2023-07-19T22:53:27.899232Z"
    }
   }
  },
  {
   "cell_type": "code",
   "execution_count": null,
   "outputs": [],
   "source": [
    "# Output directory\n",
    "from pathlib import Path\n",
    "output_dir=Path('../../data/models/spacy/')\n",
    "\n",
    "# Saving the model to the output directory\n",
    "if not output_dir.exists():\n",
    "  output_dir.mkdir()\n",
    "nlp_sm.meta['name'] = 'my_ner'  # rename model\n",
    "nlp_sm.to_disk(output_dir)\n",
    "print(\"Saved model to\", output_dir)\n",
    "\n",
    "# Loading the model from the directory\n",
    "print(\"Loading from\", output_dir)\n",
    "nlp2 = spacy.load(output_dir)\n",
    "assert nlp2.get_pipe(\"ner\").move_names == move_names\n",
    "doc2 = nlp2(' Dosa is an extremely famous south Indian dish')\n",
    "for ent in doc2.ents:\n",
    "  print(ent.label_, ent.text)"
   ],
   "metadata": {
    "collapsed": false
   }
  }
 ],
 "metadata": {
  "kernelspec": {
   "display_name": "Python 3",
   "language": "python",
   "name": "python3"
  },
  "language_info": {
   "codemirror_mode": {
    "name": "ipython",
    "version": 2
   },
   "file_extension": ".py",
   "mimetype": "text/x-python",
   "name": "python",
   "nbconvert_exporter": "python",
   "pygments_lexer": "ipython2",
   "version": "2.7.6"
  }
 },
 "nbformat": 4,
 "nbformat_minor": 0
}
