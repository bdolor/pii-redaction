{
 "cells": [
  {
   "cell_type": "code",
   "execution_count": null,
   "metadata": {
    "collapsed": true
   },
   "outputs": [],
   "source": [
    "!python -m spacy download en_core_web_lg"
   ]
  },
  {
   "cell_type": "markdown",
   "source": [
    "# baseline with pretrained model"
   ],
   "metadata": {
    "collapsed": false
   }
  },
  {
   "cell_type": "code",
   "execution_count": 56,
   "outputs": [
    {
     "name": "stdout",
     "output_type": "stream",
     "text": [
      "[('SIDDHARTH', 'ORG'), ('DOB', 'ORG'), ('+91 9932584135\\nDegree/Certificate\\nDual Degree[B. Tech', 'MONEY'), ('Computer Science & Engineering', 'ORG'), ('C.B.S.E.\\nClass X', 'PRODUCT'), ('Institute/ School', 'ORG'), ('Indian Institute of Technology', 'ORG'), ('Kharagpur', 'GPE'), ('Central Hindu School', 'ORG'), ('Varanasi', 'GPE'), ('St. Atulanand Convent School', 'ORG'), ('Varanasi', 'GPE'), ('86.0%', 'PERCENT'), ('90.8%', 'PERCENT'), ('2011\\n2005', 'DATE'), ('2003', 'DATE'), ('All India Rank', 'ORG'), ('116', 'CARDINAL'), ('AIEEE', 'ORG'), ('2006', 'DATE'), ('470,000', 'CARDINAL'), ('State', 'ORG'), ('8', 'CARDINAL'), ('Uttar Pradesh', 'GPE'), ('All India Rank', 'ORG'), ('119', 'CARDINAL'), ('7th', 'ORDINAL'), ('National Science Olympiad', 'EVENT'), ('2005', 'DATE'), ('All India Rank', 'ORG'), ('22', 'CARDINAL'), ('All India Level Mathematics & Science', 'ORG'), ('Central Institute', 'ORG'), ('English', 'LANGUAGE'), ('CIPEL', 'PERSON'), ('National', 'ORG'), ('1%', 'PERCENT'), ('26968', 'CARDINAL'), ('National Standard Examination', 'ORG'), ('the past 4 years', 'DATE'), ('M. Tech Project', 'ORG'), ('IIT Kharagpur', 'ORG'), ('B. Tech Project', 'ORG'), ('IIT Kharagpur', 'ORG'), ('Static Instrumentation Of Java Programs                                          ', 'ORG'), ('Byte Code Engineering Library', 'ORG'), ('INTERNSHIP', 'ORG'), ('Extreme Blue Internship Program', 'ORG'), ('ISL', 'ORG'), ('IBM', 'ORG'), ('Pune', 'GPE'), ('India', 'GPE'), ('Pune', 'GPE'), ('kirana', 'ORG'), ('Java EE', 'ORG'), ('XML', 'LAW'), ('Web Services\\nIntegrated the Home Delivery', 'ORG'), ('IBM', 'ORG'), ('10/10', 'CARDINAL'), ('summer', 'DATE'), ('IIT Kharagpur', 'ORG'), ('2009', 'DATE'), ('Distributed Systems', 'ORG'), ('IIT Kharagpur Student Counselling Service', 'ORG'), ('Counselling Centre', 'ORG'), ('5', 'CARDINAL'), ('a span of 6 months', 'DATE'), ('Jul’09', 'PERSON'), ('More than 100', 'CARDINAL'), ('every month', 'DATE'), ('Sep’10', 'PERSON'), ('Bitwise-2010', 'ORG'), ('3000', 'CARDINAL'), ('75', 'CARDINAL'), ('Family Sub-head', 'PRODUCT'), ('Spring Fest', 'EVENT'), ('2008', 'DATE'), ('Central Hindu School', 'ORG'), ('2007-08', 'DATE'), ('National Sports Organization', 'ORG'), ('30', 'CARDINAL'), ('Lawn Tennis Team', 'ORG'), ('IIT Kharagpur’06', 'ORG')]\n"
     ]
    },
    {
     "name": "stderr",
     "output_type": "stream",
     "text": [
      "/Users/bpayne/code/data-science/pii-redaction/venv/lib/python3.10/site-packages/spacy/pipeline/lemmatizer.py:211: UserWarning: [W108] The rule-based lemmatizer did not find POS annotation for one or more tokens. Check that your pipeline includes components that assign token.pos, typically 'tagger'+'attribute_ruler' or 'morphologizer'.\n",
      "  warnings.warn(Warnings.W108)\n"
     ]
    }
   ],
   "source": [
    "import spacy\n",
    "\n",
    "nlp = spacy.load('en_core_web_lg')\n",
    "\n",
    "text = ['''SIDDHARTH RAGHUVANSHI                                Roll No. 06CS3025                                            DOB: 08/08/1988\n",
    "Email: siddharth.iitkharagpur@gmail.com                                                                                          Mobile No.:   +91 9932584135\n",
    "Degree/Certificate\n",
    "Dual Degree[B. Tech (H) + M. Tech]\n",
    "(Computer Science & Engineering)\n",
    "Class XII:  C.B.S.E.\n",
    "Class X:   C.B.S.E.\n",
    "ACADEMIC ACHIEVEMENTS\n",
    "Institute/ School, City\n",
    "Indian Institute of Technology, Kharagpur\n",
    "Central Hindu School, Varanasi\n",
    "St. Atulanand Convent School, Varanasi\n",
    "CGPA/ %  Completion\n",
    "8.26/10\n",
    "86.0%\n",
    "90.8%\n",
    "2011\n",
    "2005\n",
    "2003\n",
    "Competitive\n",
    "Examinations\n",
    "  All India Rank 116 in AIEEE, 2006 among 470,000 students, State Rank 8 in Uttar Pradesh.\n",
    "  All India Rank 119 in 7th National Science Olympiad, 2005.\n",
    "  All India Rank 22 in All India Level Mathematics & Science Test organized by Central Institute  for\n",
    "Proficiency in English Language (CIPEL).\n",
    "Scholastic\n",
    "Achievements\n",
    "  National top 1% out of 26968 candidates appeared in National Standard Examination in Physics’05\n",
    "  Receiving CBSE Merit Scholarship for the past 4 years.\n",
    "ACADEMIC PROJECTS\n",
    "M. Tech Project                                                                                      IIT Kharagpur                                           May’10-Nov’10\n",
    "•\n",
    "•\n",
    "Studied the performance of text indexing algorithms on Hadoop MapReduce architecture.\n",
    "Future work includes implementing more efficient indexing and retrieval techniques in MapReduce for distributed parallel\n",
    "computing.\n",
    "B. Tech Project                                                                                        IIT Kharagpur                                           Aug’09-May’10\n",
    "  Developed a software with can handle all sorts of query related to geographical information extracted from maps.\n",
    "  Developed a client interface which can fetch data from different incompatible geospatial web services and make that data\n",
    "compatible for resolving queries.\n",
    "Integrated my framework engine with different underlying heterogeneous spatial databases.\n",
    "\n",
    "Static Instrumentation Of Java Programs                                          IIT Kharagpur                                                   May’08\n",
    "  Developed a program using Byte Code Engineering Library to do automated testing of java program at byte code level.\n",
    "WORK EXPERIENCE / INTERNSHIP\n",
    "Extreme Blue Internship Program                                                                   ISL, IBM, Pune, India                                       May’09 – July’09\n",
    "Business\n",
    "Perspective\n",
    "Technical\n",
    "Perspective\n",
    " Achievements\n",
    "  Conducted survey in Pune region on the current home delivery status of organized retails\n",
    "\n",
    "Proposed and implemented a solution on how to increase home delivery sales in order to compete with the\n",
    "localized general (kirana) stores\n",
    "\n",
    "Built an independent Home Delivery module on Java EE platform using open standards such as XML and\n",
    "Web Services\n",
    "Integrated the Home Delivery module with IBM WebSphere Commerce.\n",
    "\n",
    "  Received highest grade 10/10 in summer internship evaluation at IIT Kharagpur, 2009.\n",
    "RELEVANT COURSES TAKEN\n",
    "  Machine learning\n",
    "  Algorithms-I\n",
    "  Algorithms-II\n",
    "Information Retrieval\n",
    "\n",
    "  Distributed Systems\n",
    "\n",
    "Probability and Statistics\n",
    "POSITION OF RESPONSIBILITY\n",
    "\n",
    "Student coordinator of IIT Kharagpur Student Counselling Service.\n",
    "  Student member of team that conceptualized and publicized Counselling Centre in IIT Kharagpur after 5 successive suicides\n",
    "in the campus within a span of 6 months in between Feb’09 and Jul’09.\n",
    "  More than 100 students are counselled every month.\n",
    "  No mishaps in the campus as of Sep’10 after the establishment of the centre.\n",
    "  Went through Gate Keepers Training to identify behavioral change in a person.\n",
    "  Managed  the  systems  team  of  Bitwise-2010,  an  international  algorithmic  intensive  programming  contest  leading  to  the\n",
    "participation of 3000 teams across 75 countries.\n",
    "\n",
    "Family Sub-head of accommodation team in Spring Fest, 2008.\n",
    "  Head boy of my Senior Secondary School (Central Hindu School).\n",
    "e\n",
    "EXTRA CURRICULAR ACHIEVEMENTS\n",
    "  Member of Silver winning team in inter hall OPENSOFT Competition in the session 2007-08.\n",
    "  National Sports Organization: Among Top 30 students in Lawn Tennis Team at IIT Kharagpur’06. ''']\n",
    "\n",
    "for doc in nlp.pipe(text, disable=[\"tagger\", \"parser\"]):\n",
    "    print([(ent.text, ent.label_) for ent in doc.ents])"
   ],
   "metadata": {
    "collapsed": false,
    "ExecuteTime": {
     "end_time": "2023-07-20T21:49:59.440560Z",
     "start_time": "2023-07-20T21:49:57.841123Z"
    }
   }
  },
  {
   "cell_type": "code",
   "execution_count": 58,
   "outputs": [
    {
     "name": "stdout",
     "output_type": "stream",
     "text": [
      "\u001B[38;5;2m✔ Auto-filled config with all values\u001B[0m\r\n",
      "\u001B[38;5;2m✔ Saved config\u001B[0m\r\n",
      "config/config_lg.cfg\r\n",
      "You can now add your data and train your pipeline:\r\n",
      "python -m spacy train config_lg.cfg --paths.train ./train.spacy --paths.dev ./dev.spacy\r\n"
     ]
    }
   ],
   "source": [
    "!python -m spacy init fill-config config/base_config_lg.cfg config/config_lg.cfg"
   ],
   "metadata": {
    "collapsed": false,
    "ExecuteTime": {
     "end_time": "2023-07-21T19:16:03.413962Z",
     "start_time": "2023-07-21T19:15:50.739346Z"
    }
   }
  },
  {
   "cell_type": "code",
   "execution_count": 57,
   "outputs": [
    {
     "name": "stdout",
     "output_type": "stream",
     "text": [
      "\u001B[1m\r\n",
      "============================ Data file validation ============================\u001B[0m\r\n",
      "\u001B[38;5;2m✔ Pipeline can be initialized with data\u001B[0m\r\n",
      "\u001B[38;5;2m✔ Corpus is loadable\u001B[0m\r\n",
      "\u001B[1m\r\n",
      "=============================== Training stats ===============================\u001B[0m\r\n",
      "Language: en\r\n",
      "Training pipeline: tok2vec, ner\r\n",
      "1268 training docs\r\n",
      "1268 evaluation docs\r\n",
      "\u001B[38;5;3m⚠ 1268 training examples also in evaluation data\u001B[0m\r\n",
      "\u001B[38;5;3m⚠ Low number of examples to train a new pipeline (1268)\u001B[0m\r\n",
      "\u001B[1m\r\n",
      "============================== Vocab & Vectors ==============================\u001B[0m\r\n",
      "\u001B[38;5;4mℹ 1828987 total word(s) in the data (33172 unique)\u001B[0m\r\n",
      "\u001B[38;5;4mℹ 514157 vectors (514157 unique keys, 300 dimensions)\u001B[0m\r\n",
      "\u001B[38;5;3m⚠ 48277 words in training data without vectors (3%)\u001B[0m\r\n",
      "\u001B[1m\r\n",
      "========================== Named Entity Recognition ==========================\u001B[0m\r\n",
      "\u001B[38;5;4mℹ 5 label(s)\u001B[0m\r\n",
      "0 missing value(s) (tokens with '-' label)\r\n",
      "\u001B[38;5;2m✔ Good amount of examples for all labels\u001B[0m\r\n",
      "\u001B[38;5;2m✔ Examples without occurrences available for all labels\u001B[0m\r\n",
      "\u001B[38;5;2m✔ No entities consisting of or starting/ending with whitespace\u001B[0m\r\n",
      "\u001B[38;5;2m✔ No entities crossing sentence boundaries\u001B[0m\r\n",
      "\u001B[1m\r\n",
      "================================== Summary ==================================\u001B[0m\r\n",
      "\u001B[38;5;2m✔ 6 checks passed\u001B[0m\r\n",
      "\u001B[38;5;3m⚠ 3 warnings\u001B[0m\r\n"
     ]
    }
   ],
   "source": [
    "!python -m spacy debug data config/config_lg.cfg"
   ],
   "metadata": {
    "collapsed": false,
    "ExecuteTime": {
     "end_time": "2023-07-20T23:33:18.933572Z",
     "start_time": "2023-07-20T23:31:40.946637Z"
    }
   }
  },
  {
   "cell_type": "code",
   "execution_count": 54,
   "outputs": [
    {
     "name": "stdout",
     "output_type": "stream",
     "text": [
      "\u001B[38;5;4mℹ Saving to output directory: .\u001B[0m\r\n",
      "\u001B[38;5;4mℹ Using CPU\u001B[0m\r\n",
      "\u001B[38;5;4mℹ To switch to GPU 0, use the option: --gpu-id 0\u001B[0m\r\n",
      "\u001B[1m\r\n",
      "=========================== Initializing pipeline ===========================\u001B[0m\r\n",
      "[2023-07-20 11:53:00,472] [INFO] Set up nlp object from config\r\n",
      "[2023-07-20 11:53:00,486] [INFO] Pipeline: ['tok2vec', 'ner']\r\n",
      "[2023-07-20 11:53:00,489] [INFO] Created vocabulary\r\n",
      "[2023-07-20 11:53:01,847] [INFO] Added vectors: en_core_web_lg\r\n",
      "[2023-07-20 11:53:01,847] [INFO] Finished initializing nlp object\r\n",
      "[2023-07-20 11:53:26,684] [INFO] Initialized pipeline components: ['tok2vec', 'ner']\r\n",
      "\u001B[38;5;2m✔ Initialized pipeline\u001B[0m\r\n",
      "\u001B[1m\r\n",
      "============================= Training pipeline =============================\u001B[0m\r\n",
      "\u001B[38;5;4mℹ Pipeline: ['tok2vec', 'ner']\u001B[0m\r\n",
      "\u001B[38;5;4mℹ Initial learn rate: 0.001\u001B[0m\r\n",
      "E    #       LOSS TOK2VEC  LOSS NER  ENTS_F  ENTS_P  ENTS_R  SCORE \r\n",
      "---  ------  ------------  --------  ------  ------  ------  ------\r\n",
      "  0       0          0.00    672.55    0.50    0.29    1.87    0.01\r\n",
      "  0     200        533.66  24936.24   79.28   82.89   75.97    0.79\r\n",
      "  0     400       1829.53   8779.02   78.41   85.84   72.16    0.78\r\n",
      "  0     600        421.30   6989.80   82.69   87.36   78.50    0.83\r\n",
      "  0     800        252.27   8439.16   80.67   84.98   76.78    0.81\r\n",
      "  0    1000        648.60   7377.60   81.99   83.32   80.70    0.82\r\n",
      "  1    1200        290.23   6561.46   81.51   85.05   78.25    0.82\r\n",
      "  1    1400        516.06   6793.87   82.80   84.71   80.97    0.83\r\n",
      "  1    1600       6958.56   7007.81   84.22   89.35   79.64    0.84\r\n",
      "  1    1800      14675.90   6720.52   83.89   87.25   80.78    0.84\r\n",
      "  1    2000        380.89   6801.52   83.84   88.79   79.41    0.84\r\n",
      "  2    2200        997.14   6343.74   84.67   85.62   83.74    0.85\r\n",
      "  2    2400        575.64   5737.55   81.60   83.89   79.44    0.82\r\n",
      "  2    2600        488.62   5805.35   84.13   87.59   80.92    0.84\r\n",
      "  2    2800        933.90   5436.60   83.48   87.35   79.94    0.83\r\n",
      "  2    3000        952.22   6332.49   84.55   89.59   80.04    0.85\r\n",
      "  3    3200       1190.48   5830.24   83.01   87.93   78.62    0.83\r\n",
      "  3    3400        811.17   5837.14   85.48   86.89   84.13    0.85\r\n",
      "  3    3600      64560.60   6124.53   84.16   85.68   82.69    0.84\r\n",
      "  3    3800      14740.70   5525.71   83.49   85.87   81.25    0.83\r\n",
      "  3    4000        720.58   4784.74   84.74   86.99   82.61    0.85\r\n",
      "  4    4200       4003.58   5283.43   84.52   88.72   80.70    0.85\r\n",
      "  4    4400       8684.88   4782.40   84.55   86.32   82.85    0.85\r\n",
      "  4    4600        752.73   5451.75   84.62   87.54   81.89    0.85\r\n",
      "  4    4800      21289.14   5172.55   83.96   85.66   82.33    0.84\r\n",
      "  4    5000       1217.33   5518.62   83.25   83.17   83.32    0.83\r\n",
      "\u001B[38;5;2m✔ Saved pipeline to output directory\u001B[0m\r\n",
      "model-last\r\n"
     ]
    }
   ],
   "source": [
    "!python -m spacy train config.cfg -o ../../data/models/spacy/lg"
   ],
   "metadata": {
    "collapsed": false,
    "ExecuteTime": {
     "end_time": "2023-07-20T21:24:31.407478Z",
     "start_time": "2023-07-20T18:52:57.276119Z"
    }
   }
  },
  {
   "cell_type": "code",
   "execution_count": 59,
   "outputs": [
    {
     "name": "stdout",
     "output_type": "stream",
     "text": [
      "\u001B[38;5;4mℹ Using CPU\u001B[0m\r\n",
      "\u001B[38;5;4mℹ To switch to GPU 0, use the option: --gpu-id 0\u001B[0m\r\n",
      "\u001B[1m\r\n",
      "================================== Results ==================================\u001B[0m\r\n",
      "\r\n",
      "TOK     100.00\r\n",
      "NER P   84.42 \r\n",
      "NER R   84.96 \r\n",
      "NER F   84.69 \r\n",
      "SPEED   2699  \r\n",
      "\r\n",
      "\u001B[1m\r\n",
      "=============================== NER (per type) ===============================\u001B[0m\r\n",
      "\r\n",
      "             P       R       F\r\n",
      "ORG      72.42   77.87   75.04\r\n",
      "DEM      85.28   40.19   54.63\r\n",
      "PERSON   88.08   93.98   90.93\r\n",
      "DATE     92.14   93.69   92.91\r\n",
      "GPE      84.63   85.40   85.01\r\n",
      "\r\n"
     ]
    }
   ],
   "source": [
    "!python -m spacy benchmark accuracy \"../../data/models/spacy/lg/model-best\" \"../../data/annotated/dev.spacy\""
   ],
   "metadata": {
    "collapsed": false,
    "ExecuteTime": {
     "end_time": "2023-07-24T00:34:37.866810Z",
     "start_time": "2023-07-24T00:33:45.489410Z"
    }
   }
  },
  {
   "cell_type": "code",
   "execution_count": 60,
   "outputs": [
    {
     "name": "stdout",
     "output_type": "stream",
     "text": [
      "[('SIDDHARTH RAGHUVANSHI                                Roll No', 'ORG'), ('Computer Science & Engineering', 'ORG'), ('ACHIEVEMENTS', 'ORG'), ('Institute/ School', 'ORG'), ('Indian Institute of Technology', 'ORG'), ('Kharagpur\\nCentral Hindu School', 'ORG'), ('Varanasi', 'GPE'), ('St. Atulanand Convent School', 'ORG'), ('Varanasi', 'GPE'), ('AIEEE', 'PERSON'), ('2006', 'DATE'), ('Uttar Pradesh', 'GPE'), ('7th National Science Olympiad', 'ORG'), ('Central Institute  ', 'ORG'), ('English', 'DEM'), ('National Standard Examination', 'ORG'), ('past 4 years', 'DATE'), ('Tech Project                                                                                      IIT Kharagpur                                           May’10-Nov’10\\n', 'ORG'), ('Tech Project                                                                                        IIT Kharagpur                                           Aug’09-May’10', 'ORG'), ('Engineering Library', 'ORG'), ('Pune,', 'GPE'), ('India                                       May’09', 'ORG'), ('Pune', 'GPE'), ('IBM WebSphere Commerce', 'ORG'), ('IIT Kharagpur', 'ORG'), ('IIT Kharagpur Student Counselling Service', 'ORG'), ('Counselling Centre', 'ORG'), ('IIT Kharagpur', 'ORG'), ('6 months', 'DATE'), ('Gate Keepers Training', 'ORG'), ('Spring Fest', 'GPE'), ('Senior Secondary School (Central Hindu School', 'ORG'), ('CURRICULAR ACHIEVEMENTS', 'ORG'), ('OPENSOFT Competition', 'ORG'), ('Lawn Tennis Team', 'ORG')]\n"
     ]
    }
   ],
   "source": [
    "import spacy\n",
    "\n",
    "nlp = spacy.load('../../data/models/spacy/lg/model-best')\n",
    "\n",
    "text = ['''SIDDHARTH RAGHUVANSHI                                Roll No. 06CS3025                                            DOB: 08/08/1988\n",
    "Email: siddharth.iitkharagpur@gmail.com                                                                                          Mobile No.:   +91 9932584135\n",
    "Degree/Certificate\n",
    "Dual Degree[B. Tech (H) + M. Tech]\n",
    "(Computer Science & Engineering)\n",
    "Class XII:  C.B.S.E.\n",
    "Class X:   C.B.S.E.\n",
    "ACADEMIC ACHIEVEMENTS\n",
    "Institute/ School, City\n",
    "Indian Institute of Technology, Kharagpur\n",
    "Central Hindu School, Varanasi\n",
    "St. Atulanand Convent School, Varanasi\n",
    "CGPA/ %  Completion\n",
    "8.26/10\n",
    "86.0%\n",
    "90.8%\n",
    "2011\n",
    "2005\n",
    "2003\n",
    "Competitive\n",
    "Examinations\n",
    "  All India Rank 116 in AIEEE, 2006 among 470,000 students, State Rank 8 in Uttar Pradesh.\n",
    "  All India Rank 119 in 7th National Science Olympiad, 2005.\n",
    "  All India Rank 22 in All India Level Mathematics & Science Test organized by Central Institute  for\n",
    "Proficiency in English Language (CIPEL).\n",
    "Scholastic\n",
    "Achievements\n",
    "  National top 1% out of 26968 candidates appeared in National Standard Examination in Physics’05\n",
    "  Receiving CBSE Merit Scholarship for the past 4 years.\n",
    "ACADEMIC PROJECTS\n",
    "M. Tech Project                                                                                      IIT Kharagpur                                           May’10-Nov’10\n",
    "•\n",
    "•\n",
    "Studied the performance of text indexing algorithms on Hadoop MapReduce architecture.\n",
    "Future work includes implementing more efficient indexing and retrieval techniques in MapReduce for distributed parallel\n",
    "computing.\n",
    "B. Tech Project                                                                                        IIT Kharagpur                                           Aug’09-May’10\n",
    "  Developed a software with can handle all sorts of query related to geographical information extracted from maps.\n",
    "  Developed a client interface which can fetch data from different incompatible geospatial web services and make that data\n",
    "compatible for resolving queries.\n",
    "Integrated my framework engine with different underlying heterogeneous spatial databases.\n",
    "\n",
    "Static Instrumentation Of Java Programs                                          IIT Kharagpur                                                   May’08\n",
    "  Developed a program using Byte Code Engineering Library to do automated testing of java program at byte code level.\n",
    "WORK EXPERIENCE / INTERNSHIP\n",
    "Extreme Blue Internship Program                                                                   ISL, IBM, Pune, India                                       May’09 – July’09\n",
    "Business\n",
    "Perspective\n",
    "Technical\n",
    "Perspective\n",
    " Achievements\n",
    "  Conducted survey in Pune region on the current home delivery status of organized retails\n",
    "\n",
    "Proposed and implemented a solution on how to increase home delivery sales in order to compete with the\n",
    "localized general (kirana) stores\n",
    "\n",
    "Built an independent Home Delivery module on Java EE platform using open standards such as XML and\n",
    "Web Services\n",
    "Integrated the Home Delivery module with IBM WebSphere Commerce.\n",
    "\n",
    "  Received highest grade 10/10 in summer internship evaluation at IIT Kharagpur, 2009.\n",
    "RELEVANT COURSES TAKEN\n",
    "  Machine learning\n",
    "  Algorithms-I\n",
    "  Algorithms-II\n",
    "Information Retrieval\n",
    "\n",
    "  Distributed Systems\n",
    "\n",
    "Probability and Statistics\n",
    "POSITION OF RESPONSIBILITY\n",
    "\n",
    "Student coordinator of IIT Kharagpur Student Counselling Service.\n",
    "  Student member of team that conceptualized and publicized Counselling Centre in IIT Kharagpur after 5 successive suicides\n",
    "in the campus within a span of 6 months in between Feb’09 and Jul’09.\n",
    "  More than 100 students are counselled every month.\n",
    "  No mishaps in the campus as of Sep’10 after the establishment of the centre.\n",
    "  Went through Gate Keepers Training to identify behavioral change in a person.\n",
    "  Managed  the  systems  team  of  Bitwise-2010,  an  international  algorithmic  intensive  programming  contest  leading  to  the\n",
    "participation of 3000 teams across 75 countries.\n",
    "\n",
    "Family Sub-head of accommodation team in Spring Fest, 2008.\n",
    "  Head boy of my Senior Secondary School (Central Hindu School).\n",
    "e\n",
    "EXTRA CURRICULAR ACHIEVEMENTS\n",
    "  Member of Silver winning team in inter hall OPENSOFT Competition in the session 2007-08.\n",
    "  National Sports Organization: Among Top 30 students in Lawn Tennis Team at IIT Kharagpur’06. ''']\n",
    "\n",
    "for doc in nlp.pipe(text, disable=[\"tagger\", \"parser\"]):\n",
    "    print([(ent.text, ent.label_) for ent in doc.ents])"
   ],
   "metadata": {
    "collapsed": false,
    "ExecuteTime": {
     "end_time": "2023-07-24T00:34:56.617292Z",
     "start_time": "2023-07-24T00:34:54.696674Z"
    }
   }
  }
 ],
 "metadata": {
  "kernelspec": {
   "display_name": "Python 3",
   "language": "python",
   "name": "python3"
  },
  "language_info": {
   "codemirror_mode": {
    "name": "ipython",
    "version": 2
   },
   "file_extension": ".py",
   "mimetype": "text/x-python",
   "name": "python",
   "nbconvert_exporter": "python",
   "pygments_lexer": "ipython2",
   "version": "2.7.6"
  }
 },
 "nbformat": 4,
 "nbformat_minor": 0
}
