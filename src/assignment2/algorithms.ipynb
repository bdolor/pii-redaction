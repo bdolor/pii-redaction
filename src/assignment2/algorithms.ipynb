{
 "cells": [
  {
   "cell_type": "markdown",
   "source": [
    "• Viterbi probability parsing (e.g., nltk.parse.viterbi)\n",
    "• naive Bayes (e.g., nltk.classify.naivebayes)"
   ],
   "metadata": {
    "collapsed": false
   }
  },
  {
   "cell_type": "code",
   "execution_count": 30,
   "outputs": [],
   "source": [
    "import nltk"
   ],
   "metadata": {
    "collapsed": false,
    "ExecuteTime": {
     "end_time": "2023-06-30T16:04:08.447895Z",
     "start_time": "2023-06-30T16:04:08.446844Z"
    }
   }
  },
  {
   "cell_type": "markdown",
   "source": [
    "# 6. A simple demo that can show the function of the program (Viterbi Probability Parsing)\n",
    "\n",
    "## enter the python console\n",
    "`python`\n",
    "\n",
    "## import ntlk\n",
    "`import nltk`\n",
    "\n",
    "## run the demo\n",
    "`nltk.parse.viterbi.demo()`\n",
    "\n",
    "## After the prompt, enter either 1 or 2\n",
    "### Which demo (1-2)? >?\n",
    "`1`"
   ],
   "metadata": {
    "collapsed": false
   }
  },
  {
   "cell_type": "markdown",
   "source": [
    "# Sample output of nltk.parse.viterbi.demo()\n",
    "\n",
    "  1: I saw the man with my telescope\n",
    "     <Grammar with 17 productions>\n",
    "  2: the boy saw Jack with Bob under the table with a telescope\n",
    "     <Grammar with 23 productions>\n",
    "Which demo (1-2)?  >? 2\n",
    "sent: the boy saw Jack with Bob under the table with a telescope\n",
    "parser: <ViterbiParser for <Grammar with 23 productions>>\n",
    "grammar: Grammar with 23 productions (start state = S)\n",
    "    S -> NP VP [1.0]\n",
    "    VP -> V NP [0.59]\n",
    "    VP -> V [0.4]\n",
    "    VP -> VP PP [0.01]\n",
    "    NP -> Det N [0.41]\n",
    "    NP -> Name [0.28]\n",
    "    NP -> NP PP [0.31]\n",
    "    PP -> P NP [1.0]\n",
    "    V -> 'saw' [0.21]\n",
    "    V -> 'ate' [0.51]\n",
    "    V -> 'ran' [0.28]\n",
    "    N -> 'boy' [0.11]\n",
    "    N -> 'cookie' [0.12]\n",
    "    N -> 'table' [0.13]\n",
    "    N -> 'telescope' [0.14]\n",
    "    N -> 'hill' [0.5]\n",
    "    Name -> 'Jack' [0.52]\n",
    "    Name -> 'Bob' [0.48]\n",
    "    P -> 'with' [0.61]\n",
    "    P -> 'under' [0.39]\n",
    "    Det -> 'the' [0.41]\n",
    "    Det -> 'a' [0.31]\n",
    "    Det -> 'my' [0.28]\n",
    "Inserting tokens into the most likely constituents table...\n",
    "   Insert: |=...........| the\n",
    "   Insert: |.=..........| boy\n",
    "   Insert: |..=.........| saw\n",
    "   Insert: |...=........| Jack\n",
    "   Insert: |....=.......| with\n",
    "   Insert: |.....=......| Bob\n",
    "   Insert: |......=.....| under\n",
    "   Insert: |.......=....| the\n",
    "   Insert: |........=...| table\n",
    "   Insert: |.........=..| with\n",
    "   Insert: |..........=.| a\n",
    "   Insert: |...........=| telescope\n",
    "Finding the most likely constituents spanning 1 text elements...\n",
    "   Insert: |=...........| Det -> 'the' [0.41]       0.4100000000\n",
    "   Insert: |.=..........| N -> 'boy' [0.11]         0.1100000000\n",
    "   Insert: |..=.........| V -> 'saw' [0.21]         0.2100000000\n",
    "   Insert: |..=.........| VP -> V [0.4]             0.0840000000\n",
    "   Insert: |...=........| Name -> 'Jack' [0.52]     0.5200000000\n",
    "   Insert: |...=........| NP -> Name [0.28]         0.1456000000\n",
    "   Insert: |....=.......| P -> 'with' [0.61]        0.6100000000\n",
    "   Insert: |.....=......| Name -> 'Bob' [0.48]      0.4800000000\n",
    "   Insert: |.....=......| NP -> Name [0.28]         0.1344000000\n",
    "   Insert: |......=.....| P -> 'under' [0.39]       0.3900000000\n",
    "   Insert: |.......=....| Det -> 'the' [0.41]       0.4100000000\n",
    "   Insert: |........=...| N -> 'table' [0.13]       0.1300000000\n",
    "   Insert: |.........=..| P -> 'with' [0.61]        0.6100000000\n",
    "   Insert: |..........=.| Det -> 'a' [0.31]         0.3100000000\n",
    "   Insert: |...........=| N -> 'telescope' [0.14]   0.1400000000\n",
    "Finding the most likely constituents spanning 2 text elements...\n",
    "   Insert: |==..........| NP -> Det N [0.41]        0.0184910000\n",
    "   Insert: |..==........| VP -> V NP [0.59]         0.0180398400\n",
    "   Insert: |....==......| PP -> P NP [1.0]          0.0819840000\n",
    "   Insert: |.......==...| NP -> Det N [0.41]        0.0218530000\n",
    "   Insert: |..........==| NP -> Det N [0.41]        0.0177940000\n",
    "Finding the most likely constituents spanning 3 text elements...\n",
    "   Insert: |===.........| S -> NP VP [1.0]          0.0015532440\n",
    "   Insert: |...===......| NP -> NP PP [0.31]        0.0037004298\n",
    "   Insert: |......===...| PP -> P NP [1.0]          0.0085226700\n",
    "   Insert: |.........===| PP -> P NP [1.0]          0.0108543400\n",
    "Finding the most likely constituents spanning 4 text elements...\n",
    "   Insert: |====........| S -> NP VP [1.0]          0.0003335747\n",
    "   Insert: |..====......| VP -> V NP [0.59]         0.0004584833\n",
    "  Discard: |..====......| VP -> VP PP [0.01]        0.0000147898\n",
    "  Discard: |..====......| VP -> VP PP [0.01]        0.0000147898\n",
    "   Insert: |.....====...| NP -> NP PP [0.31]        0.0003550885\n",
    "Finding the most likely constituents spanning 5 text elements...\n",
    "   Insert: |....=====...| PP -> P NP [1.0]          0.0002166040\n",
    "   Insert: |.......=====| NP -> NP PP [0.31]        0.0000735320\n",
    "Finding the most likely constituents spanning 6 text elements...\n",
    "   Insert: |======......| S -> NP VP [1.0]          0.0000084778\n",
    "   Insert: |...======...| NP -> NP PP [0.31]        0.0000097766\n",
    "  Discard: |...======...| NP -> NP PP [0.31]        0.0000097766\n",
    "  Discard: |...======...| NP -> NP PP [0.31]        0.0000097766\n",
    "   Insert: |......======| PP -> P NP [1.0]          0.0000286775\n",
    "Finding the most likely constituents spanning 7 text elements...\n",
    "   Insert: |..=======...| VP -> V NP [0.59]         0.0000012113\n",
    "  Discard: |..=======...| VP -> VP PP [0.01]        0.0000000391\n",
    "  Discard: |..=======...| VP -> VP PP [0.01]        0.0000000391\n",
    "  Discard: |..=======...| VP -> VP PP [0.01]        0.0000000391\n",
    "  Discard: |..=======...| VP -> VP PP [0.01]        0.0000000391\n",
    "   Insert: |.....=======| NP -> NP PP [0.31]        0.0000011948\n",
    "   Insert: |.....=======| NP -> NP PP [0.31]        0.0000011948\n",
    "  Discard: |.....=======| NP -> NP PP [0.31]        0.0000011948\n",
    "Finding the most likely constituents spanning 8 text elements...\n",
    "   Insert: |....========| PP -> P NP [1.0]          0.0000007288\n",
    "Finding the most likely constituents spanning 9 text elements...\n",
    "   Insert: |=========...| S -> NP VP [1.0]          0.0000000224\n",
    "   Insert: |...=========| NP -> NP PP [0.31]        0.0000000329\n",
    "  Discard: |...=========| NP -> NP PP [0.31]        0.0000000329\n",
    "  Discard: |...=========| NP -> NP PP [0.31]        0.0000000329\n",
    "  Discard: |...=========| NP -> NP PP [0.31]        0.0000000329\n",
    "  Discard: |...=========| NP -> NP PP [0.31]        0.0000000329\n",
    "Finding the most likely constituents spanning 10 text elements...\n",
    "   Insert: |..==========| VP -> V NP [0.59]         0.0000000041\n",
    "  Discard: |..==========| VP -> VP PP [0.01]        0.0000000001\n",
    "  Discard: |..==========| VP -> VP PP [0.01]        0.0000000001\n",
    "  Discard: |..==========| VP -> VP PP [0.01]        0.0000000001\n",
    "  Discard: |..==========| VP -> VP PP [0.01]        0.0000000001\n",
    "  Discard: |..==========| VP -> VP PP [0.01]        0.0000000001\n",
    "  Discard: |..==========| VP -> VP PP [0.01]        0.0000000001\n",
    "Finding the most likely constituents spanning 11 text elements...\n",
    "Finding the most likely constituents spanning 12 text elements...\n",
    "   Insert: |============| S -> NP VP [1.0]          0.0000000001\n",
    "Time (secs)   # Parses   Average P(parse)\n",
    "-----------------------------------------\n",
    "     0.0074          1   0.00000000007537\n",
    "------------------------------------------\n",
    "        n/a          1   0.00000000007537"
   ],
   "metadata": {
    "collapsed": false
   }
  },
  {
   "cell_type": "markdown",
   "source": [
    "# 6. A simple demo that can show the function of the program (naive Bayes (e.g., nltk.classify.naivebayes))\n"
   ],
   "metadata": {
    "collapsed": false
   }
  }
 ],
 "metadata": {
  "kernelspec": {
   "display_name": "Python 3",
   "language": "python",
   "name": "python3"
  },
  "language_info": {
   "codemirror_mode": {
    "name": "ipython",
    "version": 2
   },
   "file_extension": ".py",
   "mimetype": "text/x-python",
   "name": "python",
   "nbconvert_exporter": "python",
   "pygments_lexer": "ipython2",
   "version": "2.7.6"
  }
 },
 "nbformat": 4,
 "nbformat_minor": 0
}
